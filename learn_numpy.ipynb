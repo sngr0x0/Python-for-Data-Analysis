{
  "nbformat": 4,
  "nbformat_minor": 0,
  "metadata": {
    "colab": {
      "provenance": []
    },
    "kernelspec": {
      "name": "python3",
      "display_name": "Python 3"
    },
    "language_info": {
      "name": "python"
    }
  },
  "cells": [
    {
      "cell_type": "code",
      "execution_count": 193,
      "metadata": {
        "id": "9L6lIF_6r9AY"
      },
      "outputs": [],
      "source": [
        "import numpy as np"
      ]
    },
    {
      "cell_type": "code",
      "source": [
        "# Create an array from 0 to 5 - 1\n",
        "numpy_arr = np.arange(5)\n",
        "numpy_arr"
      ],
      "metadata": {
        "colab": {
          "base_uri": "https://localhost:8080/"
        },
        "id": "6zv3wm_Lr-e4",
        "outputId": "9a6ef446-e3cc-45a7-e1c0-1b57f596a7b7"
      },
      "execution_count": 194,
      "outputs": [
        {
          "output_type": "execute_result",
          "data": {
            "text/plain": [
              "array([0, 1, 2, 3, 4])"
            ]
          },
          "metadata": {},
          "execution_count": 194
        }
      ]
    },
    {
      "cell_type": "code",
      "source": [
        "# 1D array\n",
        "numpy_arr_1 = np.array([1,2,3])\n",
        "numpy_arr_1"
      ],
      "metadata": {
        "colab": {
          "base_uri": "https://localhost:8080/"
        },
        "id": "7awz6mA_sUSW",
        "outputId": "8830dd98-7972-41d8-ecfe-3182ecd9532f"
      },
      "execution_count": 195,
      "outputs": [
        {
          "output_type": "execute_result",
          "data": {
            "text/plain": [
              "array([1, 2, 3])"
            ]
          },
          "metadata": {},
          "execution_count": 195
        }
      ]
    },
    {
      "cell_type": "code",
      "source": [
        "type(numpy_arr_1)"
      ],
      "metadata": {
        "colab": {
          "base_uri": "https://localhost:8080/"
        },
        "id": "gub3PX5WuuYR",
        "outputId": "56a91b60-6d6c-4513-f2dc-95382ed987fc"
      },
      "execution_count": 196,
      "outputs": [
        {
          "output_type": "execute_result",
          "data": {
            "text/plain": [
              "numpy.ndarray"
            ]
          },
          "metadata": {},
          "execution_count": 196
        }
      ]
    },
    {
      "cell_type": "code",
      "source": [
        "# 2D array\n",
        "numpy_arr_2 = np.array([[1,2,3], [4,5,6], [7,8,9]])\n",
        "numpy_arr_2"
      ],
      "metadata": {
        "colab": {
          "base_uri": "https://localhost:8080/"
        },
        "id": "-5rPEfIDsxmU",
        "outputId": "5f4384fb-605b-459f-d2b2-fc95ef78c0a5"
      },
      "execution_count": 197,
      "outputs": [
        {
          "output_type": "execute_result",
          "data": {
            "text/plain": [
              "array([[1, 2, 3],\n",
              "       [4, 5, 6],\n",
              "       [7, 8, 9]])"
            ]
          },
          "metadata": {},
          "execution_count": 197
        }
      ]
    },
    {
      "cell_type": "code",
      "source": [
        "type(numpy_arr_2)"
      ],
      "metadata": {
        "colab": {
          "base_uri": "https://localhost:8080/"
        },
        "id": "UuabNSo2u17V",
        "outputId": "7282e32b-1678-42e4-801e-9c087677813f"
      },
      "execution_count": 198,
      "outputs": [
        {
          "output_type": "execute_result",
          "data": {
            "text/plain": [
              "numpy.ndarray"
            ]
          },
          "metadata": {},
          "execution_count": 198
        }
      ]
    },
    {
      "cell_type": "code",
      "source": [
        "# Scalar Multiplication\n",
        "numpy_arr_2 * 3"
      ],
      "metadata": {
        "colab": {
          "base_uri": "https://localhost:8080/"
        },
        "id": "qR4nOXZrs89W",
        "outputId": "3a16653c-ba0c-4f0e-bb28-ca20f02f1ea4"
      },
      "execution_count": 199,
      "outputs": [
        {
          "output_type": "execute_result",
          "data": {
            "text/plain": [
              "array([[ 3,  6,  9],\n",
              "       [12, 15, 18],\n",
              "       [21, 24, 27]])"
            ]
          },
          "metadata": {},
          "execution_count": 199
        }
      ]
    },
    {
      "cell_type": "code",
      "source": [
        "# Scalar Summation\n",
        "numpy_arr_2 + 10"
      ],
      "metadata": {
        "colab": {
          "base_uri": "https://localhost:8080/"
        },
        "id": "nMZ4mjOJtvAu",
        "outputId": "57ffe26a-9ed1-4833-e429-f3adb629339a"
      },
      "execution_count": 200,
      "outputs": [
        {
          "output_type": "execute_result",
          "data": {
            "text/plain": [
              "array([[11, 12, 13],\n",
              "       [14, 15, 16],\n",
              "       [17, 18, 19]])"
            ]
          },
          "metadata": {},
          "execution_count": 200
        }
      ]
    },
    {
      "cell_type": "code",
      "source": [
        "# The array elements must be HOMOGENEOUS; we got a list obj and an int which are different\n",
        "numpy_arr_3 = np.array([[1,'a',3], 5])\n",
        "numpy_arr_3"
      ],
      "metadata": {
        "colab": {
          "base_uri": "https://localhost:8080/",
          "height": 176
        },
        "id": "BvQaC87NvHyu",
        "outputId": "6dce90eb-9d96-467c-9bb0-dd96aab5c322"
      },
      "execution_count": 224,
      "outputs": [
        {
          "output_type": "error",
          "ename": "ValueError",
          "evalue": "setting an array element with a sequence. The requested array has an inhomogeneous shape after 1 dimensions. The detected shape was (2,) + inhomogeneous part.",
          "traceback": [
            "\u001b[0;31m---------------------------------------------------------------------------\u001b[0m",
            "\u001b[0;31mValueError\u001b[0m                                Traceback (most recent call last)",
            "\u001b[0;32m<ipython-input-224-c3b225abd218>\u001b[0m in \u001b[0;36m<cell line: 0>\u001b[0;34m()\u001b[0m\n\u001b[1;32m      1\u001b[0m \u001b[0;31m# The array elements must be HOMOGENEOUS; we got a list obj and an int which are different\u001b[0m\u001b[0;34m\u001b[0m\u001b[0;34m\u001b[0m\u001b[0m\n\u001b[0;32m----> 2\u001b[0;31m \u001b[0mnumpy_arr_3\u001b[0m \u001b[0;34m=\u001b[0m \u001b[0mnp\u001b[0m\u001b[0;34m.\u001b[0m\u001b[0marray\u001b[0m\u001b[0;34m(\u001b[0m\u001b[0;34m[\u001b[0m\u001b[0;34m[\u001b[0m\u001b[0;36m1\u001b[0m\u001b[0;34m,\u001b[0m\u001b[0;34m'a'\u001b[0m\u001b[0;34m,\u001b[0m\u001b[0;36m3\u001b[0m\u001b[0;34m]\u001b[0m\u001b[0;34m,\u001b[0m \u001b[0;36m5\u001b[0m\u001b[0;34m]\u001b[0m\u001b[0;34m)\u001b[0m\u001b[0;34m\u001b[0m\u001b[0;34m\u001b[0m\u001b[0m\n\u001b[0m\u001b[1;32m      3\u001b[0m \u001b[0mnumpy_arr_3\u001b[0m\u001b[0;34m\u001b[0m\u001b[0;34m\u001b[0m\u001b[0m\n",
            "\u001b[0;31mValueError\u001b[0m: setting an array element with a sequence. The requested array has an inhomogeneous shape after 1 dimensions. The detected shape was (2,) + inhomogeneous part."
          ]
        }
      ]
    },
    {
      "cell_type": "code",
      "source": [
        "# Each numpy array has a shape & dtype attributes\n",
        "print(numpy_arr_2.shape)\n",
        "\n",
        "print(numpy_arr_2.dtype)"
      ],
      "metadata": {
        "id": "exkHh3Jlvun-",
        "colab": {
          "base_uri": "https://localhost:8080/"
        },
        "outputId": "5cfcd490-eb63-4769-a704-8635272b9e89"
      },
      "execution_count": 225,
      "outputs": [
        {
          "output_type": "stream",
          "name": "stdout",
          "text": [
            "(3, 3)\n",
            "int64\n"
          ]
        }
      ]
    },
    {
      "cell_type": "code",
      "source": [
        "# This isn't related to numpy, but I just wanted to try\n",
        "# what's gonna happen if we tried to zip 2 lists of different size.\n",
        "x = [1,2,3]\n",
        "y = [4,5,6,7,8]\n",
        "for i,j in zip(x,y):\n",
        "  print(i, j)\n",
        "# Anyways"
      ],
      "metadata": {
        "id": "xW2dqzrzwc5G",
        "colab": {
          "base_uri": "https://localhost:8080/"
        },
        "outputId": "45230cc4-5014-4daa-c951-3918a9289b7a"
      },
      "execution_count": 226,
      "outputs": [
        {
          "output_type": "stream",
          "name": "stdout",
          "text": [
            "1 4\n",
            "2 5\n",
            "3 6\n"
          ]
        }
      ]
    },
    {
      "cell_type": "markdown",
      "source": [
        "### `np.array()`\n",
        "\n",
        "* **Always creates a new array**.\n",
        "* Copies the data **by default**, even if the input is already a NumPy array (unless you explicitly set `copy=False`).\n",
        "\n",
        "```python\n",
        "import numpy as np\n",
        "\n",
        "a = np.array([1, 2, 3])\n",
        "b = np.array(a)  # b is a copy of a\n",
        "b[0] = 99\n",
        "print(a)  # a is unchanged\n",
        "```\n",
        "\n",
        "---\n",
        "\n",
        "### `np.asarray()`\n",
        "\n",
        "* Converts the input to a NumPy array **if it's not already one**.\n",
        "* **Does NOT copy** the data if the input is already a NumPy array (or something very close, like a subclass).\n",
        "\n",
        "```python\n",
        "a = np.array([1, 2, 3])\n",
        "b = np.asarray(a)  # b is a view of a (no copy)\n",
        "b[0] = 99\n",
        "print(a)  # a is changed!\n",
        "```\n",
        "\n",
        "---\n",
        "\n",
        "### Summary Table\n",
        "\n",
        "| Function       | Copies Data?          | Purpose                                     |\n",
        "| -------------- | --------------------- | ------------------------------------------- |\n",
        "| `np.array()`   | Yes (by default)      | Always returns a **new array**              |\n",
        "| `np.asarray()` | No (if already array) | Converts input to array **without copying** |\n",
        "\n",
        "---\n",
        "\n",
        "### When to Use What?\n",
        "\n",
        "* Use **`np.array()`** when you **want a new, independent array**.\n",
        "* Use **`np.asarray()`** when you're working with inputs that **might already be arrays**, and you want to **avoid unnecessary copies** for performance."
      ],
      "metadata": {
        "id": "P0TrZIpJz9z1"
      }
    },
    {
      "cell_type": "code",
      "source": [
        "# np.asarray()\n",
        "a = np.array([1, 2, 3])\n",
        "b = np.asarray(a)  # b is a view of a (no copy)\n",
        "b[0] = 99\n",
        "print(a)  # a is changed!"
      ],
      "metadata": {
        "colab": {
          "base_uri": "https://localhost:8080/"
        },
        "id": "WZb2hLQUwx1e",
        "outputId": "4d4e42cc-f5cb-43d0-a120-9e8d1b711625"
      },
      "execution_count": 227,
      "outputs": [
        {
          "output_type": "stream",
          "name": "stdout",
          "text": [
            "[99  2  3]\n"
          ]
        }
      ]
    },
    {
      "cell_type": "code",
      "source": [
        "# Notice the floating point; type is \"float\" by default\n",
        "ones_arr = np.ones((2,2))\n",
        "ones_arr"
      ],
      "metadata": {
        "colab": {
          "base_uri": "https://localhost:8080/"
        },
        "id": "RbvTCwml0a2W",
        "outputId": "fd96c708-b2aa-485e-ad60-dabd2157b2a6"
      },
      "execution_count": 228,
      "outputs": [
        {
          "output_type": "execute_result",
          "data": {
            "text/plain": [
              "array([[1., 1.],\n",
              "       [1., 1.]])"
            ]
          },
          "metadata": {},
          "execution_count": 228
        }
      ]
    },
    {
      "cell_type": "code",
      "source": [
        "ones_arr_1 = np.ones((2,2)).astype(int)\n",
        "ones_arr_1"
      ],
      "metadata": {
        "colab": {
          "base_uri": "https://localhost:8080/"
        },
        "id": "lcdyWczE0kll",
        "outputId": "24b181b3-bf02-4463-f326-03fbc5f0521b"
      },
      "execution_count": 229,
      "outputs": [
        {
          "output_type": "execute_result",
          "data": {
            "text/plain": [
              "array([[1, 1],\n",
              "       [1, 1]])"
            ]
          },
          "metadata": {},
          "execution_count": 229
        }
      ]
    },
    {
      "cell_type": "code",
      "source": [
        "# Creates a ones array with a shape similar to the \"a\" array\n",
        "ones_arr_2 = np.ones_like(a).astype(int)\n",
        "ones_arr_2"
      ],
      "metadata": {
        "colab": {
          "base_uri": "https://localhost:8080/"
        },
        "id": "x7_vewxZ0umV",
        "outputId": "d2d8ff46-e75f-49ff-9bec-82609804fb74"
      },
      "execution_count": 230,
      "outputs": [
        {
          "output_type": "execute_result",
          "data": {
            "text/plain": [
              "array([1, 1, 1])"
            ]
          },
          "metadata": {},
          "execution_count": 230
        }
      ]
    },
    {
      "cell_type": "code",
      "source": [
        "# Notice the floating point; type is \"float\" by default\n",
        "zeros_arr = np.zeros((2,2))\n",
        "zeros_arr"
      ],
      "metadata": {
        "colab": {
          "base_uri": "https://localhost:8080/"
        },
        "id": "CMc8VLCG08Qd",
        "outputId": "f833af95-e22c-4e00-b1df-ed834d11962b"
      },
      "execution_count": 231,
      "outputs": [
        {
          "output_type": "execute_result",
          "data": {
            "text/plain": [
              "array([[0., 0.],\n",
              "       [0., 0.]])"
            ]
          },
          "metadata": {},
          "execution_count": 231
        }
      ]
    },
    {
      "cell_type": "code",
      "source": [
        "zeros_arr_1 = np.zeros_like(a)\n",
        "zeros_arr_1"
      ],
      "metadata": {
        "colab": {
          "base_uri": "https://localhost:8080/"
        },
        "id": "ARmvxQoe15au",
        "outputId": "64cf9808-2e1c-4d17-9887-d607bd09e5c3"
      },
      "execution_count": 232,
      "outputs": [
        {
          "output_type": "execute_result",
          "data": {
            "text/plain": [
              "array([0, 0, 0])"
            ]
          },
          "metadata": {},
          "execution_count": 232
        }
      ]
    },
    {
      "cell_type": "code",
      "source": [
        "full_arr = np.full((3,3), 'a')\n",
        "full_arr"
      ],
      "metadata": {
        "colab": {
          "base_uri": "https://localhost:8080/"
        },
        "id": "IdZaQ7N32Cn1",
        "outputId": "fb6dd915-836d-4257-c662-a5b9975a8269"
      },
      "execution_count": 233,
      "outputs": [
        {
          "output_type": "execute_result",
          "data": {
            "text/plain": [
              "array([['a', 'a', 'a'],\n",
              "       ['a', 'a', 'a'],\n",
              "       ['a', 'a', 'a']], dtype='<U1')"
            ]
          },
          "metadata": {},
          "execution_count": 233
        }
      ]
    },
    {
      "cell_type": "code",
      "source": [
        "# This cell is erroneous cuz I'm trying to create an array filled with 'a'\n",
        "# but the array I'm copying its features (a) has dtype = int\n",
        "# To bypass this, I need to modify the dtype manually..\n",
        "# Note that the default value for the dtype parameter is the same as the\n",
        "# dtype of the array that I'm copying its features like shape and dtype.\n",
        "full_arr_1 = np.full_like(a, 'a')\n",
        "full_arr_1"
      ],
      "metadata": {
        "colab": {
          "base_uri": "https://localhost:8080/",
          "height": 315
        },
        "id": "KBohU3432UM1",
        "outputId": "f1333bb9-f36c-421e-a742-f73990b8939d"
      },
      "execution_count": 234,
      "outputs": [
        {
          "output_type": "error",
          "ename": "ValueError",
          "evalue": "invalid literal for int() with base 10: np.str_('a')",
          "traceback": [
            "\u001b[0;31m---------------------------------------------------------------------------\u001b[0m",
            "\u001b[0;31mValueError\u001b[0m                                Traceback (most recent call last)",
            "\u001b[0;32m<ipython-input-234-a3aef2061544>\u001b[0m in \u001b[0;36m<cell line: 0>\u001b[0;34m()\u001b[0m\n\u001b[1;32m      4\u001b[0m \u001b[0;31m# Note that the default value for the dtype parameter is the same as the\u001b[0m\u001b[0;34m\u001b[0m\u001b[0;34m\u001b[0m\u001b[0m\n\u001b[1;32m      5\u001b[0m \u001b[0;31m# dtype of the array that I'm copying its features like shape and dtype.\u001b[0m\u001b[0;34m\u001b[0m\u001b[0;34m\u001b[0m\u001b[0m\n\u001b[0;32m----> 6\u001b[0;31m \u001b[0mfull_arr_1\u001b[0m \u001b[0;34m=\u001b[0m \u001b[0mnp\u001b[0m\u001b[0;34m.\u001b[0m\u001b[0mfull_like\u001b[0m\u001b[0;34m(\u001b[0m\u001b[0ma\u001b[0m\u001b[0;34m,\u001b[0m \u001b[0;34m'a'\u001b[0m\u001b[0;34m)\u001b[0m\u001b[0;34m\u001b[0m\u001b[0;34m\u001b[0m\u001b[0m\n\u001b[0m\u001b[1;32m      7\u001b[0m \u001b[0mfull_arr_1\u001b[0m\u001b[0;34m\u001b[0m\u001b[0;34m\u001b[0m\u001b[0m\n",
            "\u001b[0;32m/usr/local/lib/python3.11/dist-packages/numpy/_core/numeric.py\u001b[0m in \u001b[0;36mfull_like\u001b[0;34m(a, fill_value, dtype, order, subok, shape, device)\u001b[0m\n\u001b[1;32m    450\u001b[0m         \u001b[0ma\u001b[0m\u001b[0;34m,\u001b[0m \u001b[0mdtype\u001b[0m\u001b[0;34m=\u001b[0m\u001b[0mdtype\u001b[0m\u001b[0;34m,\u001b[0m \u001b[0morder\u001b[0m\u001b[0;34m=\u001b[0m\u001b[0morder\u001b[0m\u001b[0;34m,\u001b[0m \u001b[0msubok\u001b[0m\u001b[0;34m=\u001b[0m\u001b[0msubok\u001b[0m\u001b[0;34m,\u001b[0m \u001b[0mshape\u001b[0m\u001b[0;34m=\u001b[0m\u001b[0mshape\u001b[0m\u001b[0;34m,\u001b[0m \u001b[0mdevice\u001b[0m\u001b[0;34m=\u001b[0m\u001b[0mdevice\u001b[0m\u001b[0;34m\u001b[0m\u001b[0;34m\u001b[0m\u001b[0m\n\u001b[1;32m    451\u001b[0m     )\n\u001b[0;32m--> 452\u001b[0;31m     \u001b[0mmultiarray\u001b[0m\u001b[0;34m.\u001b[0m\u001b[0mcopyto\u001b[0m\u001b[0;34m(\u001b[0m\u001b[0mres\u001b[0m\u001b[0;34m,\u001b[0m \u001b[0mfill_value\u001b[0m\u001b[0;34m,\u001b[0m \u001b[0mcasting\u001b[0m\u001b[0;34m=\u001b[0m\u001b[0;34m'unsafe'\u001b[0m\u001b[0;34m)\u001b[0m\u001b[0;34m\u001b[0m\u001b[0;34m\u001b[0m\u001b[0m\n\u001b[0m\u001b[1;32m    453\u001b[0m     \u001b[0;32mreturn\u001b[0m \u001b[0mres\u001b[0m\u001b[0;34m\u001b[0m\u001b[0;34m\u001b[0m\u001b[0m\n\u001b[1;32m    454\u001b[0m \u001b[0;34m\u001b[0m\u001b[0m\n",
            "\u001b[0;31mValueError\u001b[0m: invalid literal for int() with base 10: np.str_('a')"
          ]
        }
      ]
    },
    {
      "cell_type": "code",
      "source": [
        "full_arr_1 = np.full_like(a, 'a', dtype='str')\n",
        "full_arr_1"
      ],
      "metadata": {
        "colab": {
          "base_uri": "https://localhost:8080/"
        },
        "id": "-R6ghgeV2dD-",
        "outputId": "2c0be827-e7bb-4dc0-98b8-0a260c811bc4"
      },
      "execution_count": 235,
      "outputs": [
        {
          "output_type": "execute_result",
          "data": {
            "text/plain": [
              "array(['a', 'a', 'a'], dtype='<U1')"
            ]
          },
          "metadata": {},
          "execution_count": 235
        }
      ]
    },
    {
      "cell_type": "code",
      "source": [
        "# Create a 3 by 3 identity matrix\n",
        "eye = np.eye(3).astype(int)\n",
        "eye"
      ],
      "metadata": {
        "colab": {
          "base_uri": "https://localhost:8080/"
        },
        "id": "ootlA4f13g5G",
        "outputId": "7544f5da-bc46-40e4-ae47-638b231250d4"
      },
      "execution_count": 236,
      "outputs": [
        {
          "output_type": "execute_result",
          "data": {
            "text/plain": [
              "array([[1, 0, 0],\n",
              "       [0, 1, 0],\n",
              "       [0, 0, 1]])"
            ]
          },
          "metadata": {},
          "execution_count": 236
        }
      ]
    },
    {
      "cell_type": "code",
      "source": [
        "# Create a 3 by 3 identity matrix\n",
        "identity = np.identity(3).astype(int)\n",
        "identity"
      ],
      "metadata": {
        "colab": {
          "base_uri": "https://localhost:8080/"
        },
        "id": "fx7nLSaS3rMW",
        "outputId": "727d3f9b-43cf-45b5-d996-22cf9eb77d14"
      },
      "execution_count": 237,
      "outputs": [
        {
          "output_type": "execute_result",
          "data": {
            "text/plain": [
              "array([[1, 0, 0],\n",
              "       [0, 1, 0],\n",
              "       [0, 0, 1]])"
            ]
          },
          "metadata": {},
          "execution_count": 237
        }
      ]
    },
    {
      "cell_type": "markdown",
      "source": [
        "Instead of using astype() method, we can directly use the dtype parameter.\n",
        "\n",
        "The numerical data types are named the same way: a type name, like float or\n",
        "int, followed by a number indicating the number of bits per element."
      ],
      "metadata": {
        "id": "jP4BBt5H3Vq2"
      }
    },
    {
      "cell_type": "code",
      "source": [
        "arr_1 = np.array([1,2,3], dtype=np.float64)\n",
        "print(arr_1)\n",
        "\n",
        "arr_2 = np.array([1,2,3], dtype=np.int32)\n",
        "print(arr_2)\n",
        "\n",
        "# This line below is incorrect. Make sure that you use the one amont the numpy datatypes:\n",
        "# The general types are int, float, complex => followed by the number of bits needed,\n",
        "# and other types like bool, string_, unicode_, and object which means that the data can be any possible python object\n",
        "arr_3 = np.array([1,2,3], dtype=np.int)\n",
        "print(arr_3)"
      ],
      "metadata": {
        "id": "x5Fwd7mz3yVN",
        "colab": {
          "base_uri": "https://localhost:8080/",
          "height": 419
        },
        "outputId": "c740fa07-3225-435e-9931-0504bf80d06c"
      },
      "execution_count": 238,
      "outputs": [
        {
          "output_type": "stream",
          "name": "stdout",
          "text": [
            "[1. 2. 3.]\n",
            "[1 2 3]\n"
          ]
        },
        {
          "output_type": "error",
          "ename": "AttributeError",
          "evalue": "module 'numpy' has no attribute 'int'.\n`np.int` was a deprecated alias for the builtin `int`. To avoid this error in existing code, use `int` by itself. Doing this will not modify any behavior and is safe. When replacing `np.int`, you may wish to use e.g. `np.int64` or `np.int32` to specify the precision. If you wish to review your current use, check the release note link for additional information.\nThe aliases was originally deprecated in NumPy 1.20; for more details and guidance see the original release note at:\n    https://numpy.org/devdocs/release/1.20.0-notes.html#deprecations",
          "traceback": [
            "\u001b[0;31m---------------------------------------------------------------------------\u001b[0m",
            "\u001b[0;31mAttributeError\u001b[0m                            Traceback (most recent call last)",
            "\u001b[0;32m<ipython-input-238-246d6aa8a0ca>\u001b[0m in \u001b[0;36m<cell line: 0>\u001b[0;34m()\u001b[0m\n\u001b[1;32m      8\u001b[0m \u001b[0;31m# The general types are int, float, complex => followed by the number of bits needed,\u001b[0m\u001b[0;34m\u001b[0m\u001b[0;34m\u001b[0m\u001b[0m\n\u001b[1;32m      9\u001b[0m \u001b[0;31m# and other types like bool, string_, unicode_, and object which means that the data can be any possible python object\u001b[0m\u001b[0;34m\u001b[0m\u001b[0;34m\u001b[0m\u001b[0m\n\u001b[0;32m---> 10\u001b[0;31m \u001b[0marr_3\u001b[0m \u001b[0;34m=\u001b[0m \u001b[0mnp\u001b[0m\u001b[0;34m.\u001b[0m\u001b[0marray\u001b[0m\u001b[0;34m(\u001b[0m\u001b[0;34m[\u001b[0m\u001b[0;36m1\u001b[0m\u001b[0;34m,\u001b[0m\u001b[0;36m2\u001b[0m\u001b[0;34m,\u001b[0m\u001b[0;36m3\u001b[0m\u001b[0;34m]\u001b[0m\u001b[0;34m,\u001b[0m \u001b[0mdtype\u001b[0m\u001b[0;34m=\u001b[0m\u001b[0mnp\u001b[0m\u001b[0;34m.\u001b[0m\u001b[0mint\u001b[0m\u001b[0;34m)\u001b[0m\u001b[0;34m\u001b[0m\u001b[0;34m\u001b[0m\u001b[0m\n\u001b[0m\u001b[1;32m     11\u001b[0m \u001b[0mprint\u001b[0m\u001b[0;34m(\u001b[0m\u001b[0marr_3\u001b[0m\u001b[0;34m)\u001b[0m\u001b[0;34m\u001b[0m\u001b[0;34m\u001b[0m\u001b[0m\n",
            "\u001b[0;32m/usr/local/lib/python3.11/dist-packages/numpy/__init__.py\u001b[0m in \u001b[0;36m__getattr__\u001b[0;34m(attr)\u001b[0m\n\u001b[1;32m    392\u001b[0m \u001b[0;34m\u001b[0m\u001b[0m\n\u001b[1;32m    393\u001b[0m         \u001b[0;32mif\u001b[0m \u001b[0mattr\u001b[0m \u001b[0;32min\u001b[0m \u001b[0m__former_attrs__\u001b[0m\u001b[0;34m:\u001b[0m\u001b[0;34m\u001b[0m\u001b[0;34m\u001b[0m\u001b[0m\n\u001b[0;32m--> 394\u001b[0;31m             \u001b[0;32mraise\u001b[0m \u001b[0mAttributeError\u001b[0m\u001b[0;34m(\u001b[0m\u001b[0m__former_attrs__\u001b[0m\u001b[0;34m[\u001b[0m\u001b[0mattr\u001b[0m\u001b[0;34m]\u001b[0m\u001b[0;34m)\u001b[0m\u001b[0;34m\u001b[0m\u001b[0;34m\u001b[0m\u001b[0m\n\u001b[0m\u001b[1;32m    395\u001b[0m \u001b[0;34m\u001b[0m\u001b[0m\n\u001b[1;32m    396\u001b[0m         \u001b[0;32mif\u001b[0m \u001b[0mattr\u001b[0m \u001b[0;32min\u001b[0m \u001b[0m__expired_attributes__\u001b[0m\u001b[0;34m:\u001b[0m\u001b[0;34m\u001b[0m\u001b[0;34m\u001b[0m\u001b[0m\n",
            "\u001b[0;31mAttributeError\u001b[0m: module 'numpy' has no attribute 'int'.\n`np.int` was a deprecated alias for the builtin `int`. To avoid this error in existing code, use `int` by itself. Doing this will not modify any behavior and is safe. When replacing `np.int`, you may wish to use e.g. `np.int64` or `np.int32` to specify the precision. If you wish to review your current use, check the release note link for additional information.\nThe aliases was originally deprecated in NumPy 1.20; for more details and guidance see the original release note at:\n    https://numpy.org/devdocs/release/1.20.0-notes.html#deprecations"
          ]
        }
      ]
    },
    {
      "cell_type": "markdown",
      "source": [
        "## Vectorization:\n",
        "The ability to perform batch operations on array's data without having to write a for loop."
      ],
      "metadata": {
        "id": "QOyjKFe07jQo"
      }
    },
    {
      "cell_type": "code",
      "source": [
        "arr = np.array([[1,2,3],[4,5,6]])\n",
        "arr * arr"
      ],
      "metadata": {
        "colab": {
          "base_uri": "https://localhost:8080/"
        },
        "id": "2Qq1Wwyi3hOA",
        "outputId": "968c3998-d3cc-41fe-f558-746d4bfa8c3a"
      },
      "execution_count": 239,
      "outputs": [
        {
          "output_type": "execute_result",
          "data": {
            "text/plain": [
              "array([[ 1,  4,  9],\n",
              "       [16, 25, 36]])"
            ]
          },
          "metadata": {},
          "execution_count": 239
        }
      ]
    },
    {
      "cell_type": "code",
      "source": [
        "arr - arr"
      ],
      "metadata": {
        "colab": {
          "base_uri": "https://localhost:8080/"
        },
        "id": "idOuFCAZ7_pQ",
        "outputId": "4d37307f-5325-48a6-b9f4-be5acadc45a3"
      },
      "execution_count": 240,
      "outputs": [
        {
          "output_type": "execute_result",
          "data": {
            "text/plain": [
              "array([[0, 0, 0],\n",
              "       [0, 0, 0]])"
            ]
          },
          "metadata": {},
          "execution_count": 240
        }
      ]
    },
    {
      "cell_type": "code",
      "source": [
        "1/arr"
      ],
      "metadata": {
        "colab": {
          "base_uri": "https://localhost:8080/"
        },
        "id": "NT7Ggvf18A4g",
        "outputId": "84e9ff6a-1906-4f63-9f0a-cb5140130f64"
      },
      "execution_count": 241,
      "outputs": [
        {
          "output_type": "execute_result",
          "data": {
            "text/plain": [
              "array([[1.        , 0.5       , 0.33333333],\n",
              "       [0.25      , 0.2       , 0.16666667]])"
            ]
          },
          "metadata": {},
          "execution_count": 241
        }
      ]
    },
    {
      "cell_type": "code",
      "source": [
        "arr/5"
      ],
      "metadata": {
        "colab": {
          "base_uri": "https://localhost:8080/"
        },
        "id": "Nynpp7wK8CU_",
        "outputId": "05b7bd6e-06a9-4852-b422-4bc0f62fc029"
      },
      "execution_count": 242,
      "outputs": [
        {
          "output_type": "execute_result",
          "data": {
            "text/plain": [
              "array([[0.2, 0.4, 0.6],\n",
              "       [0.8, 1. , 1.2]])"
            ]
          },
          "metadata": {},
          "execution_count": 242
        }
      ]
    },
    {
      "cell_type": "code",
      "source": [
        "arr ** 2"
      ],
      "metadata": {
        "colab": {
          "base_uri": "https://localhost:8080/"
        },
        "id": "KZ6ltjjG8D9f",
        "outputId": "12a9a38c-1e03-425f-e56e-0e3adbee22d9"
      },
      "execution_count": 243,
      "outputs": [
        {
          "output_type": "execute_result",
          "data": {
            "text/plain": [
              "array([[ 1,  4,  9],\n",
              "       [16, 25, 36]])"
            ]
          },
          "metadata": {},
          "execution_count": 243
        }
      ]
    },
    {
      "cell_type": "code",
      "source": [
        "arr_2 = np.array([[-1,2,-3],[4,-5,6]])\n",
        "arr_1 > arr_2"
      ],
      "metadata": {
        "colab": {
          "base_uri": "https://localhost:8080/"
        },
        "id": "LzWELJDw8KcP",
        "outputId": "af283df4-8794-4159-b3e9-3655731f15ed"
      },
      "execution_count": 244,
      "outputs": [
        {
          "output_type": "execute_result",
          "data": {
            "text/plain": [
              "array([[ True, False,  True],\n",
              "       [False,  True, False]])"
            ]
          },
          "metadata": {},
          "execution_count": 244
        }
      ]
    },
    {
      "cell_type": "markdown",
      "source": [
        "### Indexing & Slicing:\n",
        "One-dimensional arrays act similarly to Python lists"
      ],
      "metadata": {
        "id": "k1ZTMEVb9kqf"
      }
    },
    {
      "cell_type": "code",
      "source": [
        "arr_1 = np.arange(11)\n",
        "print(arr_1[:]) # The whole array\n",
        "print(arr_1[4:]) # From index 4 to the end\n",
        "print(arr_1[:4]) # From index 0 to index 4-1\n",
        "print(arr_1[::2]) # From index 0 to the end, index is incremented by 2\n",
        "print(arr_1[::-1]) # From the end to index 0\n",
        "print(arr_1[::-2]) # From the end to index 0, index is decremented by 2\n",
        "print(arr_1[5::-1]) # From index 5 to the start\n",
        "print(arr_1[5::-2]) # From index 5 to the start, index is decremented by 2\n",
        "\n",
        "print()\n",
        "print()\n",
        "print()\n",
        "\n",
        "# This one below prints an empty string. WHY?\n",
        "# 2nd boundary must be lower than first boundary.\n",
        "# Since we're going in reverse order, we must start from a higher index\n",
        "# and end in a smaller index, e.g. from index 5 to index 3.\n",
        "print(arr_1[5:8:-1])\n",
        "print(arr_1[5:3:-1])\n",
        "print(arr_1[3:1:-1])"
      ],
      "metadata": {
        "colab": {
          "base_uri": "https://localhost:8080/"
        },
        "id": "Qk8dToEW8Vso",
        "outputId": "a1b14217-0d09-40c5-8451-f4e8b573d1bf"
      },
      "execution_count": 245,
      "outputs": [
        {
          "output_type": "stream",
          "name": "stdout",
          "text": [
            "[ 0  1  2  3  4  5  6  7  8  9 10]\n",
            "[ 4  5  6  7  8  9 10]\n",
            "[0 1 2 3]\n",
            "[ 0  2  4  6  8 10]\n",
            "[10  9  8  7  6  5  4  3  2  1  0]\n",
            "[10  8  6  4  2  0]\n",
            "[5 4 3 2 1 0]\n",
            "[5 3 1]\n",
            "\n",
            "\n",
            "\n",
            "[]\n",
            "[5 4]\n",
            "[3 2]\n"
          ]
        }
      ]
    },
    {
      "cell_type": "markdown",
      "source": [
        "You can assign a scalar value to a slice!\n",
        "\n",
        "__Array slicces are views to the original array & changing them will reflect on the original array__\n",
        "<br>\n",
        "-----------------------------------\n",
        "<br>\n",
        "<br>\n",
        "If you want a copy of a slice of an ndarray instead of a view, you will need to explicitly copy the array—for example:\n",
        "\n",
        "```python\n",
        "arr[5:8].copy()\n"
      ],
      "metadata": {
        "id": "GClybjMDBvf3"
      }
    },
    {
      "cell_type": "code",
      "source": [
        "print(arr_1)\n",
        "arr_slice = arr_1[4:8]\n",
        "arr_slice[:] = 4\n",
        "print(arr_1)\n",
        "arr_slice[1] = 248\n",
        "print(arr_1)"
      ],
      "metadata": {
        "colab": {
          "base_uri": "https://localhost:8080/"
        },
        "id": "qnlxjtxhArKH",
        "outputId": "6d6e2a14-27ce-4e17-c89c-4108cf71bdf0"
      },
      "execution_count": 246,
      "outputs": [
        {
          "output_type": "stream",
          "name": "stdout",
          "text": [
            "[ 0  1  2  3  4  5  6  7  8  9 10]\n",
            "[ 0  1  2  3  4  4  4  4  8  9 10]\n",
            "[  0   1   2   3   4 248   4   4   8   9  10]\n"
          ]
        }
      ]
    },
    {
      "cell_type": "code",
      "source": [
        "arr2d = np.array([[1, 2, 3], [4, 5, 6], [7, 8, 9]])\n",
        "\n",
        "print(arr2d[0][1]) # => 2\n",
        "print(arr2d[0, 1]) # => 2; this would only work in numpy\n",
        "print(arr2d[0][:2]) # => Slicing the first sub-array\n",
        "print(arr2d[1][::-1])\n",
        "print()\n",
        "print(arr2d[0:2]) # Slicing the 2D array\n",
        "print()\n",
        "print(arr2d[2:1:-1]) # From index 2 to index 1 and index 1 isn't included\n",
        "print()\n",
        "print(arr2d[1::-1]) # From index 1 to the start\n",
        "print()\n",
        "arr2d[0] = 101  # Assigning a scalar value to a lower-dimension array\n",
        "                # propagates this value to all indices of this sub-array\n",
        "print(arr2d)"
      ],
      "metadata": {
        "colab": {
          "base_uri": "https://localhost:8080/"
        },
        "id": "RPcf6PPFDMSQ",
        "outputId": "d4765516-fb14-4d58-cf72-ec2c597f555f"
      },
      "execution_count": 247,
      "outputs": [
        {
          "output_type": "stream",
          "name": "stdout",
          "text": [
            "2\n",
            "2\n",
            "[1 2]\n",
            "[6 5 4]\n",
            "\n",
            "[[1 2 3]\n",
            " [4 5 6]]\n",
            "\n",
            "[[7 8 9]]\n",
            "\n",
            "[[4 5 6]\n",
            " [1 2 3]]\n",
            "\n",
            "[[101 101 101]\n",
            " [  4   5   6]\n",
            " [  7   8   9]]\n"
          ]
        }
      ]
    },
    {
      "cell_type": "code",
      "source": [
        "# Look at THAT\n",
        "# You can pass multiple slices just like you can pass multiple indexes\n",
        "arr2d[:2, 1:]"
      ],
      "metadata": {
        "colab": {
          "base_uri": "https://localhost:8080/"
        },
        "id": "aqPGZvoGKtLR",
        "outputId": "1a14d0f7-4731-45b2-e268-4726c87a5dac"
      },
      "execution_count": 248,
      "outputs": [
        {
          "output_type": "execute_result",
          "data": {
            "text/plain": [
              "array([[101, 101],\n",
              "       [  5,   6]])"
            ]
          },
          "metadata": {},
          "execution_count": 248
        }
      ]
    },
    {
      "cell_type": "markdown",
      "source": [
        "By mixing integer indexes and slices, you get lower dimensional slices.\n",
        "For example, getting the sub-array in the first index & then slice it."
      ],
      "metadata": {
        "id": "XSSE4hybMvDI"
      }
    },
    {
      "cell_type": "code",
      "source": [
        "lower_dim_slice = arr2d[1, :2]\n",
        "lower_dim_slice # => get [3, 4, 5], then slice it => [4 ,5]"
      ],
      "metadata": {
        "colab": {
          "base_uri": "https://localhost:8080/"
        },
        "id": "LIVJuT7dM1QZ",
        "outputId": "ad328a9c-9039-4ced-f8a4-d46ea329b763"
      },
      "execution_count": 249,
      "outputs": [
        {
          "output_type": "execute_result",
          "data": {
            "text/plain": [
              "array([4, 5])"
            ]
          },
          "metadata": {},
          "execution_count": 249
        }
      ]
    },
    {
      "cell_type": "markdown",
      "source": [
        "Similarly, we can get the first 2 rows in the third column"
      ],
      "metadata": {
        "id": "GUmQk_1eNTdZ"
      }
    },
    {
      "cell_type": "code",
      "source": [
        "arr2d[:2, 2]"
      ],
      "metadata": {
        "colab": {
          "base_uri": "https://localhost:8080/"
        },
        "id": "_hjZ223MNS7I",
        "outputId": "18632618-98cb-4ed6-d622-53b34c0c1fde"
      },
      "execution_count": 250,
      "outputs": [
        {
          "output_type": "execute_result",
          "data": {
            "text/plain": [
              "array([101,   6])"
            ]
          },
          "metadata": {},
          "execution_count": 250
        }
      ]
    },
    {
      "cell_type": "code",
      "source": [
        "# Get all rows of the first column\n",
        "arr2d[:, :1]"
      ],
      "metadata": {
        "colab": {
          "base_uri": "https://localhost:8080/"
        },
        "id": "XkOvDDjoNj0o",
        "outputId": "a9eeef68-d6b1-42f8-eca6-91497610a584"
      },
      "execution_count": 251,
      "outputs": [
        {
          "output_type": "execute_result",
          "data": {
            "text/plain": [
              "array([[101],\n",
              "       [  4],\n",
              "       [  7]])"
            ]
          },
          "metadata": {},
          "execution_count": 251
        }
      ]
    },
    {
      "cell_type": "markdown",
      "source": [
        "__~__ can be used to invert a boolean expression.\n",
        "<br>\n",
        "But ~ (bitwise not) returns the bits inversion. 'not' always returns a boolean value"
      ],
      "metadata": {
        "id": "tym0Q_SuOpSq"
      }
    },
    {
      "cell_type": "code",
      "source": [
        "if ~False:\n",
        "  print(\"HI\")"
      ],
      "metadata": {
        "colab": {
          "base_uri": "https://localhost:8080/"
        },
        "id": "c_I970TVOkQY",
        "outputId": "0f072aae-44ff-4ecc-b771-85698e18ab55"
      },
      "execution_count": 252,
      "outputs": [
        {
          "output_type": "stream",
          "name": "stdout",
          "text": [
            "HI\n"
          ]
        }
      ]
    },
    {
      "cell_type": "markdown",
      "source": [
        "##Boolean Indexing:"
      ],
      "metadata": {
        "id": "Vaj6onfDVC65"
      }
    },
    {
      "cell_type": "code",
      "source": [
        "# Let's say each name corresponds to a sub array in the data 2D array\n",
        "names = np.array([\"Bob\", \"Joe\",   \"Will\",  \"Bob\", \"Will\",  \"Joe\",     \"Joe\"])\n",
        "data = np.array([[4, 7], [0, 2], [-5, 6], [0, 0], [1, 2], [-12, -4], [3, 4]])\n",
        "\n",
        "# This boolean expression below is saying that the array's value is \"Bob\"\n",
        "# However, this is only True in certain indices\n",
        "# So we can say that this expression is a shorthand for this one:\n",
        "# np.array([names[i] == 'Bob' for i in range(names.size)])\n",
        "# However, this version is a vectorized numpy operation which is way better\n",
        "# performance wise.\n",
        "names == 'Bob'"
      ],
      "metadata": {
        "id": "VcbiYamNPR74",
        "colab": {
          "base_uri": "https://localhost:8080/"
        },
        "outputId": "57c0879f-fa6d-44d1-e365-bf954314055a"
      },
      "execution_count": 253,
      "outputs": [
        {
          "output_type": "execute_result",
          "data": {
            "text/plain": [
              "array([ True, False, False,  True, False, False, False])"
            ]
          },
          "metadata": {},
          "execution_count": 253
        }
      ]
    },
    {
      "cell_type": "code",
      "source": [
        "np.array([names[i] == 'Bob' for i in range(names.size)])"
      ],
      "metadata": {
        "colab": {
          "base_uri": "https://localhost:8080/"
        },
        "id": "J_lsiU25Wty7",
        "outputId": "3587642c-9013-4cb8-d65b-b823638347f5"
      },
      "execution_count": 254,
      "outputs": [
        {
          "output_type": "execute_result",
          "data": {
            "text/plain": [
              "array([ True, False, False,  True, False, False, False])"
            ]
          },
          "metadata": {},
          "execution_count": 254
        }
      ]
    },
    {
      "cell_type": "markdown",
      "source": [
        "We can use this boolean array to pick up induces that correspond to a \"True\" value"
      ],
      "metadata": {
        "id": "H_4qblF-b8Kq"
      }
    },
    {
      "cell_type": "code",
      "source": [
        "names[names == 'Bob']"
      ],
      "metadata": {
        "colab": {
          "base_uri": "https://localhost:8080/"
        },
        "id": "zcMfMVAlXOj6",
        "outputId": "cd81b1d2-af28-425c-ab55-c7e0aaa5fb46"
      },
      "execution_count": 255,
      "outputs": [
        {
          "output_type": "execute_result",
          "data": {
            "text/plain": [
              "array(['Bob', 'Bob'], dtype='<U4')"
            ]
          },
          "metadata": {},
          "execution_count": 255
        }
      ]
    },
    {
      "cell_type": "markdown",
      "source": [
        "We can use any boolean array, even a boolean array generated from a different array with the same size.\n",
        "\n",
        "For example, say we want to get the data of the user \"Bob\""
      ],
      "metadata": {
        "id": "Gf9ZwhtKcNw6"
      }
    },
    {
      "cell_type": "code",
      "source": [
        "data[names == 'Bob']"
      ],
      "metadata": {
        "colab": {
          "base_uri": "https://localhost:8080/"
        },
        "id": "gsUeFUdEcM3R",
        "outputId": "b131a896-29ed-44f1-da3f-0ced100f9f0f"
      },
      "execution_count": 256,
      "outputs": [
        {
          "output_type": "execute_result",
          "data": {
            "text/plain": [
              "array([[4, 7],\n",
              "       [0, 0]])"
            ]
          },
          "metadata": {},
          "execution_count": 256
        }
      ]
    },
    {
      "cell_type": "markdown",
      "source": [
        "We can use this boolean array for an index of a 1D, 2D, or xD array."
      ],
      "metadata": {
        "id": "4TmN7u5xdV0q"
      }
    },
    {
      "cell_type": "code",
      "source": [
        "# After getting the first dimention data with the boolean array,\n",
        "# We get elements in index 1 from each of them\n",
        "data[names == 'Bob', 1]"
      ],
      "metadata": {
        "colab": {
          "base_uri": "https://localhost:8080/"
        },
        "id": "Nwa25Uf_cemC",
        "outputId": "e79337e3-acc9-4710-ef54-bc091226759c"
      },
      "execution_count": 257,
      "outputs": [
        {
          "output_type": "execute_result",
          "data": {
            "text/plain": [
              "array([7, 0])"
            ]
          },
          "metadata": {},
          "execution_count": 257
        }
      ]
    },
    {
      "cell_type": "markdown",
      "source": [
        "To select everything but Bob, we can use either != or ~ operators"
      ],
      "metadata": {
        "id": "bTXXKxP4fTaq"
      }
    },
    {
      "cell_type": "code",
      "source": [
        "Bob = names == 'Bob'\n",
        "names[~Bob]"
      ],
      "metadata": {
        "colab": {
          "base_uri": "https://localhost:8080/"
        },
        "id": "fifx5GcMeGaK",
        "outputId": "abae2c03-6ff8-471e-8a2e-36d67ab81eb5"
      },
      "execution_count": 258,
      "outputs": [
        {
          "output_type": "execute_result",
          "data": {
            "text/plain": [
              "array(['Joe', 'Will', 'Will', 'Joe', 'Joe'], dtype='<U4')"
            ]
          },
          "metadata": {},
          "execution_count": 258
        }
      ]
    },
    {
      "cell_type": "code",
      "source": [
        "~Bob"
      ],
      "metadata": {
        "colab": {
          "base_uri": "https://localhost:8080/"
        },
        "id": "wPLeFz-Rfnns",
        "outputId": "b86cfbe6-35e3-4840-987b-5106b9c2e6f3"
      },
      "execution_count": 259,
      "outputs": [
        {
          "output_type": "execute_result",
          "data": {
            "text/plain": [
              "array([False,  True,  True, False,  True,  True,  True])"
            ]
          },
          "metadata": {},
          "execution_count": 259
        }
      ]
    },
    {
      "cell_type": "code",
      "source": [
        "data[names != 'Bob']"
      ],
      "metadata": {
        "colab": {
          "base_uri": "https://localhost:8080/"
        },
        "id": "8ov_cTP3fqBp",
        "outputId": "3bf15ebc-a250-4fe8-a1f7-f4f4db80ca40"
      },
      "execution_count": 260,
      "outputs": [
        {
          "output_type": "execute_result",
          "data": {
            "text/plain": [
              "array([[  0,   2],\n",
              "       [ -5,   6],\n",
              "       [  1,   2],\n",
              "       [-12,  -4],\n",
              "       [  3,   4]])"
            ]
          },
          "metadata": {},
          "execution_count": 260
        }
      ]
    },
    {
      "cell_type": "code",
      "source": [
        "data[~Bob]"
      ],
      "metadata": {
        "colab": {
          "base_uri": "https://localhost:8080/"
        },
        "id": "heBTRQIEfvOC",
        "outputId": "255e6675-c83f-44a0-bb40-43234762d051"
      },
      "execution_count": 261,
      "outputs": [
        {
          "output_type": "execute_result",
          "data": {
            "text/plain": [
              "array([[  0,   2],\n",
              "       [ -5,   6],\n",
              "       [  1,   2],\n",
              "       [-12,  -4],\n",
              "       [  3,   4]])"
            ]
          },
          "metadata": {},
          "execution_count": 261
        }
      ]
    },
    {
      "cell_type": "markdown",
      "source": [
        "You can ever create a combination of different boolean expressions;\n",
        "In this case, it's called a **mask**"
      ],
      "metadata": {
        "id": "dBxSU4J2f1lz"
      }
    },
    {
      "cell_type": "code",
      "source": [
        "# Make sure you use ( parentheses ) to prevent precdence errors\n",
        "mask = (names == 'Bob') | (names == 'Joe')\n",
        "names[mask]"
      ],
      "metadata": {
        "colab": {
          "base_uri": "https://localhost:8080/"
        },
        "id": "qKhkOkNzfxej",
        "outputId": "fde98da0-27e7-4d49-a2ca-9a3cb74e2d61"
      },
      "execution_count": 262,
      "outputs": [
        {
          "output_type": "execute_result",
          "data": {
            "text/plain": [
              "array(['Bob', 'Joe', 'Bob', 'Joe', 'Joe'], dtype='<U4')"
            ]
          },
          "metadata": {},
          "execution_count": 262
        }
      ]
    },
    {
      "cell_type": "code",
      "source": [
        "mask"
      ],
      "metadata": {
        "colab": {
          "base_uri": "https://localhost:8080/"
        },
        "id": "IrE6FgzWhJlb",
        "outputId": "c6c8e265-51dd-4061-e555-c196bdaa2ed6"
      },
      "execution_count": 263,
      "outputs": [
        {
          "output_type": "execute_result",
          "data": {
            "text/plain": [
              "array([ True,  True, False,  True, False,  True,  True])"
            ]
          },
          "metadata": {},
          "execution_count": 263
        }
      ]
    },
    {
      "cell_type": "code",
      "source": [
        "data[mask]"
      ],
      "metadata": {
        "colab": {
          "base_uri": "https://localhost:8080/"
        },
        "id": "pb88G0sChMNq",
        "outputId": "bb60f904-e2db-443b-adc1-5101116a4440"
      },
      "execution_count": 264,
      "outputs": [
        {
          "output_type": "execute_result",
          "data": {
            "text/plain": [
              "array([[  4,   7],\n",
              "       [  0,   2],\n",
              "       [  0,   0],\n",
              "       [-12,  -4],\n",
              "       [  3,   4]])"
            ]
          },
          "metadata": {},
          "execution_count": 264
        }
      ]
    },
    {
      "cell_type": "code",
      "source": [
        "data[~mask]"
      ],
      "metadata": {
        "colab": {
          "base_uri": "https://localhost:8080/"
        },
        "id": "VAdRH_uPhOoB",
        "outputId": "d3d4756b-438c-49b7-b5a1-6f63164c0e00"
      },
      "execution_count": 265,
      "outputs": [
        {
          "output_type": "execute_result",
          "data": {
            "text/plain": [
              "array([[-5,  6],\n",
              "       [ 1,  2]])"
            ]
          },
          "metadata": {},
          "execution_count": 265
        }
      ]
    },
    {
      "cell_type": "markdown",
      "source": [
        "\n",
        "\n",
        "> Using boolean indexing and masks results in a brandnew copy rather than a view.\n",
        "If you remember, slicing created views that requires you to copy or any modification will affect the main array. Boolean indexing creates a copy so you don't have to do this copy step.\n",
        "\n"
      ],
      "metadata": {
        "id": "IPE_9inUhTYi"
      }
    },
    {
      "cell_type": "markdown",
      "source": [
        "For example, we'll modify a boolean-indexed array and see whether the original array got affected or not."
      ],
      "metadata": {
        "id": "Zo1hXAT5iKNi"
      }
    },
    {
      "cell_type": "code",
      "source": [
        "data_= data[data < 6] # Creates a copy\n",
        "data_[data_ < 0] = 0 # Modifying this copy doesn't affect the"
      ],
      "metadata": {
        "id": "tWy38d_EhQmC"
      },
      "execution_count": 266,
      "outputs": []
    },
    {
      "cell_type": "code",
      "source": [
        "data_"
      ],
      "metadata": {
        "colab": {
          "base_uri": "https://localhost:8080/"
        },
        "id": "sWRxGt5_iwI6",
        "outputId": "0286f199-8ceb-4ce4-876d-f19011eddd04"
      },
      "execution_count": 267,
      "outputs": [
        {
          "output_type": "execute_result",
          "data": {
            "text/plain": [
              "array([4, 0, 2, 0, 0, 0, 1, 2, 0, 0, 3, 4])"
            ]
          },
          "metadata": {},
          "execution_count": 267
        }
      ]
    },
    {
      "cell_type": "code",
      "source": [
        "data"
      ],
      "metadata": {
        "colab": {
          "base_uri": "https://localhost:8080/"
        },
        "id": "g-TjicrXlAh6",
        "outputId": "957cafd8-74bc-4d7f-94fc-28f5ada4eb51"
      },
      "execution_count": 268,
      "outputs": [
        {
          "output_type": "execute_result",
          "data": {
            "text/plain": [
              "array([[  4,   7],\n",
              "       [  0,   2],\n",
              "       [ -5,   6],\n",
              "       [  0,   0],\n",
              "       [  1,   2],\n",
              "       [-12,  -4],\n",
              "       [  3,   4]])"
            ]
          },
          "metadata": {},
          "execution_count": 268
        }
      ]
    },
    {
      "cell_type": "markdown",
      "source": [
        "##Fancy Indexing\n",
        " Fancy indexing is a term adopted by NumPy to describe indexing using integer arrays."
      ],
      "metadata": {
        "id": "uUrCBdcAmAKp"
      }
    },
    {
      "cell_type": "markdown",
      "source": [
        "1. You can use multiple indexes as a list to get multiple items at once <br> In this case, the index is a list of integers rather than a single integer."
      ],
      "metadata": {
        "id": "qIyHXONuuNaT"
      }
    },
    {
      "cell_type": "code",
      "source": [
        "arr = np.zeros((8, 4))\n",
        "for i in range(8):\n",
        "  arr[i] = i\n",
        "arr"
      ],
      "metadata": {
        "colab": {
          "base_uri": "https://localhost:8080/"
        },
        "id": "VuSTLgIJlizS",
        "outputId": "fe8227dc-9ad9-4bd1-b78b-2ecdaa556069"
      },
      "execution_count": 270,
      "outputs": [
        {
          "output_type": "execute_result",
          "data": {
            "text/plain": [
              "array([[0., 0., 0., 0.],\n",
              "       [1., 1., 1., 1.],\n",
              "       [2., 2., 2., 2.],\n",
              "       [3., 3., 3., 3.],\n",
              "       [4., 4., 4., 4.],\n",
              "       [5., 5., 5., 5.],\n",
              "       [6., 6., 6., 6.],\n",
              "       [7., 7., 7., 7.]])"
            ]
          },
          "metadata": {},
          "execution_count": 270
        }
      ]
    },
    {
      "cell_type": "code",
      "source": [
        "arr[[4, 3, 0, 6]]"
      ],
      "metadata": {
        "colab": {
          "base_uri": "https://localhost:8080/"
        },
        "id": "nIFOlGmCuqUz",
        "outputId": "22d7bf7b-671e-48e6-fb3e-28289e2a0f0e"
      },
      "execution_count": 271,
      "outputs": [
        {
          "output_type": "execute_result",
          "data": {
            "text/plain": [
              "array([[4., 4., 4., 4.],\n",
              "       [3., 3., 3., 3.],\n",
              "       [0., 0., 0., 0.],\n",
              "       [6., 6., 6., 6.]])"
            ]
          },
          "metadata": {},
          "execution_count": 271
        }
      ]
    },
    {
      "cell_type": "markdown",
      "source": [
        "2. Using negative indexes brings indexes from the end of the array."
      ],
      "metadata": {
        "id": "2huDEj-Gu96i"
      }
    },
    {
      "cell_type": "code",
      "source": [
        "arr[[-3, -5, -7]] # => [5,5,5,5], [3,3,3,3], [1,1,1,1]"
      ],
      "metadata": {
        "colab": {
          "base_uri": "https://localhost:8080/"
        },
        "id": "fm9ZtL6Ku6fZ",
        "outputId": "a7760e1c-ad0c-4d15-bead-a514412cf5db"
      },
      "execution_count": 272,
      "outputs": [
        {
          "output_type": "execute_result",
          "data": {
            "text/plain": [
              "array([[5., 5., 5., 5.],\n",
              "       [3., 3., 3., 3.],\n",
              "       [1., 1., 1., 1.]])"
            ]
          },
          "metadata": {},
          "execution_count": 272
        }
      ]
    },
    {
      "cell_type": "markdown",
      "source": [
        "In the cell below, a normal range array is created from 0 to 31.<br>After that, the array is \"reshaped\".<br><br>By reshaping, we change the dimenion of this array. Say, we want it to convert it from 1D to 2D array by making it from 8 rows and 4 columns. So we take the first 4 elements and assign them to the first row. Next 4 items to the 2nd row, and so on."
      ],
      "metadata": {
        "id": "tBo1MmzxvokB"
      }
    },
    {
      "cell_type": "code",
      "source": [
        "arr = np.arange(32).reshape((8, 4))\n",
        "arr"
      ],
      "metadata": {
        "colab": {
          "base_uri": "https://localhost:8080/"
        },
        "id": "hDeXEpXkvcVq",
        "outputId": "f10cd70b-0e97-4cc3-c8e8-033c2201b8f0"
      },
      "execution_count": 274,
      "outputs": [
        {
          "output_type": "execute_result",
          "data": {
            "text/plain": [
              "array([[ 0,  1,  2,  3],\n",
              "       [ 4,  5,  6,  7],\n",
              "       [ 8,  9, 10, 11],\n",
              "       [12, 13, 14, 15],\n",
              "       [16, 17, 18, 19],\n",
              "       [20, 21, 22, 23],\n",
              "       [24, 25, 26, 27],\n",
              "       [28, 29, 30, 31]])"
            ]
          },
          "metadata": {},
          "execution_count": 274
        }
      ]
    },
    {
      "cell_type": "markdown",
      "source": [
        "3. We can use a 2D array as an index and the behavior would completely change."
      ],
      "metadata": {
        "id": "kTSjqO-6w2ZC"
      }
    },
    {
      "cell_type": "code",
      "source": [
        "arr[[1, 5, 7, 2], [0, 3, 1, 2]]"
      ],
      "metadata": {
        "colab": {
          "base_uri": "https://localhost:8080/"
        },
        "id": "rTeYqy2YwwUb",
        "outputId": "e267da70-e9e3-43ec-be19-a8c301152ca2"
      },
      "execution_count": 275,
      "outputs": [
        {
          "output_type": "execute_result",
          "data": {
            "text/plain": [
              "array([ 4, 23, 29, 10])"
            ]
          },
          "metadata": {},
          "execution_count": 275
        }
      ]
    },
    {
      "cell_type": "markdown",
      "source": [
        "As you may have noticed, it brought the row at index 1, then retrieves the element at index 0. And so on.. So it worked like that:<br> 1. From row at index 2, get item at index 0<br>2. From row 5, get item 3<br>3. From row 7, get item 1<br>4. From row 2, get item 2"
      ],
      "metadata": {
        "id": "E7BnpCv8xbOr"
      }
    },
    {
      "cell_type": "markdown",
      "source": [
        "**Unlike slicing, always copies the data into a new\n",
        " array when assigning the result to a new variable.**"
      ],
      "metadata": {
        "id": "aM3sSGexzA6Z"
      }
    },
    {
      "cell_type": "markdown",
      "source": [
        "4. You can normally index the output of a fancy indexed output array just like any other array"
      ],
      "metadata": {
        "id": "IDrFz8J30DMC"
      }
    },
    {
      "cell_type": "code",
      "source": [
        "arr[[1, 5, 7, 2]][:, [0, 3, 1, 2]]"
      ],
      "metadata": {
        "colab": {
          "base_uri": "https://localhost:8080/"
        },
        "id": "ZWEu1bAqyRm7",
        "outputId": "3f7d1f17-bb4e-4925-87da-bc998fd17491"
      },
      "execution_count": 276,
      "outputs": [
        {
          "output_type": "execute_result",
          "data": {
            "text/plain": [
              "array([[ 4,  7,  5,  6],\n",
              "       [20, 23, 21, 22],\n",
              "       [28, 31, 29, 30],\n",
              "       [ 8, 11,  9, 10]])"
            ]
          },
          "metadata": {},
          "execution_count": 276
        }
      ]
    },
    {
      "cell_type": "markdown",
      "source": [
        "![Screenshot 2025-05-30 183424.png](data:image/png;base64,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)"
      ],
      "metadata": {
        "id": "uDdgyH1X1OcL"
      }
    },
    {
      "cell_type": "markdown",
      "source": [
        "##Transposing Arrays and Swapping Axes"
      ],
      "metadata": {
        "id": "ptiMpRd_1tIF"
      }
    },
    {
      "cell_type": "code",
      "source": [
        "arr = np.arange(15).reshape((3, 5))\n",
        "\n",
        "print(arr)\n",
        "print()\n",
        "print(arr.T)"
      ],
      "metadata": {
        "colab": {
          "base_uri": "https://localhost:8080/"
        },
        "id": "0Era9lBl1whL",
        "outputId": "87289c1b-7d9b-4f11-8b61-4b9a61e677e9"
      },
      "execution_count": 278,
      "outputs": [
        {
          "output_type": "stream",
          "name": "stdout",
          "text": [
            "[[ 0  1  2  3  4]\n",
            " [ 5  6  7  8  9]\n",
            " [10 11 12 13 14]]\n",
            "\n",
            "[[ 0  5 10]\n",
            " [ 1  6 11]\n",
            " [ 2  7 12]\n",
            " [ 3  8 13]\n",
            " [ 4  9 14]]\n"
          ]
        }
      ]
    },
    {
      "cell_type": "markdown",
      "source": [
        "We use this alot in matrix operations. For example, check out this dot product:"
      ],
      "metadata": {
        "id": "ie0cJwWF9ZzJ"
      }
    },
    {
      "cell_type": "code",
      "source": [
        "arr = np.array([[0, 1, 0], [1, 2, -2], [6, 3, 2], [-1, 0, -1], [1, 0, 1]])\n",
        "arr2 = np.dot(arr.T, arr)\n",
        "arr2"
      ],
      "metadata": {
        "colab": {
          "base_uri": "https://localhost:8080/"
        },
        "id": "5WhutuMF8OH8",
        "outputId": "1b10b04b-05fc-428b-dc5f-c1a7018d39b7"
      },
      "execution_count": 282,
      "outputs": [
        {
          "output_type": "execute_result",
          "data": {
            "text/plain": [
              "array([[39, 20, 12],\n",
              "       [20, 14,  2],\n",
              "       [12,  2, 10]])"
            ]
          },
          "metadata": {},
          "execution_count": 282
        }
      ]
    },
    {
      "cell_type": "markdown",
      "source": [
        "@ infix operator is another method to do the dot product:"
      ],
      "metadata": {
        "id": "lOXjovu599O4"
      }
    },
    {
      "cell_type": "code",
      "source": [
        "arr2 = arr.T @ arr\n",
        "arr2"
      ],
      "metadata": {
        "colab": {
          "base_uri": "https://localhost:8080/"
        },
        "id": "YlVCn-gV93ch",
        "outputId": "b86a41ec-9f9c-4c0f-df5f-fcbbdaaa8172"
      },
      "execution_count": 283,
      "outputs": [
        {
          "output_type": "execute_result",
          "data": {
            "text/plain": [
              "array([[39, 20, 12],\n",
              "       [20, 14,  2],\n",
              "       [12,  2, 10]])"
            ]
          },
          "metadata": {},
          "execution_count": 283
        }
      ]
    },
    {
      "cell_type": "markdown",
      "source": [
        "Simple transposing with .T is a special case of swapping axes. ndarray has the method\n",
        " swapaxes, which takes a pair of axis numbers and switches the indicated axes"
      ],
      "metadata": {
        "id": "vW649Jdy-KvZ"
      }
    },
    {
      "cell_type": "code",
      "source": [
        "arr"
      ],
      "metadata": {
        "colab": {
          "base_uri": "https://localhost:8080/"
        },
        "id": "7R61UFVk-FeQ",
        "outputId": "1f158c6b-eab5-4d9a-ecdb-5af122c04381"
      },
      "execution_count": 284,
      "outputs": [
        {
          "output_type": "execute_result",
          "data": {
            "text/plain": [
              "array([[ 0,  1,  0],\n",
              "       [ 1,  2, -2],\n",
              "       [ 6,  3,  2],\n",
              "       [-1,  0, -1],\n",
              "       [ 1,  0,  1]])"
            ]
          },
          "metadata": {},
          "execution_count": 284
        }
      ]
    },
    {
      "cell_type": "code",
      "source": [
        "arr.swapaxes(0, 1)"
      ],
      "metadata": {
        "colab": {
          "base_uri": "https://localhost:8080/"
        },
        "id": "vMsvxj7NAS6g",
        "outputId": "377e9b8b-e8d5-4017-d63e-50a8fbd2cb91"
      },
      "execution_count": 285,
      "outputs": [
        {
          "output_type": "execute_result",
          "data": {
            "text/plain": [
              "array([[ 0,  1,  6, -1,  1],\n",
              "       [ 1,  2,  3,  0,  0],\n",
              "       [ 0, -2,  2, -1,  1]])"
            ]
          },
          "metadata": {},
          "execution_count": 285
        }
      ]
    },
    {
      "cell_type": "markdown",
      "source": [
        "You can think of at as if it's just changing the location of each item.<br> For example, any item at the location (i,j) would be at (j, i) because location 0 and location 1 are getting swapped."
      ],
      "metadata": {
        "id": "wa_bLHrhAVy6"
      }
    },
    {
      "cell_type": "markdown",
      "source": [
        "\n",
        "\n",
        "---\n",
        "\n"
      ],
      "metadata": {
        "id": "FKV9HBwbAxcQ"
      }
    },
    {
      "cell_type": "markdown",
      "source": [
        "#Pseudorandom Number Generation"
      ],
      "metadata": {
        "id": "pclNjl9sAy-6"
      }
    },
    {
      "cell_type": "code",
      "source": [],
      "metadata": {
        "id": "DUD97zlmA0jy"
      },
      "execution_count": null,
      "outputs": []
    },
    {
      "cell_type": "markdown",
      "source": [
        "## Broadcasting:\n",
        "Evaluating operations between differently sized arrays\n",
        "This is an advanced topic and may be discussed later..."
      ],
      "metadata": {
        "id": "XYx7vbif8kNP"
      }
    },
    {
      "cell_type": "code",
      "source": [],
      "metadata": {
        "id": "tKOzC8DaV5EL"
      },
      "execution_count": 268,
      "outputs": []
    }
  ]
}