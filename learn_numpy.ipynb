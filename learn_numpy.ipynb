{
  "nbformat": 4,
  "nbformat_minor": 0,
  "metadata": {
    "colab": {
      "provenance": []
    },
    "kernelspec": {
      "name": "python3",
      "display_name": "Python 3"
    },
    "language_info": {
      "name": "python"
    }
  },
  "cells": [
    {
      "cell_type": "code",
      "execution_count": null,
      "metadata": {
        "id": "9L6lIF_6r9AY"
      },
      "outputs": [],
      "source": [
        "import numpy as np"
      ]
    },
    {
      "cell_type": "code",
      "source": [
        "# Create an array from 0 to 5 - 1\n",
        "numpy_arr = np.arange(5)\n",
        "numpy_arr"
      ],
      "metadata": {
        "colab": {
          "base_uri": "https://localhost:8080/"
        },
        "id": "6zv3wm_Lr-e4",
        "outputId": "bc467e56-ca48-408a-99b5-43ce41257ff9"
      },
      "execution_count": null,
      "outputs": [
        {
          "output_type": "execute_result",
          "data": {
            "text/plain": [
              "array([0, 1, 2, 3, 4])"
            ]
          },
          "metadata": {},
          "execution_count": 2
        }
      ]
    },
    {
      "cell_type": "code",
      "source": [
        "# 1D array\n",
        "numpy_arr_1 = np.array([1,2,3])\n",
        "numpy_arr_1"
      ],
      "metadata": {
        "colab": {
          "base_uri": "https://localhost:8080/"
        },
        "id": "7awz6mA_sUSW",
        "outputId": "2487d563-0eb7-4c53-98d9-60db4aa871d6"
      },
      "execution_count": null,
      "outputs": [
        {
          "output_type": "execute_result",
          "data": {
            "text/plain": [
              "array([1, 2, 3])"
            ]
          },
          "metadata": {},
          "execution_count": 3
        }
      ]
    },
    {
      "cell_type": "code",
      "source": [
        "type(numpy_arr_1)"
      ],
      "metadata": {
        "colab": {
          "base_uri": "https://localhost:8080/"
        },
        "id": "gub3PX5WuuYR",
        "outputId": "0b5cc117-d3e3-434a-8da2-db1a7affdc50"
      },
      "execution_count": null,
      "outputs": [
        {
          "output_type": "execute_result",
          "data": {
            "text/plain": [
              "numpy.ndarray"
            ]
          },
          "metadata": {},
          "execution_count": 4
        }
      ]
    },
    {
      "cell_type": "code",
      "source": [
        "# 2D array\n",
        "numpy_arr_2 = np.array([[1,2,3], [4,5,6], [7,8,9]])\n",
        "numpy_arr_2"
      ],
      "metadata": {
        "colab": {
          "base_uri": "https://localhost:8080/"
        },
        "id": "-5rPEfIDsxmU",
        "outputId": "19d7a317-f0bb-449a-f45c-31e068af15ad"
      },
      "execution_count": null,
      "outputs": [
        {
          "output_type": "execute_result",
          "data": {
            "text/plain": [
              "array([[1, 2, 3],\n",
              "       [4, 5, 6],\n",
              "       [7, 8, 9]])"
            ]
          },
          "metadata": {},
          "execution_count": 5
        }
      ]
    },
    {
      "cell_type": "code",
      "source": [
        "type(numpy_arr_2)"
      ],
      "metadata": {
        "colab": {
          "base_uri": "https://localhost:8080/"
        },
        "id": "UuabNSo2u17V",
        "outputId": "cc3bcb0e-665e-4588-c47a-b9c05d7a3c70"
      },
      "execution_count": null,
      "outputs": [
        {
          "output_type": "execute_result",
          "data": {
            "text/plain": [
              "numpy.ndarray"
            ]
          },
          "metadata": {},
          "execution_count": 6
        }
      ]
    },
    {
      "cell_type": "code",
      "source": [
        "# Scalar Multiplication\n",
        "numpy_arr_2 * 3"
      ],
      "metadata": {
        "colab": {
          "base_uri": "https://localhost:8080/"
        },
        "id": "qR4nOXZrs89W",
        "outputId": "e47fb541-7e2f-4372-bb08-483acc6ce1db"
      },
      "execution_count": null,
      "outputs": [
        {
          "output_type": "execute_result",
          "data": {
            "text/plain": [
              "array([[ 3,  6,  9],\n",
              "       [12, 15, 18],\n",
              "       [21, 24, 27]])"
            ]
          },
          "metadata": {},
          "execution_count": 7
        }
      ]
    },
    {
      "cell_type": "code",
      "source": [
        "# Scalar Summation\n",
        "numpy_arr_2 + 10"
      ],
      "metadata": {
        "colab": {
          "base_uri": "https://localhost:8080/"
        },
        "id": "nMZ4mjOJtvAu",
        "outputId": "ac3ba272-9583-414d-8472-45ffb82a0941"
      },
      "execution_count": null,
      "outputs": [
        {
          "output_type": "execute_result",
          "data": {
            "text/plain": [
              "array([[11, 12, 13],\n",
              "       [14, 15, 16],\n",
              "       [17, 18, 19]])"
            ]
          },
          "metadata": {},
          "execution_count": 8
        }
      ]
    },
    {
      "cell_type": "code",
      "source": [
        "# The array elements must be HOMOGENEOUS; we got a list obj and an int which are different\n",
        "numpy_arr_3 = np.array([[1,'a',3], 5])\n",
        "numpy_arr_3"
      ],
      "metadata": {
        "colab": {
          "base_uri": "https://localhost:8080/",
          "height": 176
        },
        "id": "BvQaC87NvHyu",
        "outputId": "38851b6e-32a9-4c99-c84c-07312b8ba2d0"
      },
      "execution_count": null,
      "outputs": [
        {
          "output_type": "error",
          "ename": "ValueError",
          "evalue": "setting an array element with a sequence. The requested array has an inhomogeneous shape after 1 dimensions. The detected shape was (2,) + inhomogeneous part.",
          "traceback": [
            "\u001b[0;31m---------------------------------------------------------------------------\u001b[0m",
            "\u001b[0;31mValueError\u001b[0m                                Traceback (most recent call last)",
            "\u001b[0;32m<ipython-input-9-c3b225abd218>\u001b[0m in \u001b[0;36m<cell line: 0>\u001b[0;34m()\u001b[0m\n\u001b[1;32m      1\u001b[0m \u001b[0;31m# The array elements must be HOMOGENEOUS; we got a list obj and an int which are different\u001b[0m\u001b[0;34m\u001b[0m\u001b[0;34m\u001b[0m\u001b[0m\n\u001b[0;32m----> 2\u001b[0;31m \u001b[0mnumpy_arr_3\u001b[0m \u001b[0;34m=\u001b[0m \u001b[0mnp\u001b[0m\u001b[0;34m.\u001b[0m\u001b[0marray\u001b[0m\u001b[0;34m(\u001b[0m\u001b[0;34m[\u001b[0m\u001b[0;34m[\u001b[0m\u001b[0;36m1\u001b[0m\u001b[0;34m,\u001b[0m\u001b[0;34m'a'\u001b[0m\u001b[0;34m,\u001b[0m\u001b[0;36m3\u001b[0m\u001b[0;34m]\u001b[0m\u001b[0;34m,\u001b[0m \u001b[0;36m5\u001b[0m\u001b[0;34m]\u001b[0m\u001b[0;34m)\u001b[0m\u001b[0;34m\u001b[0m\u001b[0;34m\u001b[0m\u001b[0m\n\u001b[0m\u001b[1;32m      3\u001b[0m \u001b[0mnumpy_arr_3\u001b[0m\u001b[0;34m\u001b[0m\u001b[0;34m\u001b[0m\u001b[0m\n",
            "\u001b[0;31mValueError\u001b[0m: setting an array element with a sequence. The requested array has an inhomogeneous shape after 1 dimensions. The detected shape was (2,) + inhomogeneous part."
          ]
        }
      ]
    },
    {
      "cell_type": "code",
      "source": [
        "# Each numpy array has a shape & dtype attributes\n",
        "print(numpy_arr_2.shape)\n",
        "\n",
        "print(numpy_arr_2.dtype)"
      ],
      "metadata": {
        "id": "exkHh3Jlvun-",
        "colab": {
          "base_uri": "https://localhost:8080/"
        },
        "outputId": "dd130666-6ca5-45b0-dc1c-d854f50c4500"
      },
      "execution_count": null,
      "outputs": [
        {
          "output_type": "stream",
          "name": "stdout",
          "text": [
            "(3, 3)\n",
            "int64\n"
          ]
        }
      ]
    },
    {
      "cell_type": "code",
      "source": [
        "# This isn't related to numpy, but I just wanted to try\n",
        "# what's gonna happen if we tried to zip 2 lists of different size.\n",
        "x = [1,2,3]\n",
        "y = [4,5,6,7,8]\n",
        "for i,j in zip(x,y):\n",
        "  print(i, j)\n",
        "# Anyways"
      ],
      "metadata": {
        "id": "xW2dqzrzwc5G",
        "colab": {
          "base_uri": "https://localhost:8080/"
        },
        "outputId": "073c6418-b6d4-4746-b5e6-fb95903daff6"
      },
      "execution_count": null,
      "outputs": [
        {
          "output_type": "stream",
          "name": "stdout",
          "text": [
            "1 4\n",
            "2 5\n",
            "3 6\n"
          ]
        }
      ]
    },
    {
      "cell_type": "markdown",
      "source": [
        "### `np.array()`\n",
        "\n",
        "* **Always creates a new array**.\n",
        "* Copies the data **by default**, even if the input is already a NumPy array (unless you explicitly set `copy=False`).\n",
        "\n",
        "```python\n",
        "import numpy as np\n",
        "\n",
        "a = np.array([1, 2, 3])\n",
        "b = np.array(a)  # b is a copy of a\n",
        "b[0] = 99\n",
        "print(a)  # a is unchanged\n",
        "```\n",
        "\n",
        "---\n",
        "\n",
        "### `np.asarray()`\n",
        "\n",
        "* Converts the input to a NumPy array **if it's not already one**.\n",
        "* **Does NOT copy** the data if the input is already a NumPy array (or something very close, like a subclass).\n",
        "\n",
        "```python\n",
        "a = np.array([1, 2, 3])\n",
        "b = np.asarray(a)  # b is a view of a (no copy)\n",
        "b[0] = 99\n",
        "print(a)  # a is changed!\n",
        "```\n",
        "\n",
        "---\n",
        "\n",
        "### Summary Table\n",
        "\n",
        "| Function       | Copies Data?          | Purpose                                     |\n",
        "| -------------- | --------------------- | ------------------------------------------- |\n",
        "| `np.array()`   | Yes (by default)      | Always returns a **new array**              |\n",
        "| `np.asarray()` | No (if already array) | Converts input to array **without copying** |\n",
        "\n",
        "---\n",
        "\n",
        "### When to Use What?\n",
        "\n",
        "* Use **`np.array()`** when you **want a new, independent array**.\n",
        "* Use **`np.asarray()`** when you're working with inputs that **might already be arrays**, and you want to **avoid unnecessary copies** for performance."
      ],
      "metadata": {
        "id": "P0TrZIpJz9z1"
      }
    },
    {
      "cell_type": "code",
      "source": [
        "# np.asarray()\n",
        "a = np.array([1, 2, 3])\n",
        "b = np.asarray(a)  # b is a view of a (no copy)\n",
        "b[0] = 99\n",
        "print(a)  # a is changed!"
      ],
      "metadata": {
        "id": "WZb2hLQUwx1e",
        "colab": {
          "base_uri": "https://localhost:8080/"
        },
        "outputId": "358ad7bf-e216-45a6-f914-2b79e61ae238"
      },
      "execution_count": null,
      "outputs": [
        {
          "output_type": "stream",
          "name": "stdout",
          "text": [
            "[99  2  3]\n"
          ]
        }
      ]
    },
    {
      "cell_type": "code",
      "source": [
        "# Notice the floating point; type is \"float\" by default\n",
        "ones_arr = np.ones((2,2))\n",
        "ones_arr"
      ],
      "metadata": {
        "id": "RbvTCwml0a2W",
        "colab": {
          "base_uri": "https://localhost:8080/"
        },
        "outputId": "6661957b-9356-4b63-9a2b-e7c777d3b45d"
      },
      "execution_count": null,
      "outputs": [
        {
          "output_type": "execute_result",
          "data": {
            "text/plain": [
              "array([[1., 1.],\n",
              "       [1., 1.]])"
            ]
          },
          "metadata": {},
          "execution_count": 15
        }
      ]
    },
    {
      "cell_type": "code",
      "source": [
        "ones_arr_1 = np.ones((2,2)).astype(int)\n",
        "ones_arr_1"
      ],
      "metadata": {
        "id": "lcdyWczE0kll",
        "colab": {
          "base_uri": "https://localhost:8080/"
        },
        "outputId": "2d523c34-ee14-44ad-e0f8-3691fcda8101"
      },
      "execution_count": null,
      "outputs": [
        {
          "output_type": "execute_result",
          "data": {
            "text/plain": [
              "array([[1, 1],\n",
              "       [1, 1]])"
            ]
          },
          "metadata": {},
          "execution_count": 16
        }
      ]
    },
    {
      "cell_type": "code",
      "source": [
        "# Creates a ones array with a shape similar to the \"a\" array\n",
        "ones_arr_2 = np.ones_like(a).astype(int)\n",
        "ones_arr_2"
      ],
      "metadata": {
        "id": "x7_vewxZ0umV",
        "colab": {
          "base_uri": "https://localhost:8080/"
        },
        "outputId": "cc22bf75-fe43-42cc-b890-3861dfd05b8a"
      },
      "execution_count": null,
      "outputs": [
        {
          "output_type": "execute_result",
          "data": {
            "text/plain": [
              "array([1, 1, 1])"
            ]
          },
          "metadata": {},
          "execution_count": 17
        }
      ]
    },
    {
      "cell_type": "code",
      "source": [
        "# Notice the floating point; type is \"float\" by default\n",
        "zeros_arr = np.zeros((2,2))\n",
        "zeros_arr"
      ],
      "metadata": {
        "id": "CMc8VLCG08Qd",
        "colab": {
          "base_uri": "https://localhost:8080/"
        },
        "outputId": "5457820d-79f9-4ffa-f82f-01e82275b7a6"
      },
      "execution_count": null,
      "outputs": [
        {
          "output_type": "execute_result",
          "data": {
            "text/plain": [
              "array([[0., 0.],\n",
              "       [0., 0.]])"
            ]
          },
          "metadata": {},
          "execution_count": 18
        }
      ]
    },
    {
      "cell_type": "code",
      "source": [
        "zeros_arr_1 = np.zeros_like(a)\n",
        "zeros_arr_1"
      ],
      "metadata": {
        "id": "ARmvxQoe15au",
        "colab": {
          "base_uri": "https://localhost:8080/"
        },
        "outputId": "37e59456-d7cd-4d23-de2a-b4dbba7e13de"
      },
      "execution_count": null,
      "outputs": [
        {
          "output_type": "execute_result",
          "data": {
            "text/plain": [
              "array([0, 0, 0])"
            ]
          },
          "metadata": {},
          "execution_count": 19
        }
      ]
    },
    {
      "cell_type": "code",
      "source": [
        "full_arr = np.full((3,3), 'a')\n",
        "full_arr"
      ],
      "metadata": {
        "id": "IdZaQ7N32Cn1",
        "colab": {
          "base_uri": "https://localhost:8080/"
        },
        "outputId": "934837e8-af75-4b5f-c630-6b2d4bc1e5b9"
      },
      "execution_count": null,
      "outputs": [
        {
          "output_type": "execute_result",
          "data": {
            "text/plain": [
              "array([['a', 'a', 'a'],\n",
              "       ['a', 'a', 'a'],\n",
              "       ['a', 'a', 'a']], dtype='<U1')"
            ]
          },
          "metadata": {},
          "execution_count": 20
        }
      ]
    },
    {
      "cell_type": "code",
      "source": [
        "# This cell is erroneous cuz I'm trying to create an array filled with 'a'\n",
        "# but the array I'm copying its features (a) has dtype = int\n",
        "# To bypass this, I need to modify the dtype manually..\n",
        "# Note that the default value for the dtype parameter is the same as the\n",
        "# dtype of the array that I'm copying its features like shape and dtype.\n",
        "full_arr_1 = np.full_like(a, 'a')\n",
        "full_arr_1"
      ],
      "metadata": {
        "id": "KBohU3432UM1",
        "colab": {
          "base_uri": "https://localhost:8080/",
          "height": 315
        },
        "outputId": "df9fff05-a9f9-483a-f39e-03925a5a0060"
      },
      "execution_count": null,
      "outputs": [
        {
          "output_type": "error",
          "ename": "ValueError",
          "evalue": "invalid literal for int() with base 10: np.str_('a')",
          "traceback": [
            "\u001b[0;31m---------------------------------------------------------------------------\u001b[0m",
            "\u001b[0;31mValueError\u001b[0m                                Traceback (most recent call last)",
            "\u001b[0;32m<ipython-input-21-a3aef2061544>\u001b[0m in \u001b[0;36m<cell line: 0>\u001b[0;34m()\u001b[0m\n\u001b[1;32m      4\u001b[0m \u001b[0;31m# Note that the default value for the dtype parameter is the same as the\u001b[0m\u001b[0;34m\u001b[0m\u001b[0;34m\u001b[0m\u001b[0m\n\u001b[1;32m      5\u001b[0m \u001b[0;31m# dtype of the array that I'm copying its features like shape and dtype.\u001b[0m\u001b[0;34m\u001b[0m\u001b[0;34m\u001b[0m\u001b[0m\n\u001b[0;32m----> 6\u001b[0;31m \u001b[0mfull_arr_1\u001b[0m \u001b[0;34m=\u001b[0m \u001b[0mnp\u001b[0m\u001b[0;34m.\u001b[0m\u001b[0mfull_like\u001b[0m\u001b[0;34m(\u001b[0m\u001b[0ma\u001b[0m\u001b[0;34m,\u001b[0m \u001b[0;34m'a'\u001b[0m\u001b[0;34m)\u001b[0m\u001b[0;34m\u001b[0m\u001b[0;34m\u001b[0m\u001b[0m\n\u001b[0m\u001b[1;32m      7\u001b[0m \u001b[0mfull_arr_1\u001b[0m\u001b[0;34m\u001b[0m\u001b[0;34m\u001b[0m\u001b[0m\n",
            "\u001b[0;32m/usr/local/lib/python3.11/dist-packages/numpy/_core/numeric.py\u001b[0m in \u001b[0;36mfull_like\u001b[0;34m(a, fill_value, dtype, order, subok, shape, device)\u001b[0m\n\u001b[1;32m    450\u001b[0m         \u001b[0ma\u001b[0m\u001b[0;34m,\u001b[0m \u001b[0mdtype\u001b[0m\u001b[0;34m=\u001b[0m\u001b[0mdtype\u001b[0m\u001b[0;34m,\u001b[0m \u001b[0morder\u001b[0m\u001b[0;34m=\u001b[0m\u001b[0morder\u001b[0m\u001b[0;34m,\u001b[0m \u001b[0msubok\u001b[0m\u001b[0;34m=\u001b[0m\u001b[0msubok\u001b[0m\u001b[0;34m,\u001b[0m \u001b[0mshape\u001b[0m\u001b[0;34m=\u001b[0m\u001b[0mshape\u001b[0m\u001b[0;34m,\u001b[0m \u001b[0mdevice\u001b[0m\u001b[0;34m=\u001b[0m\u001b[0mdevice\u001b[0m\u001b[0;34m\u001b[0m\u001b[0;34m\u001b[0m\u001b[0m\n\u001b[1;32m    451\u001b[0m     )\n\u001b[0;32m--> 452\u001b[0;31m     \u001b[0mmultiarray\u001b[0m\u001b[0;34m.\u001b[0m\u001b[0mcopyto\u001b[0m\u001b[0;34m(\u001b[0m\u001b[0mres\u001b[0m\u001b[0;34m,\u001b[0m \u001b[0mfill_value\u001b[0m\u001b[0;34m,\u001b[0m \u001b[0mcasting\u001b[0m\u001b[0;34m=\u001b[0m\u001b[0;34m'unsafe'\u001b[0m\u001b[0;34m)\u001b[0m\u001b[0;34m\u001b[0m\u001b[0;34m\u001b[0m\u001b[0m\n\u001b[0m\u001b[1;32m    453\u001b[0m     \u001b[0;32mreturn\u001b[0m \u001b[0mres\u001b[0m\u001b[0;34m\u001b[0m\u001b[0;34m\u001b[0m\u001b[0m\n\u001b[1;32m    454\u001b[0m \u001b[0;34m\u001b[0m\u001b[0m\n",
            "\u001b[0;31mValueError\u001b[0m: invalid literal for int() with base 10: np.str_('a')"
          ]
        }
      ]
    },
    {
      "cell_type": "code",
      "source": [
        "full_arr_1 = np.full_like(a, 'a', dtype='str')\n",
        "full_arr_1"
      ],
      "metadata": {
        "id": "-R6ghgeV2dD-",
        "colab": {
          "base_uri": "https://localhost:8080/"
        },
        "outputId": "67fbb90a-c0cb-4655-83ef-f63fd0d80672"
      },
      "execution_count": null,
      "outputs": [
        {
          "output_type": "execute_result",
          "data": {
            "text/plain": [
              "array(['a', 'a', 'a'], dtype='<U1')"
            ]
          },
          "metadata": {},
          "execution_count": 22
        }
      ]
    },
    {
      "cell_type": "code",
      "source": [
        "# Create a 3 by 3 identity matrix\n",
        "eye = np.eye(3).astype(int)\n",
        "eye"
      ],
      "metadata": {
        "colab": {
          "base_uri": "https://localhost:8080/"
        },
        "id": "ootlA4f13g5G",
        "outputId": "0e79a5b0-273f-4628-fb54-e9ef590ce7b4"
      },
      "execution_count": null,
      "outputs": [
        {
          "output_type": "execute_result",
          "data": {
            "text/plain": [
              "array([[1, 0, 0],\n",
              "       [0, 1, 0],\n",
              "       [0, 0, 1]])"
            ]
          },
          "metadata": {},
          "execution_count": 23
        }
      ]
    },
    {
      "cell_type": "code",
      "source": [
        "# Create a 3 by 3 identity matrix\n",
        "identity = np.identity(3).astype(int)\n",
        "identity"
      ],
      "metadata": {
        "colab": {
          "base_uri": "https://localhost:8080/"
        },
        "id": "fx7nLSaS3rMW",
        "outputId": "f53eefa2-6d65-4758-bc7e-decd7deb864b"
      },
      "execution_count": null,
      "outputs": [
        {
          "output_type": "execute_result",
          "data": {
            "text/plain": [
              "array([[1, 0, 0],\n",
              "       [0, 1, 0],\n",
              "       [0, 0, 1]])"
            ]
          },
          "metadata": {},
          "execution_count": 24
        }
      ]
    },
    {
      "cell_type": "markdown",
      "source": [
        "Instead of using astype() method, we can directly use the dtype parameter.\n",
        "\n",
        "The numerical data types are named the same way: a type name, like float or\n",
        "int, followed by a number indicating the number of bits per element."
      ],
      "metadata": {
        "id": "jP4BBt5H3Vq2"
      }
    },
    {
      "cell_type": "code",
      "source": [
        "arr_1 = np.array([1,2,3], dtype=np.float64)\n",
        "print(arr_1)\n",
        "\n",
        "arr_2 = np.array([1,2,3], dtype=np.int32)\n",
        "print(arr_2)\n",
        "\n",
        "# This line below is incorrect. Make sure that you use the one amont the numpy datatypes:\n",
        "# The general types are int, float, complex => followed by the number of bits needed,\n",
        "# and other types like bool, string_, unicode_, and object which means that the data can be any possible python object\n",
        "arr_3 = np.array([1,2,3], dtype=np.int)\n",
        "print(arr_3)"
      ],
      "metadata": {
        "id": "x5Fwd7mz3yVN",
        "colab": {
          "base_uri": "https://localhost:8080/",
          "height": 419
        },
        "outputId": "86c33440-4467-422b-fc18-6d2e015be746"
      },
      "execution_count": null,
      "outputs": [
        {
          "output_type": "stream",
          "name": "stdout",
          "text": [
            "[1. 2. 3.]\n",
            "[1 2 3]\n"
          ]
        },
        {
          "output_type": "error",
          "ename": "AttributeError",
          "evalue": "module 'numpy' has no attribute 'int'.\n`np.int` was a deprecated alias for the builtin `int`. To avoid this error in existing code, use `int` by itself. Doing this will not modify any behavior and is safe. When replacing `np.int`, you may wish to use e.g. `np.int64` or `np.int32` to specify the precision. If you wish to review your current use, check the release note link for additional information.\nThe aliases was originally deprecated in NumPy 1.20; for more details and guidance see the original release note at:\n    https://numpy.org/devdocs/release/1.20.0-notes.html#deprecations",
          "traceback": [
            "\u001b[0;31m---------------------------------------------------------------------------\u001b[0m",
            "\u001b[0;31mAttributeError\u001b[0m                            Traceback (most recent call last)",
            "\u001b[0;32m<ipython-input-25-246d6aa8a0ca>\u001b[0m in \u001b[0;36m<cell line: 0>\u001b[0;34m()\u001b[0m\n\u001b[1;32m      8\u001b[0m \u001b[0;31m# The general types are int, float, complex => followed by the number of bits needed,\u001b[0m\u001b[0;34m\u001b[0m\u001b[0;34m\u001b[0m\u001b[0m\n\u001b[1;32m      9\u001b[0m \u001b[0;31m# and other types like bool, string_, unicode_, and object which means that the data can be any possible python object\u001b[0m\u001b[0;34m\u001b[0m\u001b[0;34m\u001b[0m\u001b[0m\n\u001b[0;32m---> 10\u001b[0;31m \u001b[0marr_3\u001b[0m \u001b[0;34m=\u001b[0m \u001b[0mnp\u001b[0m\u001b[0;34m.\u001b[0m\u001b[0marray\u001b[0m\u001b[0;34m(\u001b[0m\u001b[0;34m[\u001b[0m\u001b[0;36m1\u001b[0m\u001b[0;34m,\u001b[0m\u001b[0;36m2\u001b[0m\u001b[0;34m,\u001b[0m\u001b[0;36m3\u001b[0m\u001b[0;34m]\u001b[0m\u001b[0;34m,\u001b[0m \u001b[0mdtype\u001b[0m\u001b[0;34m=\u001b[0m\u001b[0mnp\u001b[0m\u001b[0;34m.\u001b[0m\u001b[0mint\u001b[0m\u001b[0;34m)\u001b[0m\u001b[0;34m\u001b[0m\u001b[0;34m\u001b[0m\u001b[0m\n\u001b[0m\u001b[1;32m     11\u001b[0m \u001b[0mprint\u001b[0m\u001b[0;34m(\u001b[0m\u001b[0marr_3\u001b[0m\u001b[0;34m)\u001b[0m\u001b[0;34m\u001b[0m\u001b[0;34m\u001b[0m\u001b[0m\n",
            "\u001b[0;32m/usr/local/lib/python3.11/dist-packages/numpy/__init__.py\u001b[0m in \u001b[0;36m__getattr__\u001b[0;34m(attr)\u001b[0m\n\u001b[1;32m    392\u001b[0m \u001b[0;34m\u001b[0m\u001b[0m\n\u001b[1;32m    393\u001b[0m         \u001b[0;32mif\u001b[0m \u001b[0mattr\u001b[0m \u001b[0;32min\u001b[0m \u001b[0m__former_attrs__\u001b[0m\u001b[0;34m:\u001b[0m\u001b[0;34m\u001b[0m\u001b[0;34m\u001b[0m\u001b[0m\n\u001b[0;32m--> 394\u001b[0;31m             \u001b[0;32mraise\u001b[0m \u001b[0mAttributeError\u001b[0m\u001b[0;34m(\u001b[0m\u001b[0m__former_attrs__\u001b[0m\u001b[0;34m[\u001b[0m\u001b[0mattr\u001b[0m\u001b[0;34m]\u001b[0m\u001b[0;34m)\u001b[0m\u001b[0;34m\u001b[0m\u001b[0;34m\u001b[0m\u001b[0m\n\u001b[0m\u001b[1;32m    395\u001b[0m \u001b[0;34m\u001b[0m\u001b[0m\n\u001b[1;32m    396\u001b[0m         \u001b[0;32mif\u001b[0m \u001b[0mattr\u001b[0m \u001b[0;32min\u001b[0m \u001b[0m__expired_attributes__\u001b[0m\u001b[0;34m:\u001b[0m\u001b[0;34m\u001b[0m\u001b[0;34m\u001b[0m\u001b[0m\n",
            "\u001b[0;31mAttributeError\u001b[0m: module 'numpy' has no attribute 'int'.\n`np.int` was a deprecated alias for the builtin `int`. To avoid this error in existing code, use `int` by itself. Doing this will not modify any behavior and is safe. When replacing `np.int`, you may wish to use e.g. `np.int64` or `np.int32` to specify the precision. If you wish to review your current use, check the release note link for additional information.\nThe aliases was originally deprecated in NumPy 1.20; for more details and guidance see the original release note at:\n    https://numpy.org/devdocs/release/1.20.0-notes.html#deprecations"
          ]
        }
      ]
    },
    {
      "cell_type": "markdown",
      "source": [
        "## Vectorization:\n",
        "The ability to perform batch operations on array's data without having to write a for loop."
      ],
      "metadata": {
        "id": "QOyjKFe07jQo"
      }
    },
    {
      "cell_type": "code",
      "source": [
        "arr = np.array([[1,2,3],[4,5,6]])\n",
        "arr * arr"
      ],
      "metadata": {
        "id": "2Qq1Wwyi3hOA",
        "colab": {
          "base_uri": "https://localhost:8080/"
        },
        "outputId": "769c3d83-154d-4f3e-ab4e-6a69dc4a7b1a"
      },
      "execution_count": null,
      "outputs": [
        {
          "output_type": "execute_result",
          "data": {
            "text/plain": [
              "array([[ 1,  4,  9],\n",
              "       [16, 25, 36]])"
            ]
          },
          "metadata": {},
          "execution_count": 26
        }
      ]
    },
    {
      "cell_type": "code",
      "source": [
        "arr - arr"
      ],
      "metadata": {
        "id": "idOuFCAZ7_pQ",
        "colab": {
          "base_uri": "https://localhost:8080/"
        },
        "outputId": "3f45744d-490d-442e-ca9c-65ed8f3032cb"
      },
      "execution_count": null,
      "outputs": [
        {
          "output_type": "execute_result",
          "data": {
            "text/plain": [
              "array([[0, 0, 0],\n",
              "       [0, 0, 0]])"
            ]
          },
          "metadata": {},
          "execution_count": 27
        }
      ]
    },
    {
      "cell_type": "code",
      "source": [
        "1/arr"
      ],
      "metadata": {
        "id": "NT7Ggvf18A4g",
        "colab": {
          "base_uri": "https://localhost:8080/"
        },
        "outputId": "0246f95e-c550-4f05-910d-28170b0aea17"
      },
      "execution_count": null,
      "outputs": [
        {
          "output_type": "execute_result",
          "data": {
            "text/plain": [
              "array([[1.        , 0.5       , 0.33333333],\n",
              "       [0.25      , 0.2       , 0.16666667]])"
            ]
          },
          "metadata": {},
          "execution_count": 28
        }
      ]
    },
    {
      "cell_type": "code",
      "source": [
        "arr/5"
      ],
      "metadata": {
        "id": "Nynpp7wK8CU_",
        "colab": {
          "base_uri": "https://localhost:8080/"
        },
        "outputId": "a6461f32-de16-4794-c95a-0de2883d5bbc"
      },
      "execution_count": null,
      "outputs": [
        {
          "output_type": "execute_result",
          "data": {
            "text/plain": [
              "array([[0.2, 0.4, 0.6],\n",
              "       [0.8, 1. , 1.2]])"
            ]
          },
          "metadata": {},
          "execution_count": 29
        }
      ]
    },
    {
      "cell_type": "code",
      "source": [
        "arr ** 2"
      ],
      "metadata": {
        "id": "KZ6ltjjG8D9f",
        "colab": {
          "base_uri": "https://localhost:8080/"
        },
        "outputId": "1c3332f0-1da3-4ded-cadb-ccbae66ea70e"
      },
      "execution_count": null,
      "outputs": [
        {
          "output_type": "execute_result",
          "data": {
            "text/plain": [
              "array([[ 1,  4,  9],\n",
              "       [16, 25, 36]])"
            ]
          },
          "metadata": {},
          "execution_count": 30
        }
      ]
    },
    {
      "cell_type": "code",
      "source": [
        "arr_2 = np.array([[-1,2,-3],[4,-5,6]])\n",
        "arr_1 > arr_2"
      ],
      "metadata": {
        "id": "LzWELJDw8KcP",
        "colab": {
          "base_uri": "https://localhost:8080/"
        },
        "outputId": "cf16db7d-b83a-40f9-8842-c15616e720ce"
      },
      "execution_count": null,
      "outputs": [
        {
          "output_type": "execute_result",
          "data": {
            "text/plain": [
              "array([[ True, False,  True],\n",
              "       [False,  True, False]])"
            ]
          },
          "metadata": {},
          "execution_count": 31
        }
      ]
    },
    {
      "cell_type": "markdown",
      "source": [
        "### Indexing & Slicing:\n",
        "One-dimensional arrays act similarly to Python lists"
      ],
      "metadata": {
        "id": "k1ZTMEVb9kqf"
      }
    },
    {
      "cell_type": "code",
      "source": [
        "arr_1 = np.arange(11)\n",
        "print(arr_1[:]) # The whole array\n",
        "print(arr_1[4:]) # From index 4 to the end\n",
        "print(arr_1[:4]) # From index 0 to index 4-1\n",
        "print(arr_1[::2]) # From index 0 to the end, index is incremented by 2\n",
        "print(arr_1[::-1]) # From the end to index 0\n",
        "print(arr_1[::-2]) # From the end to index 0, index is decremented by 2\n",
        "print(arr_1[5::-1]) # From index 5 to the start\n",
        "print(arr_1[5::-2]) # From index 5 to the start, index is decremented by 2\n",
        "\n",
        "print()\n",
        "print()\n",
        "print()\n",
        "\n",
        "# This one below prints an empty string. WHY?\n",
        "# 2nd boundary must be lower than first boundary.\n",
        "# Since we're going in reverse order, we must start from a higher index\n",
        "# and end in a smaller index, e.g. from index 5 to index 3.\n",
        "print(arr_1[5:8:-1])\n",
        "print(arr_1[5:3:-1])\n",
        "print(arr_1[3:1:-1])"
      ],
      "metadata": {
        "colab": {
          "base_uri": "https://localhost:8080/"
        },
        "id": "Qk8dToEW8Vso",
        "outputId": "a80b0947-7630-4e3e-ad19-6659ff72791a"
      },
      "execution_count": null,
      "outputs": [
        {
          "output_type": "stream",
          "name": "stdout",
          "text": [
            "[ 0  1  2  3  4  5  6  7  8  9 10]\n",
            "[ 4  5  6  7  8  9 10]\n",
            "[0 1 2 3]\n",
            "[ 0  2  4  6  8 10]\n",
            "[10  9  8  7  6  5  4  3  2  1  0]\n",
            "[10  8  6  4  2  0]\n",
            "[5 4 3 2 1 0]\n",
            "[5 3 1]\n",
            "\n",
            "\n",
            "\n",
            "[]\n",
            "[5 4]\n",
            "[3 2]\n"
          ]
        }
      ]
    },
    {
      "cell_type": "markdown",
      "source": [
        "You can assign a scalar value to a slice!\n",
        "\n",
        "__Array slicces are views to the original array & changing them will reflect on the original array__\n",
        "<br>\n",
        "-----------------------------------\n",
        "<br>\n",
        "<br>\n",
        "If you want a copy of a slice of an ndarray instead of a view, you will need to explicitly copy the array—for example:\n",
        "\n",
        "```python\n",
        "arr[5:8].copy()\n"
      ],
      "metadata": {
        "id": "GClybjMDBvf3"
      }
    },
    {
      "cell_type": "code",
      "source": [
        "print(arr_1)\n",
        "arr_slice = arr_1[4:8]\n",
        "arr_slice[:] = 4\n",
        "print(arr_1)\n",
        "arr_slice[1] = 248\n",
        "print(arr_1)"
      ],
      "metadata": {
        "colab": {
          "base_uri": "https://localhost:8080/"
        },
        "id": "qnlxjtxhArKH",
        "outputId": "23c48bc3-6ba2-40e7-f219-49a5b4b6aa80"
      },
      "execution_count": null,
      "outputs": [
        {
          "output_type": "stream",
          "name": "stdout",
          "text": [
            "[ 0  1  2  3  4  5  6  7  8  9 10]\n",
            "[ 0  1  2  3  4  4  4  4  8  9 10]\n",
            "[  0   1   2   3   4 248   4   4   8   9  10]\n"
          ]
        }
      ]
    },
    {
      "cell_type": "code",
      "source": [
        "arr2d = np.array([[1, 2, 3], [4, 5, 6], [7, 8, 9]])\n",
        "\n",
        "print(arr2d[0][1]) # => 2\n",
        "print(arr2d[0, 1]) # => 2; this would only work in numpy\n",
        "print(arr2d[0][:2]) # => Slicing the first sub-array\n",
        "print(arr2d[1][::-1])\n",
        "print()\n",
        "print(arr2d[0:2]) # Slicing the 2D array\n",
        "print()\n",
        "print(arr2d[2:1:-1]) # From index 2 to index 1 and index 1 isn't included\n",
        "print()\n",
        "print(arr2d[1::-1]) # From index 1 to the start\n",
        "print()\n",
        "arr2d[0] = 101  # Assigning a scalar value to a lower-dimension array\n",
        "                # propagates this value to all indices of this sub-array\n",
        "print(arr2d)"
      ],
      "metadata": {
        "colab": {
          "base_uri": "https://localhost:8080/"
        },
        "id": "RPcf6PPFDMSQ",
        "outputId": "3f439344-2136-419b-a867-a7a7574ec961"
      },
      "execution_count": null,
      "outputs": [
        {
          "output_type": "stream",
          "name": "stdout",
          "text": [
            "2\n",
            "2\n",
            "[1 2]\n",
            "[6 5 4]\n",
            "\n",
            "[[1 2 3]\n",
            " [4 5 6]]\n",
            "\n",
            "[[7 8 9]]\n",
            "\n",
            "[[4 5 6]\n",
            " [1 2 3]]\n",
            "\n",
            "[[101 101 101]\n",
            " [  4   5   6]\n",
            " [  7   8   9]]\n"
          ]
        }
      ]
    },
    {
      "cell_type": "code",
      "source": [
        "# Look at THAT\n",
        "# You can pass multiple slices just like you can pass multiple indexes\n",
        "arr2d[:2, 1:]"
      ],
      "metadata": {
        "colab": {
          "base_uri": "https://localhost:8080/"
        },
        "id": "aqPGZvoGKtLR",
        "outputId": "d28b2e16-85f8-4fdb-f5dd-13795ba48fd6"
      },
      "execution_count": null,
      "outputs": [
        {
          "output_type": "execute_result",
          "data": {
            "text/plain": [
              "array([[101, 101],\n",
              "       [  5,   6]])"
            ]
          },
          "metadata": {},
          "execution_count": 35
        }
      ]
    },
    {
      "cell_type": "markdown",
      "source": [
        "By mixing integer indexes and slices, you get lower dimensional slices.\n",
        "For example, getting the sub-array in the first index & then slice it."
      ],
      "metadata": {
        "id": "XSSE4hybMvDI"
      }
    },
    {
      "cell_type": "code",
      "source": [
        "lower_dim_slice = arr2d[1, :2]\n",
        "lower_dim_slice # => get [3, 4, 5], then slice it => [4 ,5]"
      ],
      "metadata": {
        "colab": {
          "base_uri": "https://localhost:8080/"
        },
        "id": "LIVJuT7dM1QZ",
        "outputId": "be6d46cd-1d01-494d-e646-efb7ecdfb7ad"
      },
      "execution_count": null,
      "outputs": [
        {
          "output_type": "execute_result",
          "data": {
            "text/plain": [
              "array([4, 5])"
            ]
          },
          "metadata": {},
          "execution_count": 36
        }
      ]
    },
    {
      "cell_type": "markdown",
      "source": [
        "Similarly, we can get the first 2 rows in the third column"
      ],
      "metadata": {
        "id": "GUmQk_1eNTdZ"
      }
    },
    {
      "cell_type": "code",
      "source": [
        "arr2d[:2, 2]"
      ],
      "metadata": {
        "colab": {
          "base_uri": "https://localhost:8080/"
        },
        "id": "_hjZ223MNS7I",
        "outputId": "91c3123c-e9d3-4394-96ae-0013ffffe402"
      },
      "execution_count": null,
      "outputs": [
        {
          "output_type": "execute_result",
          "data": {
            "text/plain": [
              "array([101,   6])"
            ]
          },
          "metadata": {},
          "execution_count": 37
        }
      ]
    },
    {
      "cell_type": "code",
      "source": [
        "# Get all rows of the first column\n",
        "arr2d[:, :1]"
      ],
      "metadata": {
        "colab": {
          "base_uri": "https://localhost:8080/"
        },
        "id": "XkOvDDjoNj0o",
        "outputId": "f3c903f0-3c9a-42b8-fc41-f60a09023dc1"
      },
      "execution_count": null,
      "outputs": [
        {
          "output_type": "execute_result",
          "data": {
            "text/plain": [
              "array([[101],\n",
              "       [  4],\n",
              "       [  7]])"
            ]
          },
          "metadata": {},
          "execution_count": 38
        }
      ]
    },
    {
      "cell_type": "markdown",
      "source": [
        "__~__ can be used to invert a boolean expression.\n",
        "<br>\n",
        "But ~ (bitwise not) returns the bits inversion. 'not' always returns a boolean value"
      ],
      "metadata": {
        "id": "tym0Q_SuOpSq"
      }
    },
    {
      "cell_type": "code",
      "source": [
        "if ~False:\n",
        "  print(\"HI\")"
      ],
      "metadata": {
        "colab": {
          "base_uri": "https://localhost:8080/"
        },
        "id": "c_I970TVOkQY",
        "outputId": "f328af26-2804-4823-f067-d3a5b3dcc0b0"
      },
      "execution_count": null,
      "outputs": [
        {
          "output_type": "stream",
          "name": "stdout",
          "text": [
            "HI\n"
          ]
        }
      ]
    },
    {
      "cell_type": "markdown",
      "source": [
        "##Boolean Indexing:"
      ],
      "metadata": {
        "id": "Vaj6onfDVC65"
      }
    },
    {
      "cell_type": "code",
      "source": [
        "# Let's say each name corresponds to a sub array in the data 2D array\n",
        "names = np.array([\"Bob\", \"Joe\",   \"Will\",  \"Bob\", \"Will\",  \"Joe\",     \"Joe\"])\n",
        "data = np.array([[4, 7], [0, 2], [-5, 6], [0, 0], [1, 2], [-12, -4], [3, 4]])\n",
        "\n",
        "# This boolean expression below is saying that the array's value is \"Bob\"\n",
        "# However, this is only True in certain indices\n",
        "# So we can say that this expression is a shorthand for this one:\n",
        "# np.array([names[i] == 'Bob' for i in range(names.size)])\n",
        "# However, this version is a vectorized numpy operation which is way better\n",
        "# performance wise.\n",
        "names == 'Bob'"
      ],
      "metadata": {
        "id": "VcbiYamNPR74",
        "colab": {
          "base_uri": "https://localhost:8080/"
        },
        "outputId": "e04c246d-b8fd-4713-c1bc-4f542cfbd2a8"
      },
      "execution_count": null,
      "outputs": [
        {
          "output_type": "execute_result",
          "data": {
            "text/plain": [
              "array([ True, False, False,  True, False, False, False])"
            ]
          },
          "metadata": {},
          "execution_count": 40
        }
      ]
    },
    {
      "cell_type": "code",
      "source": [
        "np.array([names[i] == 'Bob' for i in range(names.size)])"
      ],
      "metadata": {
        "colab": {
          "base_uri": "https://localhost:8080/"
        },
        "id": "J_lsiU25Wty7",
        "outputId": "43fe08de-2258-4292-87c9-889492ce486a"
      },
      "execution_count": null,
      "outputs": [
        {
          "output_type": "execute_result",
          "data": {
            "text/plain": [
              "array([ True, False, False,  True, False, False, False])"
            ]
          },
          "metadata": {},
          "execution_count": 41
        }
      ]
    },
    {
      "cell_type": "markdown",
      "source": [
        "We can use this boolean array to pick up induces that correspond to a \"True\" value"
      ],
      "metadata": {
        "id": "H_4qblF-b8Kq"
      }
    },
    {
      "cell_type": "code",
      "source": [
        "names[names == 'Bob']"
      ],
      "metadata": {
        "colab": {
          "base_uri": "https://localhost:8080/"
        },
        "id": "zcMfMVAlXOj6",
        "outputId": "6f52b2a8-0f14-409c-a3d6-ca44f09d013d"
      },
      "execution_count": null,
      "outputs": [
        {
          "output_type": "execute_result",
          "data": {
            "text/plain": [
              "array(['Bob', 'Bob'], dtype='<U4')"
            ]
          },
          "metadata": {},
          "execution_count": 42
        }
      ]
    },
    {
      "cell_type": "markdown",
      "source": [
        "We can use any boolean array, even a boolean array generated from a different array with the same size.\n",
        "\n",
        "For example, say we want to get the data of the user \"Bob\""
      ],
      "metadata": {
        "id": "Gf9ZwhtKcNw6"
      }
    },
    {
      "cell_type": "code",
      "source": [
        "data[names == 'Bob']"
      ],
      "metadata": {
        "colab": {
          "base_uri": "https://localhost:8080/"
        },
        "id": "gsUeFUdEcM3R",
        "outputId": "50c5742d-ef8f-49d7-9043-f78149f20529"
      },
      "execution_count": null,
      "outputs": [
        {
          "output_type": "execute_result",
          "data": {
            "text/plain": [
              "array([[4, 7],\n",
              "       [0, 0]])"
            ]
          },
          "metadata": {},
          "execution_count": 43
        }
      ]
    },
    {
      "cell_type": "markdown",
      "source": [
        "We can use this boolean array for an index of a 1D, 2D, or xD array."
      ],
      "metadata": {
        "id": "4TmN7u5xdV0q"
      }
    },
    {
      "cell_type": "code",
      "source": [
        "# After getting the first dimention data with the boolean array,\n",
        "# We get elements in index 1 from each of them\n",
        "data[names == 'Bob', 1]"
      ],
      "metadata": {
        "colab": {
          "base_uri": "https://localhost:8080/"
        },
        "id": "Nwa25Uf_cemC",
        "outputId": "85ed1f25-98ed-49a0-dcef-7fc7da4d1c48"
      },
      "execution_count": null,
      "outputs": [
        {
          "output_type": "execute_result",
          "data": {
            "text/plain": [
              "array([7, 0])"
            ]
          },
          "metadata": {},
          "execution_count": 44
        }
      ]
    },
    {
      "cell_type": "markdown",
      "source": [
        "To select everything but Bob, we can use either != or ~ operators"
      ],
      "metadata": {
        "id": "bTXXKxP4fTaq"
      }
    },
    {
      "cell_type": "code",
      "source": [
        "Bob = names == 'Bob'\n",
        "names[~Bob]"
      ],
      "metadata": {
        "colab": {
          "base_uri": "https://localhost:8080/"
        },
        "id": "fifx5GcMeGaK",
        "outputId": "40a6c241-0143-4f5a-9840-7194dd125ff2"
      },
      "execution_count": null,
      "outputs": [
        {
          "output_type": "execute_result",
          "data": {
            "text/plain": [
              "array(['Joe', 'Will', 'Will', 'Joe', 'Joe'], dtype='<U4')"
            ]
          },
          "metadata": {},
          "execution_count": 45
        }
      ]
    },
    {
      "cell_type": "code",
      "source": [
        "~Bob"
      ],
      "metadata": {
        "colab": {
          "base_uri": "https://localhost:8080/"
        },
        "id": "wPLeFz-Rfnns",
        "outputId": "c5b91a7c-edbd-4cbe-e5dc-71d486a8cc37"
      },
      "execution_count": null,
      "outputs": [
        {
          "output_type": "execute_result",
          "data": {
            "text/plain": [
              "array([False,  True,  True, False,  True,  True,  True])"
            ]
          },
          "metadata": {},
          "execution_count": 46
        }
      ]
    },
    {
      "cell_type": "code",
      "source": [
        "data[names != 'Bob']"
      ],
      "metadata": {
        "colab": {
          "base_uri": "https://localhost:8080/"
        },
        "id": "8ov_cTP3fqBp",
        "outputId": "87a24e94-0e77-435e-c184-25e6cc06151d"
      },
      "execution_count": null,
      "outputs": [
        {
          "output_type": "execute_result",
          "data": {
            "text/plain": [
              "array([[  0,   2],\n",
              "       [ -5,   6],\n",
              "       [  1,   2],\n",
              "       [-12,  -4],\n",
              "       [  3,   4]])"
            ]
          },
          "metadata": {},
          "execution_count": 47
        }
      ]
    },
    {
      "cell_type": "code",
      "source": [
        "data[~Bob]"
      ],
      "metadata": {
        "colab": {
          "base_uri": "https://localhost:8080/"
        },
        "id": "heBTRQIEfvOC",
        "outputId": "e12d19cc-a3b0-456c-acce-7dcb7dc411c3"
      },
      "execution_count": null,
      "outputs": [
        {
          "output_type": "execute_result",
          "data": {
            "text/plain": [
              "array([[  0,   2],\n",
              "       [ -5,   6],\n",
              "       [  1,   2],\n",
              "       [-12,  -4],\n",
              "       [  3,   4]])"
            ]
          },
          "metadata": {},
          "execution_count": 48
        }
      ]
    },
    {
      "cell_type": "markdown",
      "source": [
        "You can ever create a combination of different boolean expressions;\n",
        "In this case, it's called a **mask**"
      ],
      "metadata": {
        "id": "dBxSU4J2f1lz"
      }
    },
    {
      "cell_type": "code",
      "source": [
        "import numpy as np\n",
        "names = np.array([\"Bob\", \"Joe\",   \"Will\",  \"Bob\", \"Will\",  \"Joe\",     \"Joe\"])"
      ],
      "metadata": {
        "id": "86mgGe_QOcEH"
      },
      "execution_count": 1,
      "outputs": []
    },
    {
      "cell_type": "code",
      "source": [
        "# Make sure you use ( parentheses ) to prevent precdence errors\n",
        "mask = (names == 'Bob') | (names == 'Joe')\n",
        "names[mask]"
      ],
      "metadata": {
        "colab": {
          "base_uri": "https://localhost:8080/"
        },
        "id": "qKhkOkNzfxej",
        "outputId": "22130e87-ac8c-4e6e-c352-e6290517e806"
      },
      "execution_count": 2,
      "outputs": [
        {
          "output_type": "execute_result",
          "data": {
            "text/plain": [
              "array(['Bob', 'Joe', 'Bob', 'Joe', 'Joe'], dtype='<U4')"
            ]
          },
          "metadata": {},
          "execution_count": 2
        }
      ]
    },
    {
      "cell_type": "code",
      "source": [
        "mask"
      ],
      "metadata": {
        "colab": {
          "base_uri": "https://localhost:8080/"
        },
        "id": "IrE6FgzWhJlb",
        "outputId": "345319c0-1db3-42b4-edd0-e110ce221f36"
      },
      "execution_count": 3,
      "outputs": [
        {
          "output_type": "execute_result",
          "data": {
            "text/plain": [
              "array([ True,  True, False,  True, False,  True,  True])"
            ]
          },
          "metadata": {},
          "execution_count": 3
        }
      ]
    },
    {
      "cell_type": "markdown",
      "source": [
        "We can also use this method to achieve the exact same result:\n",
        "```python\n",
        "np.logical_or()\n",
        "```"
      ],
      "metadata": {
        "id": "AMGKd82HN84i"
      }
    },
    {
      "cell_type": "code",
      "source": [
        "mask = np.logical_or(names == 'Bob', names == 'Joe')\n",
        "print(mask)\n",
        "names[mask]"
      ],
      "metadata": {
        "colab": {
          "base_uri": "https://localhost:8080/"
        },
        "id": "rLufx1FiORVw",
        "outputId": "a797389e-03f9-470e-dc01-bedac5cb2934"
      },
      "execution_count": 5,
      "outputs": [
        {
          "output_type": "stream",
          "name": "stdout",
          "text": [
            "[ True  True False  True False  True  True]\n"
          ]
        },
        {
          "output_type": "execute_result",
          "data": {
            "text/plain": [
              "array(['Bob', 'Joe', 'Bob', 'Joe', 'Joe'], dtype='<U4')"
            ]
          },
          "metadata": {},
          "execution_count": 5
        }
      ]
    },
    {
      "cell_type": "markdown",
      "source": [
        "Other logical functions include:![Screenshot 2025-06-29 180009.png](data:image/png;base64,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)"
      ],
      "metadata": {
        "id": "TODDi6M9Ov0p"
      }
    },
    {
      "cell_type": "code",
      "source": [
        "data[mask]"
      ],
      "metadata": {
        "colab": {
          "base_uri": "https://localhost:8080/"
        },
        "id": "pb88G0sChMNq",
        "outputId": "9c6ef0b7-ba05-4faf-993e-d64b77d3cf70"
      },
      "execution_count": null,
      "outputs": [
        {
          "output_type": "execute_result",
          "data": {
            "text/plain": [
              "array([[  4,   7],\n",
              "       [  0,   2],\n",
              "       [  0,   0],\n",
              "       [-12,  -4],\n",
              "       [  3,   4]])"
            ]
          },
          "metadata": {},
          "execution_count": 51
        }
      ]
    },
    {
      "cell_type": "code",
      "source": [
        "data[~mask]"
      ],
      "metadata": {
        "colab": {
          "base_uri": "https://localhost:8080/"
        },
        "id": "VAdRH_uPhOoB",
        "outputId": "febe76a6-d4f7-4862-aeb6-1ad824d5f658"
      },
      "execution_count": null,
      "outputs": [
        {
          "output_type": "execute_result",
          "data": {
            "text/plain": [
              "array([[-5,  6],\n",
              "       [ 1,  2]])"
            ]
          },
          "metadata": {},
          "execution_count": 52
        }
      ]
    },
    {
      "cell_type": "markdown",
      "source": [
        "\n",
        "\n",
        "> Using boolean indexing and masks results in a brandnew copy rather than a view.\n",
        "If you remember, slicing created views that requires you to copy or any modification will affect the main array. Boolean indexing creates a copy so you don't have to do this copy step.\n",
        "\n"
      ],
      "metadata": {
        "id": "IPE_9inUhTYi"
      }
    },
    {
      "cell_type": "markdown",
      "source": [
        "For example, we'll modify a boolean-indexed array and see whether the original array got affected or not."
      ],
      "metadata": {
        "id": "Zo1hXAT5iKNi"
      }
    },
    {
      "cell_type": "code",
      "source": [
        "data_= data[data < 6] # Creates a copy\n",
        "data_[data_ < 0] = 0 # Modifying this copy doesn't affect the"
      ],
      "metadata": {
        "id": "tWy38d_EhQmC"
      },
      "execution_count": null,
      "outputs": []
    },
    {
      "cell_type": "code",
      "source": [
        "data_"
      ],
      "metadata": {
        "colab": {
          "base_uri": "https://localhost:8080/"
        },
        "id": "sWRxGt5_iwI6",
        "outputId": "d997438f-83f0-4903-fc04-1d1585adf9dd"
      },
      "execution_count": null,
      "outputs": [
        {
          "output_type": "execute_result",
          "data": {
            "text/plain": [
              "array([4, 0, 2, 0, 0, 0, 1, 2, 0, 0, 3, 4])"
            ]
          },
          "metadata": {},
          "execution_count": 54
        }
      ]
    },
    {
      "cell_type": "code",
      "source": [
        "data"
      ],
      "metadata": {
        "colab": {
          "base_uri": "https://localhost:8080/"
        },
        "id": "g-TjicrXlAh6",
        "outputId": "fc727a73-9b15-4616-ef73-51050e000497"
      },
      "execution_count": null,
      "outputs": [
        {
          "output_type": "execute_result",
          "data": {
            "text/plain": [
              "array([[  4,   7],\n",
              "       [  0,   2],\n",
              "       [ -5,   6],\n",
              "       [  0,   0],\n",
              "       [  1,   2],\n",
              "       [-12,  -4],\n",
              "       [  3,   4]])"
            ]
          },
          "metadata": {},
          "execution_count": 55
        }
      ]
    },
    {
      "cell_type": "markdown",
      "source": [
        "##Fancy Indexing\n",
        " Fancy indexing is a term adopted by NumPy to describe indexing using integer arrays."
      ],
      "metadata": {
        "id": "uUrCBdcAmAKp"
      }
    },
    {
      "cell_type": "markdown",
      "source": [
        "1. You can use multiple indexes as a list to get multiple items at once <br> In this case, the index is a list of integers rather than a single integer."
      ],
      "metadata": {
        "id": "qIyHXONuuNaT"
      }
    },
    {
      "cell_type": "code",
      "source": [
        "arr = np.zeros((8, 4))\n",
        "for i in range(8):\n",
        "  arr[i] = i\n",
        "arr"
      ],
      "metadata": {
        "colab": {
          "base_uri": "https://localhost:8080/"
        },
        "id": "VuSTLgIJlizS",
        "outputId": "3e111583-39ac-42f4-d707-70aef609e7f6"
      },
      "execution_count": null,
      "outputs": [
        {
          "output_type": "execute_result",
          "data": {
            "text/plain": [
              "array([[0., 0., 0., 0.],\n",
              "       [1., 1., 1., 1.],\n",
              "       [2., 2., 2., 2.],\n",
              "       [3., 3., 3., 3.],\n",
              "       [4., 4., 4., 4.],\n",
              "       [5., 5., 5., 5.],\n",
              "       [6., 6., 6., 6.],\n",
              "       [7., 7., 7., 7.]])"
            ]
          },
          "metadata": {},
          "execution_count": 56
        }
      ]
    },
    {
      "cell_type": "code",
      "source": [
        "arr[[4, 3, 0, 6]]"
      ],
      "metadata": {
        "colab": {
          "base_uri": "https://localhost:8080/"
        },
        "id": "nIFOlGmCuqUz",
        "outputId": "db4e2914-fce4-4af1-bec8-6be203d45a71"
      },
      "execution_count": null,
      "outputs": [
        {
          "output_type": "execute_result",
          "data": {
            "text/plain": [
              "array([[4., 4., 4., 4.],\n",
              "       [3., 3., 3., 3.],\n",
              "       [0., 0., 0., 0.],\n",
              "       [6., 6., 6., 6.]])"
            ]
          },
          "metadata": {},
          "execution_count": 57
        }
      ]
    },
    {
      "cell_type": "markdown",
      "source": [
        "2. Using negative indexes brings indexes from the end of the array."
      ],
      "metadata": {
        "id": "2huDEj-Gu96i"
      }
    },
    {
      "cell_type": "code",
      "source": [
        "arr[[-3, -5, -7]] # => [5,5,5,5], [3,3,3,3], [1,1,1,1]"
      ],
      "metadata": {
        "colab": {
          "base_uri": "https://localhost:8080/"
        },
        "id": "fm9ZtL6Ku6fZ",
        "outputId": "721f8152-204f-493f-ae0e-a370acbea17a"
      },
      "execution_count": null,
      "outputs": [
        {
          "output_type": "execute_result",
          "data": {
            "text/plain": [
              "array([[5., 5., 5., 5.],\n",
              "       [3., 3., 3., 3.],\n",
              "       [1., 1., 1., 1.]])"
            ]
          },
          "metadata": {},
          "execution_count": 58
        }
      ]
    },
    {
      "cell_type": "markdown",
      "source": [
        "In the cell below, a normal range array is created from 0 to 31.<br>After that, the array is \"reshaped\".<br><br>By reshaping, we change the dimenion of this array. Say, we want it to convert it from 1D to 2D array by making it from 8 rows and 4 columns. So we take the first 4 elements and assign them to the first row. Next 4 items to the 2nd row, and so on."
      ],
      "metadata": {
        "id": "tBo1MmzxvokB"
      }
    },
    {
      "cell_type": "code",
      "source": [
        "arr = np.arange(32).reshape((8, 4))\n",
        "arr"
      ],
      "metadata": {
        "colab": {
          "base_uri": "https://localhost:8080/"
        },
        "id": "hDeXEpXkvcVq",
        "outputId": "1f90b12d-e90b-43e8-b556-0086484f695c"
      },
      "execution_count": null,
      "outputs": [
        {
          "output_type": "execute_result",
          "data": {
            "text/plain": [
              "array([[ 0,  1,  2,  3],\n",
              "       [ 4,  5,  6,  7],\n",
              "       [ 8,  9, 10, 11],\n",
              "       [12, 13, 14, 15],\n",
              "       [16, 17, 18, 19],\n",
              "       [20, 21, 22, 23],\n",
              "       [24, 25, 26, 27],\n",
              "       [28, 29, 30, 31]])"
            ]
          },
          "metadata": {},
          "execution_count": 59
        }
      ]
    },
    {
      "cell_type": "markdown",
      "source": [
        "3. We can use a 2D array as an index and the behavior would completely change."
      ],
      "metadata": {
        "id": "kTSjqO-6w2ZC"
      }
    },
    {
      "cell_type": "code",
      "source": [
        "arr[[1, 5, 7, 2], [0, 3, 1, 2]]"
      ],
      "metadata": {
        "colab": {
          "base_uri": "https://localhost:8080/"
        },
        "id": "rTeYqy2YwwUb",
        "outputId": "a7180c16-af95-4848-d726-3d554c0ce744"
      },
      "execution_count": null,
      "outputs": [
        {
          "output_type": "execute_result",
          "data": {
            "text/plain": [
              "array([ 4, 23, 29, 10])"
            ]
          },
          "metadata": {},
          "execution_count": 60
        }
      ]
    },
    {
      "cell_type": "markdown",
      "source": [
        "As you may have noticed, it brought the row at index 1, then retrieves the element at index 0. And so on.. So it worked like that:<br> 1. From row at index 2, get item at index 0<br>2. From row 5, get item 3<br>3. From row 7, get item 1<br>4. From row 2, get item 2"
      ],
      "metadata": {
        "id": "E7BnpCv8xbOr"
      }
    },
    {
      "cell_type": "markdown",
      "source": [
        "**Unlike slicing, always copies the data into a new\n",
        " array when assigning the result to a new variable.**"
      ],
      "metadata": {
        "id": "aM3sSGexzA6Z"
      }
    },
    {
      "cell_type": "markdown",
      "source": [
        "4. You can normally index the output of a fancy indexed output array just like any other array"
      ],
      "metadata": {
        "id": "IDrFz8J30DMC"
      }
    },
    {
      "cell_type": "code",
      "source": [
        "arr[[1, 5, 7, 2]][:, [0, 3, 1, 2]]"
      ],
      "metadata": {
        "colab": {
          "base_uri": "https://localhost:8080/"
        },
        "id": "ZWEu1bAqyRm7",
        "outputId": "03cf376e-9494-4517-ebce-14f0b746c038"
      },
      "execution_count": null,
      "outputs": [
        {
          "output_type": "execute_result",
          "data": {
            "text/plain": [
              "array([[ 4,  7,  5,  6],\n",
              "       [20, 23, 21, 22],\n",
              "       [28, 31, 29, 30],\n",
              "       [ 8, 11,  9, 10]])"
            ]
          },
          "metadata": {},
          "execution_count": 61
        }
      ]
    },
    {
      "cell_type": "markdown",
      "source": [
        "![Screenshot 2025-05-30 183424.png](data:image/png;base64,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)"
      ],
      "metadata": {
        "id": "uDdgyH1X1OcL"
      }
    },
    {
      "cell_type": "markdown",
      "source": [
        "We can turn an n-D array to a 1D array using the **flatten( )** method:"
      ],
      "metadata": {
        "id": "YYWB811zJImD"
      }
    },
    {
      "cell_type": "code",
      "source": [
        "arr.flatten()"
      ],
      "metadata": {
        "colab": {
          "base_uri": "https://localhost:8080/"
        },
        "id": "IfgcCrZWJR3L",
        "outputId": "af281427-1f53-4f08-fa2d-4ff4521c7544"
      },
      "execution_count": null,
      "outputs": [
        {
          "output_type": "execute_result",
          "data": {
            "text/plain": [
              "array([ 0,  1,  2,  3,  4,  5,  6,  7,  8,  9, 10, 11, 12, 13, 14, 15, 16,\n",
              "       17, 18, 19, 20, 21, 22, 23, 24, 25, 26, 27, 28, 29, 30, 31])"
            ]
          },
          "metadata": {},
          "execution_count": 62
        }
      ]
    },
    {
      "cell_type": "markdown",
      "source": [
        "#Type Coercion"
      ],
      "metadata": {
        "id": "NFWPPUF2Vv9M"
      }
    },
    {
      "cell_type": "markdown",
      "source": [
        "If you tried to create an array with elements of different datatypes, datatype of every element will change or get casted to another datatype inferred to be the one that suits all the given data."
      ],
      "metadata": {
        "id": "_ur1pWkJVzEE"
      }
    },
    {
      "cell_type": "code",
      "source": [
        "arr = np.array(['duck', True, 1, 1.9])\n",
        "arr"
      ],
      "metadata": {
        "colab": {
          "base_uri": "https://localhost:8080/"
        },
        "id": "qHnuS8fBWEJ9",
        "outputId": "e9631c8c-91c4-49d7-ed07-a68964b4d59d"
      },
      "execution_count": null,
      "outputs": [
        {
          "output_type": "execute_result",
          "data": {
            "text/plain": [
              "array(['duck', 'True', '1', '1.9'], dtype='<U32')"
            ]
          },
          "metadata": {},
          "execution_count": 63
        }
      ]
    },
    {
      "cell_type": "markdown",
      "source": [
        "As you can see, all elements got casted to \"string\", or **U32** datatype; a **Unicode** string with up to 32 unicdoe characters"
      ],
      "metadata": {
        "id": "GhBIlcksWRs0"
      }
    },
    {
      "cell_type": "markdown",
      "source": [
        "##Transposing Arrays and Swapping Axes"
      ],
      "metadata": {
        "id": "ptiMpRd_1tIF"
      }
    },
    {
      "cell_type": "code",
      "source": [
        "arr = np.arange(15).reshape((3, 5))\n",
        "\n",
        "print(arr)\n",
        "print()\n",
        "print(arr.T)"
      ],
      "metadata": {
        "colab": {
          "base_uri": "https://localhost:8080/"
        },
        "id": "0Era9lBl1whL",
        "outputId": "068556da-d2ac-496d-aa42-3e1928e53682"
      },
      "execution_count": null,
      "outputs": [
        {
          "output_type": "stream",
          "name": "stdout",
          "text": [
            "[[ 0  1  2  3  4]\n",
            " [ 5  6  7  8  9]\n",
            " [10 11 12 13 14]]\n",
            "\n",
            "[[ 0  5 10]\n",
            " [ 1  6 11]\n",
            " [ 2  7 12]\n",
            " [ 3  8 13]\n",
            " [ 4  9 14]]\n"
          ]
        }
      ]
    },
    {
      "cell_type": "markdown",
      "source": [
        "We use this alot in matrix operations. For example, check out this dot product:"
      ],
      "metadata": {
        "id": "ie0cJwWF9ZzJ"
      }
    },
    {
      "cell_type": "code",
      "source": [
        "arr = np.array([[0, 1, 0], [1, 2, -2], [6, 3, 2], [-1, 0, -1], [1, 0, 1]])\n",
        "arr2 = np.dot(arr.T, arr)\n",
        "arr2"
      ],
      "metadata": {
        "colab": {
          "base_uri": "https://localhost:8080/"
        },
        "id": "5WhutuMF8OH8",
        "outputId": "91ba4d55-de51-45cd-88dd-3a6cb8070492"
      },
      "execution_count": null,
      "outputs": [
        {
          "output_type": "execute_result",
          "data": {
            "text/plain": [
              "array([[39, 20, 12],\n",
              "       [20, 14,  2],\n",
              "       [12,  2, 10]])"
            ]
          },
          "metadata": {},
          "execution_count": 65
        }
      ]
    },
    {
      "cell_type": "markdown",
      "source": [
        "@ infix operator is another method to do the dot product:"
      ],
      "metadata": {
        "id": "lOXjovu599O4"
      }
    },
    {
      "cell_type": "code",
      "source": [
        "arr2 = arr.T @ arr\n",
        "arr2"
      ],
      "metadata": {
        "colab": {
          "base_uri": "https://localhost:8080/"
        },
        "id": "YlVCn-gV93ch",
        "outputId": "3045a91f-8473-4e42-942f-9f3e1ebc523a"
      },
      "execution_count": null,
      "outputs": [
        {
          "output_type": "execute_result",
          "data": {
            "text/plain": [
              "array([[39, 20, 12],\n",
              "       [20, 14,  2],\n",
              "       [12,  2, 10]])"
            ]
          },
          "metadata": {},
          "execution_count": 66
        }
      ]
    },
    {
      "cell_type": "markdown",
      "source": [
        "Simple transposing with .T is a special case of swapping axes. ndarray has the method\n",
        " swapaxes, which takes a pair of axis numbers and switches the indicated axes"
      ],
      "metadata": {
        "id": "vW649Jdy-KvZ"
      }
    },
    {
      "cell_type": "code",
      "source": [
        "arr"
      ],
      "metadata": {
        "colab": {
          "base_uri": "https://localhost:8080/"
        },
        "id": "7R61UFVk-FeQ",
        "outputId": "971d260e-9b6a-46af-b1b3-5c0d269d66b3"
      },
      "execution_count": null,
      "outputs": [
        {
          "output_type": "execute_result",
          "data": {
            "text/plain": [
              "array([[ 0,  1,  0],\n",
              "       [ 1,  2, -2],\n",
              "       [ 6,  3,  2],\n",
              "       [-1,  0, -1],\n",
              "       [ 1,  0,  1]])"
            ]
          },
          "metadata": {},
          "execution_count": 67
        }
      ]
    },
    {
      "cell_type": "code",
      "source": [
        "arr.swapaxes(0, 1)"
      ],
      "metadata": {
        "colab": {
          "base_uri": "https://localhost:8080/"
        },
        "id": "vMsvxj7NAS6g",
        "outputId": "4877e99d-9e89-4123-c2d1-e64e049528fd"
      },
      "execution_count": null,
      "outputs": [
        {
          "output_type": "execute_result",
          "data": {
            "text/plain": [
              "array([[ 0,  1,  6, -1,  1],\n",
              "       [ 1,  2,  3,  0,  0],\n",
              "       [ 0, -2,  2, -1,  1]])"
            ]
          },
          "metadata": {},
          "execution_count": 68
        }
      ]
    },
    {
      "cell_type": "markdown",
      "source": [
        "You can think of at as if it's just changing the location of each item.<br> For example, any item at the location (i,j) would be at (j, i) because location 0 and location 1 are getting swapped."
      ],
      "metadata": {
        "id": "wa_bLHrhAVy6"
      }
    },
    {
      "cell_type": "markdown",
      "source": [
        "\n",
        "\n",
        "---\n",
        "\n"
      ],
      "metadata": {
        "id": "FKV9HBwbAxcQ"
      }
    },
    {
      "cell_type": "markdown",
      "source": [
        "#Pseudorandom Number Generation"
      ],
      "metadata": {
        "id": "pclNjl9sAy-6"
      }
    },
    {
      "cell_type": "markdown",
      "source": [
        " The numpy.random module supplements the built-in Python random module with\n",
        " functions for efficiently generating whole arrays of sample values from many kinds of probability distributions.<br><br>For example, you can get a 4 × 4 array of samples from the standard normal distribution using numpy.random.standard_normal"
      ],
      "metadata": {
        "id": "VChXQhXRGT_S"
      }
    },
    {
      "cell_type": "code",
      "source": [
        "import numpy.random\n",
        "\n",
        "samples = np.random.standard_normal(size=(4, 4))\n",
        "samples"
      ],
      "metadata": {
        "id": "DUD97zlmA0jy",
        "colab": {
          "base_uri": "https://localhost:8080/"
        },
        "outputId": "a7511357-a4b9-42b8-df8b-0f8e2cbee09b"
      },
      "execution_count": null,
      "outputs": [
        {
          "output_type": "execute_result",
          "data": {
            "text/plain": [
              "array([[ 0.7274754 ,  0.3436546 ,  1.42018544,  2.11602767],\n",
              "       [-0.33575784, -0.93563169, -0.22605728, -0.25198856],\n",
              "       [-0.20977307,  1.02434461, -1.03732652, -0.15066373],\n",
              "       [ 0.46042789,  1.82496988,  1.37905141,  1.07825065]])"
            ]
          },
          "metadata": {},
          "execution_count": 69
        }
      ]
    },
    {
      "cell_type": "markdown",
      "source": [
        "The function **array.random.random((rows, cols))** creates an array or random vlaues between **0.0 & 1.0** which can be used to create an array of completelhy random values.\n",
        "<br>\n",
        "<br>\n",
        "For example, if you want to create an array of random numbers between 1 & 100, you just multiply the output of this function to 100."
      ],
      "metadata": {
        "id": "d7-yE8vl_4gL"
      }
    },
    {
      "cell_type": "code",
      "source": [
        "random_arr = np.random.random((3,3))\n",
        "random_arr_0_100 = random_arr * 100\n",
        "random_arr_0_100"
      ],
      "metadata": {
        "colab": {
          "base_uri": "https://localhost:8080/"
        },
        "id": "laLNUBSQB3wr",
        "outputId": "4822365e-09d0-4c2c-8a93-5b1d1dc659b4"
      },
      "execution_count": null,
      "outputs": [
        {
          "output_type": "execute_result",
          "data": {
            "text/plain": [
              "array([[ 1.13851982, 45.182569  ,  8.6008517 ],\n",
              "       [81.16958505, 99.84621475, 19.69356781],\n",
              "       [92.08208626,  3.58605383, 54.85352   ]])"
            ]
          },
          "metadata": {},
          "execution_count": 70
        }
      ]
    },
    {
      "cell_type": "code",
      "source": [
        "random_arr_0_100.astype(int)"
      ],
      "metadata": {
        "colab": {
          "base_uri": "https://localhost:8080/"
        },
        "id": "4ERHwD-cCPHi",
        "outputId": "66272931-2404-4002-c8c5-bc50feefc8aa"
      },
      "execution_count": null,
      "outputs": [
        {
          "output_type": "execute_result",
          "data": {
            "text/plain": [
              "array([[ 1, 45,  8],\n",
              "       [81, 99, 19],\n",
              "       [92,  3, 54]])"
            ]
          },
          "metadata": {},
          "execution_count": 71
        }
      ]
    },
    {
      "cell_type": "markdown",
      "source": [
        "#Universal Functions: Fast Element-Wise Array Functions\n",
        "A universal function, or ufunc, also known as a **vectorized function**,is a function that performs element-wise operations on data in ndarrays. Examples:"
      ],
      "metadata": {
        "id": "3Ibqwfo_HyCR"
      }
    },
    {
      "cell_type": "code",
      "source": [
        "arr = np.arange(10)\n",
        "arr"
      ],
      "metadata": {
        "colab": {
          "base_uri": "https://localhost:8080/"
        },
        "id": "X8uN3WLrIwqi",
        "outputId": "c8aa46e8-774d-4394-b78b-e7759b838d83"
      },
      "execution_count": null,
      "outputs": [
        {
          "output_type": "execute_result",
          "data": {
            "text/plain": [
              "array([0, 1, 2, 3, 4, 5, 6, 7, 8, 9])"
            ]
          },
          "metadata": {},
          "execution_count": 72
        }
      ]
    },
    {
      "cell_type": "code",
      "source": [
        "np.sqrt(arr)"
      ],
      "metadata": {
        "colab": {
          "base_uri": "https://localhost:8080/"
        },
        "id": "UdXp5w4VI8U1",
        "outputId": "1de8415e-9295-4bcf-8883-670148aa9183"
      },
      "execution_count": null,
      "outputs": [
        {
          "output_type": "execute_result",
          "data": {
            "text/plain": [
              "array([0.        , 1.        , 1.41421356, 1.73205081, 2.        ,\n",
              "       2.23606798, 2.44948974, 2.64575131, 2.82842712, 3.        ])"
            ]
          },
          "metadata": {},
          "execution_count": 73
        }
      ]
    },
    {
      "cell_type": "code",
      "source": [
        "np.exp(arr) # e^x for x in arr"
      ],
      "metadata": {
        "colab": {
          "base_uri": "https://localhost:8080/"
        },
        "id": "ufoYgQI3JC-U",
        "outputId": "5f8146c2-e4c4-4386-d9a3-c03afad4d1b1"
      },
      "execution_count": null,
      "outputs": [
        {
          "output_type": "execute_result",
          "data": {
            "text/plain": [
              "array([1.00000000e+00, 2.71828183e+00, 7.38905610e+00, 2.00855369e+01,\n",
              "       5.45981500e+01, 1.48413159e+02, 4.03428793e+02, 1.09663316e+03,\n",
              "       2.98095799e+03, 8.10308393e+03])"
            ]
          },
          "metadata": {},
          "execution_count": 74
        }
      ]
    },
    {
      "cell_type": "markdown",
      "source": [
        "These are **unary** ufuncs. They takes a single array to work with. There are also **binary** ufuncs. These functions takes 2 arrays to work with. For example, get the max number between the corresponding indices.<br>Ex:"
      ],
      "metadata": {
        "id": "0tDllS5CJmP7"
      }
    },
    {
      "cell_type": "code",
      "source": [
        "arr1 = np.array([1,5,9])\n",
        "arr2 = np.array([2,3,10])\n",
        "\n",
        "np.maximum(arr1, arr2)"
      ],
      "metadata": {
        "colab": {
          "base_uri": "https://localhost:8080/"
        },
        "id": "-dbkWSQMKApS",
        "outputId": "96aad439-eb76-442d-8c9f-caefc61438f0"
      },
      "execution_count": null,
      "outputs": [
        {
          "output_type": "execute_result",
          "data": {
            "text/plain": [
              "array([ 2,  5, 10])"
            ]
          },
          "metadata": {},
          "execution_count": 75
        }
      ]
    },
    {
      "cell_type": "markdown",
      "source": [
        "Some ufuncs can return **multiple** arrays. For example, the np.modf() function returns 2 arrays. First one is the fraction part of the number, and second one is the whole part of the number."
      ],
      "metadata": {
        "id": "bz6rIW6xKqgS"
      }
    },
    {
      "cell_type": "code",
      "source": [
        "samples = np.random.standard_normal(size=9)\n",
        "samples"
      ],
      "metadata": {
        "colab": {
          "base_uri": "https://localhost:8080/"
        },
        "id": "x9l--qr3Kf9J",
        "outputId": "96870aac-a064-4ccf-8762-097082b6ce98"
      },
      "execution_count": null,
      "outputs": [
        {
          "output_type": "execute_result",
          "data": {
            "text/plain": [
              "array([-0.10416835, -0.43398845,  0.87242069,  0.88506016,  2.07321248,\n",
              "       -0.57617924, -1.30775497,  0.47874633, -0.11094474])"
            ]
          },
          "metadata": {},
          "execution_count": 76
        }
      ]
    },
    {
      "cell_type": "code",
      "source": [
        "fraction_part, whole_part = np.modf(samples)"
      ],
      "metadata": {
        "id": "maei6NNtLRKS"
      },
      "execution_count": null,
      "outputs": []
    },
    {
      "cell_type": "code",
      "source": [
        "fraction_part"
      ],
      "metadata": {
        "colab": {
          "base_uri": "https://localhost:8080/"
        },
        "id": "UgP3_uGvLYnD",
        "outputId": "270197dc-8d3c-4c12-d126-09b8a0d743c8"
      },
      "execution_count": null,
      "outputs": [
        {
          "output_type": "execute_result",
          "data": {
            "text/plain": [
              "array([-0.10416835, -0.43398845,  0.87242069,  0.88506016,  0.07321248,\n",
              "       -0.57617924, -0.30775497,  0.47874633, -0.11094474])"
            ]
          },
          "metadata": {},
          "execution_count": 78
        }
      ]
    },
    {
      "cell_type": "code",
      "source": [
        "whole_part"
      ],
      "metadata": {
        "colab": {
          "base_uri": "https://localhost:8080/"
        },
        "id": "wdwQzP6QLY9h",
        "outputId": "e58eece5-3b9e-473e-f2ef-243e53bc22c3"
      },
      "execution_count": null,
      "outputs": [
        {
          "output_type": "execute_result",
          "data": {
            "text/plain": [
              "array([-0., -0.,  0.,  0.,  2., -0., -1.,  0., -0.])"
            ]
          },
          "metadata": {},
          "execution_count": 79
        }
      ]
    },
    {
      "cell_type": "markdown",
      "source": [
        "Ufuncs accept an optional out argument that allows them to assign their results into an existing array rather than create a new one"
      ],
      "metadata": {
        "id": "4DGud04gMHul"
      }
    },
    {
      "cell_type": "code",
      "source": [
        "arr1 = np.array([1,5,9])\n",
        "arr2 = np.array([2,3,10])\n",
        "\n",
        "# the output is stored in the memory section that arr1 is pointing to.\n",
        "np.maximum(arr1, arr2, out=arr1)\n",
        "arr1"
      ],
      "metadata": {
        "colab": {
          "base_uri": "https://localhost:8080/"
        },
        "id": "RH_T776TMKrC",
        "outputId": "31ce39bc-9dbd-4d60-d489-1a91080ac80a"
      },
      "execution_count": null,
      "outputs": [
        {
          "output_type": "execute_result",
          "data": {
            "text/plain": [
              "array([ 2,  5, 10])"
            ]
          },
          "metadata": {},
          "execution_count": 80
        }
      ]
    },
    {
      "cell_type": "markdown",
      "source": [
        "You can even convert some built-in python functions into a vectorized function using the **np.vectorize()** method."
      ],
      "metadata": {
        "id": "2k3Z9FaYQIHC"
      }
    },
    {
      "cell_type": "code",
      "source": [
        "# This will return true because the size of the array is > 2\n",
        "array = np.array([\"numpy\", \"is\", \"awesome\"])\n",
        "len(array) > 2"
      ],
      "metadata": {
        "colab": {
          "base_uri": "https://localhost:8080/"
        },
        "id": "1bzUzGUIQ48y",
        "outputId": "0389d757-1248-438f-b432-a95aa54d47f5"
      },
      "execution_count": null,
      "outputs": [
        {
          "output_type": "execute_result",
          "data": {
            "text/plain": [
              "True"
            ]
          },
          "metadata": {},
          "execution_count": 1
        }
      ]
    },
    {
      "cell_type": "code",
      "source": [
        "# This returns the expected boolean array because it'll get executed for every\n",
        "# element in the array.\n",
        "\n",
        "vectorized_len = np.vectorize(len)\n",
        "vectorized_len(array) > 2"
      ],
      "metadata": {
        "colab": {
          "base_uri": "https://localhost:8080/"
        },
        "id": "H6F_0vdORjoK",
        "outputId": "ae0a5241-57e0-4777-c9b7-57bea8188fc0"
      },
      "execution_count": null,
      "outputs": [
        {
          "output_type": "execute_result",
          "data": {
            "text/plain": [
              "array([ True, False,  True])"
            ]
          },
          "metadata": {},
          "execution_count": 2
        }
      ]
    },
    {
      "cell_type": "code",
      "source": [
        "# Another example with upper()\n",
        "vectorized_upper = np.vectorize(str.upper)\n",
        "vectorized_upper(array)"
      ],
      "metadata": {
        "colab": {
          "base_uri": "https://localhost:8080/"
        },
        "id": "kaTwaqH7UOvj",
        "outputId": "cf3d12de-6804-4902-e2f3-d9de3c049c3a"
      },
      "execution_count": null,
      "outputs": [
        {
          "output_type": "execute_result",
          "data": {
            "text/plain": [
              "array(['NUMPY', 'IS', 'AWESOME'], dtype='<U7')"
            ]
          },
          "metadata": {},
          "execution_count": 4
        }
      ]
    },
    {
      "cell_type": "markdown",
      "source": [
        "#Array-Oriented Programming with Arrays\n",
        "Using numpy arrays enable you to perform a lot of mass operations on the data without having to write loops.\n",
        "<br>\n",
        "This is often referred to as **\"vectorization\"**\n",
        "<br>\n",
        "In general, vectorized array operations will usually be significantly faster than their pure Python equivalents.\n",
        "<br>\n",
        "![image.png](data:image/png;base64,iVBORw0KGgoAAAANSUhEUgAABIAAAADqCAYAAADaiD51AAAAAXNSR0IArs4c6QAAAARnQU1BAACxjwv8YQUAAAAJcEhZcwAADsMAAA7DAcdvqGQAALQzSURBVHhe7N13dBRVGwfg37Z0SoBQQkJL6L1IC1WKgEgHQWmCKBYUC2IFlSYKfKiIIJ0gICBVIHSQSCK9JwFCT0IN6X33/f4gO+5MNpsts5tNeJ9z9mQz987szG1z9+7MHQURERhjjDHGGGOMMcZYsaWULmCMMcYYY4wxxhhjxQsPADHGGGOMMcYYY4wVczwAxBhjjDHGGGOMMVbM8QAQY4wxxhhjjDHGWDHHA0CMMcYYY4wxxhhjxRwPADHGGGOMMcYYY4wVczwAxBhjjDHGGGOMMVbM8QAQY4wxxhhjjDHGWDHHA0CMMcYYY4wxxhhjxRwPADHGGGOMMcYYY4wVczwAxBhjjDHGGGOMMVbM8QAQY4wxxhhjjDHGWDHHA0CMMcYYY4wxxhhjxRwPADHGGGOMMcYYY4wVczwAxBhjjDHGGGOMMVbM8QAQY4wxxhhjjDHGWDHHA0CMMcYYY4wxxhhjxRwPADHGGGOMMcYYY4wVczwAxBhjjDHGGGOMMVbM8QAQY4wxxhhjjDHGWDHHA0CMMcYYY4wxxhhjxRwPADHGGGOMMcYYY4wVczwAxBhjjDHGGGOMMVbM8QAQY4wxxhhjjDHGWDHHA0CMMcYYY4wxxhhjxRwPADHGGGOMMcYYY4wVczwAxBhjjDHGGGOMMVbM8QAQY4wxxhhjjDHGWDHHA0CMMcYYY4wxxhhjxRwPADHGGGOMMcYYY4wVczwAxBhjjDHGGGOMMVbM8QAQY4wxxhhjjDHGWDHHA0CMMcYYY4wxxhhjxRwPADHGGGOMMcYYY4wVczwAxBhjjDHGGGOMMVbM8QAQY4wxxhhjjDHGWDHHA0CMMcYYY4wxxhhjxRwPADHGGGOMMcYYY4wVcwoiIulCOXQdNB8AoNXqoNMRoJDGYEUSAQqlAtocHWpUK4dVP4+WxmCMMcYYY4wxxpiTsfsAkJurBmq1Evb5FOZoCsXTQb0niWkIqObDA0CMMcYYY4wxxlgRYLcBoM7958HNTYPXX22HRvUqIys7ByA8vRLI8K+e/goh6TJT/xtbJv2/oGXG/qKAbUr/N7ZM+r+xZQV9lrF9k/41tb6x/40tk/5vbFnuZ7m5ahBx9R6mzd2JOjUr8gAQY4wxxhhjjDFWBNhtAKhTv3nw9HDBrC/7oVE9P2kwK8Ku3XiAYW8uQ73alXgAiDHGGGOMMcYYKwLsNwm04ukFJFnZWmkIK+KysjhPrZGZmYkDBw5g1apV0iDGGGPMJnfv3sWKFStw/fp1aRAzwOlUsLi4OCxbtgzXrl2TBjHmMNxvZsw+7DcAxFgRdOLECTx69Ei62GIHDx5Eeno6rly5gvfeew9BQUHw9vZG165dsWbNGml0xhhjzCIJCQn44osv8NJLL6FKlSrw9/fHmDFjEBcXJ436TON0Mk9wcDBeffVV1K1bF5UrV8brr7+OmJgYaTTG7Ir7zYzZHw8AMWZg1qxZCAoKwhdffIHZs2db/JoxYwYGDx6MLl264MGDB1AqlShdujSePHmC9PR06ccxxmyQkpIiXVQkFZfjMCYzM1O6iMmEiKBWq6HRaBAbGysNZrk4ncTyq5MajQYajQbR0dGw0+wQjBWI+82M2R8PADFmICEhAVeuXMHMmTPx3Xff4Y8//sCOHTuwe/duhISEYNasWfj000/x6aef4s8//0RISAh2796NrVu3YtmyZZg6dSo2bdoEAEhLS0NgYCC+/fZb7Nq1S/pRjDEbvPXWWyhZsiTefPNNaVCRUlyOw5ipU6fCw8MDjRs3RlZWljSY2cjb2xvffPMNNm/ejKFDh0qDWS5Op/+YqpNDhw7FypUrMWLECNFyxhyJ+82M2R8PADFm4MmTJwCAxYsXIz4+HqdPn0ZoaCgOHz6MQ4cOoWHDhkLcFStW4NChQzh8+DDCwsJw5coVREdHo2bNmgCApKQkIa6fH0+Ezoqu6Oho6aJCdfv2bSxatAhE5PSXhptKu6J0HJbKycnBjBkzoNPpcP78eYSEhEijMBnVqFFDuogZ8Synk7l10t/fX7qIMYfjfjNj9sMDQIwZePLkCTp06IA33ngDCoVCGlygqlWrYu7cuQCA+Ph4YblarTaIVTRdu3YNAwYMkC5mxdycOXPwzjvvSBcXKh8fH5QsWRIA0L17d2mw0ygo7YrKcVhDrVajcePGAACVSoWmTZtKozAZubq6ShfJqri0//ZOJ2dmbp3UaDTSRYzJypz2pDj0m1nRY07ZLA54AIgxA0+ePMFrr70mXWyR3r17o2LFirJMJu0soqOj0blzZ0REREiDWDGl1WoxduxYTJo0CUFBQdLgQuXu7o4zZ85g06ZN+OOPP6TBhc7ctHP247DVvn378Ouvv+LYsWN8VUERxu1/8cF1khU2bk+Ys3qWyiYPADGWi4hQqlQp9OzZUxpkEYVCgSFDhkClUkmDiqz+/fvj7t270sWsGDt58iSWL18OAGjXrp00uNDVqFEDAwcOhIuLizSo0FmSds58HLYqU6YMxo8fj5YtW0qDWBHC7X/xwXWSFTZuT5izepbKJg8AMZZLoVDg9u3bqFChgjTIYj/++CNeeeUV6eIiSz83Ent2/P3330Du7QCtWrWSBjMTOO1YccLtP2NMLtyeMGf1LJVN1ddff/21dKEcVv4RBo1Ghc7tasO3YmlpMCvCHj5OwdbdZ+FTrgT692oiDS7WVqxYgdu3bwMA3n77bZQvX14aJV/ffPMNkPuL/8iRIwEAGRkZ+Ouvv7Bt2zbcuHEDrq6uKFeunGTN/MXHx+PPP//Ezp078eDBA3h7e6NEiRLSaFZLSkrCo0ePsGjRIqSkpKBUqVIYOHAgkpOTkZycjMzMTHh6ekpXE1i6f+np6di0aRPc3d1RpkwZAEB4eDjWr18P5DM5ZUpKCjZs2ICSJUuidOmnbU1qaip27NiB7du349atWwgMDDQ6r8Hx48exceNGXLx4ERqNRpbBP1NiY2OxevVqVK1aFV5eXtJgAMDu3bvxzz//oEkT03UrJiZGeBJdQkICatWqZda8VSkpKdixYwe2bduGmzdvombNmkbTZvbs2bhy5Qqee+45vPXWW9Jgo+7du4e9e/di+/btiImJQcmSJVGqVClpNJFz585h69ataNasmbD/KSkpWLt2Le7du4fAwEDpKiAi7Nu3D1evXs03fOfOnQgNDcWdO3eg1WpRsmRJ0ZwCFy9exMCBAzFw4EC4ubmJ1pdKSEjAzp07sXPnTpw4cQL379+HVqtF6dKljV7pZ27aFXQcxliTxk+ePMGqVatQqlQplC1bVhqM+Ph4/P777zh+/DhatGghDbZJWloatm7dCjc3N6FOS2m1WoSFhWHv3r0ICQlBdHQ0VCqV7PUxPT0d0dHROHfuXL6TAWdnZ+POnTs4f/48VCqVMEeTlC37bGm7KJWYmIiQkBCEhIRg3759uHXrFiIiInDy5EkAwJgxY1ClShXpahaztf1PSkpCeHg4tmzZgrCwMDx48AB+fn4Ou9pNrnSyNL9sKRsAkJycjOPHj2PHjh0ICwtDYmIiqlSpYrStgRXnzYLq5NGjR3Hw4EEAwOjRo1GtWjVkZWVh//792LRpEy5fvoySJUsabUvyY2ka2sKW9LelzBZmX8SR6Qsr08ma9sRZ+s2W1jG5WNoWwMq8MeTIcvzkyROsXbsWixcvxksvvSQsP3XqFIKDg3H69Gnk5OTA39/fZP/W1nO7NWXTkKVlqrDKkwjZScd+c6nnsJ/pxNmb0iBWxF2KjKUW3WbSyHdXSIOKvXbt2hEAAkAXL16UBpukX69r165ERBQcHEw+Pj7CcgCkVCrp448/pqysLOnqIikpKfTBBx+Qq6sr1a5dm8qVK0cASKPR0MyZM0mr1UpXsdiNGzeoYsWKov2TvurXry9djcjC/bt48SLNnTuXBg0aRCVKlCAAdPjwYSIieu+994TPUigUtH//fiIiioyMpDlz5lDfvn3Jw8ODAFB4eDgRES1evDhPulaoUIFOnjwpfOa1a9eoa9eueY5nwoQJBaa9tfbu3Uve3t4EgEaPHi0NJiKiI0eOCPuya9cuaTARET148IDGjh1LSqWSVCqVEL979+4m8z0hIYE++ugjIY31rzp16lBqaioREe3atYv8/PzIz8+P1Go1ASB3d3dhmZ+fH23ZskW6abp8+TINHTqU3NzcyN/fnxQKBQEgV1dX+umnn6TRiYgoLS2N3nzzTSHuuXPniIjo9u3bVK9ePWH/Nm/eLFovPDycmjVrRgCoUaNGojC9ESNGiI4RuXUrMDCQunTpQp06dSIXFxcaP368dFWRW7du0csvv0wuLi55tgeAli1bJsS1NO3MOQ5D1qQxEdGKFSuEcjd58mRRWE5ODn3//feiMrFz505RHGucPHmSpk+fTr179yZPT0+CQZ2WOnr0KDVs2JACAwNp3Lhx1LFjR2FfFi5cKI1uldatW4vaskqVKonCExMTqVWrVuTr6yukKwBav369KJ6etftsSbtoTEREBA0ePJg0Gg0FBASQv7+/8LmGr9DQUOmqFrOl/X/06BGNGzeONBoN+fv704ABA6h58+aE3Doxd+5c0ul00tVkI1c6WZNf1pYNIqK7d+/SmDFjyM3NLc++VqlShU6dOiXEtfS8aUmdnD59urD+2rVraerUqVShQoU8+zRkyBCKj4+Xri5iTRrawtr0t7bMFnZfxNHpa206Wdue6MMKo99saR2TkyVtgZ61eUMOLsfx8fE0efJkatOmDWk0GkJuP1S/nT59+uTZTsuWLenGjRui7ZBM53ZryyZZWKYKszwZwwNAzGI8APS0klo7ANS+fXt66623qGLFijR06FCaMmUKDRo0SPRlft68edLVBffv36cmTZpQjRo16MyZM8Ly5cuXC43phAkTROtY4+HDh3T48GE6fPiw0PhXqVJFWHb48GGKjIyUrmbx/i1dupSaNGkiamwPHz5M8+bNEy2DQQduxYoVVLt2bVHY5s2b6YUXXqBq1arRm2++SWPHjqWqVasK4eXLl6eEhAT65ZdfqFSpUtS6dWt69913qUePHqRUKoV4CxYsEPZNLqdOnRI63QDI19dXGoWIiP766y8hzqRJk6TB9Mcff1CZMmXoiy++oNu3b9ODBw/o5ZdfFqWBMUeOHKFKlSrRxx9/TOfPn6ft27dThw4dhPWuX79OREQrV66k6dOn05tvvimEjR8/nhYtWkSrV6+mv/76S7ppWrRoEbm7u9Po0aMpKSmJiIhu3rxJDRo0ELaxb98+0ToxMTF58vzkyZOUkJBAgYGBouVLliwR1ps+fbowuAKAevToIdouEdGcOXMIAKlUKqpSpQqVK1dOtI7hutnZ2dLViYgoKyuLZs+eTeXLl6eZM2fStWvXKD09naKjo2nChAnCNq5cuSKsY0namXMchqxJY61WK9oXADR16lQh/MGDB9ShQwfy8fERDbgZpre15s+fTzVq1BB9trEvm5cvXyZPT09q0qQJpaWlCcs3btxIKpWKXn75ZVF8a50+fZreeecdYV9q1KghCtfpdHT+/HlatGiR6IuusQEga/fZ0nZRauHCheTi4kKtW7cWtbsxMTE0cOBAUVoXNLBhDmvb//Pnz5Ofnx8pFAqaM2eOKGzXrl3k6upKAKhTp0507949Ubgc5Eona/LL2rJBuXFKlixJffv2pY0bN9KpU6coODiYevToIezvJ598IsS39Lxpbp0kyQBQqVKlaOTIkTRjxgz65JNP6Pnnnxf1Vfz8/ETpY8iaNLSFtelvS5ktzL6Io9PXlnSytj3Rp0Vh9JstrWNysbQtIBvzhhxcjh8+fEjvvfceBQQECHGqVatGn3/+OXl5eVFQUBCNGjWKGjZsKBq08fb2phMnToi2Jce53dqyaWmZKqzylB8eAGIW4wGgpxXU2gEgADRq1ChRB4WI6PDhw8LJrGzZssJVGVKdO3cmtVpttNOlH0VWKBQmO7eW8vPzIxiM0pti7f4Zjvp/9913VKtWLdqzZw+FhoZSs2bNKCgoSPRro06no169egnrlChRgubOnSsacU9KSqI2bdoIcSpVqkSdO3cWBjz0/vzzT1EcOd2+fZv8/f1p6dKl9NprrwmfI81/yj2h6MMXLVokClu7di2pVCqaMWOGaPmpU6eEdX755RdRGBHRnj17SK1W03vvvSdanp6eTsOGDaPvv/9etJxyOwP6bcbExEiDBV999RUBoEGDBkmDKDQ0VNhG27ZtheVxcXFUs2ZNGjduHG3YsEGI8/DhQ+rfvz81b96cVq1aRe3bt6f+/ftTTk4OERGNHj2aWrZsSX/88Yewztdff23wiU9/WSpZsiS98sorlJCQICzX6XSUkJBADx8+pM6dO1OLFi0oOTlZtK5eSkoKtWnThlxdXY3+CjNt2jRCbufHmILSzpzjMGRNGhMRjRw5ktq1a0chISFCnD/++IOIiKKioqhq1ao0ZswYSklJEV15ZuwKL2totVrq2bOnsF1jXzb19Xf+/PnSIPrss8+oZs2a0sVW02q15OXlRQCodu3a0mCBPn+RzwCQtftsbbtIRDR79mxC7pcgY4OWOp2Ohg8fLuy3sW3Ywtz2PyYmhnx9fQkATZw4URpMJGlr+/TpIw22iZzpZE1+WVs2Vq5cSSqVSjRAa2jt2rXUqlUrioqKkgZZdN40p06SZADo4MGD0mD6559/RF8EGzRokOdXfrIyDW1hTfrLUWYLqy/iyPSVI530zG1PyEn6zZbUMVtZ0xbIlTeOLsePHz8WfghTKBQ0ZswYun//vijOvn37qHz58sK2WrRokecqJrnO7WRh2bS2TDmyPJlSpAaAEhLTKDEpjaJvPqALETF0KSqWTp27Tv+evELHT12l85fu0KWoWLoUGUsXI2Po9t3HlJCYSqlpmdJNMRvwANDTimvtAFC7du2kQYKhQ4cK8Qwvr9QLDg4mADRs2DBpEFHuyVC/vvQLvy3MbRRt2b+pU6cKYaVLlzY64i719ddfC+vkd/WL4Rfgjh075jl56AUFBQnxjP1CYq3jx4/TqlWriIjol19+ET5DesKk3MEiAOTl5UWPHj0Slv/999+kUqmoefPmovhERAcOHCDkXvFy6dIlUdiFCxeoRIkSVKdOHcrMNL8dHD9+PMHElUpERNu3byeFQkE+Pj6ifTWk/8XF1dVV6EQkJibS2rVriXJ/6dJ/zvr16ykwMFA0cGPor7/+ouzsbPrnn3+ENDx06JAozpdffkmdO3cWBo0MZWZmUs+ePalOnTr08OFDaTBRbpzu3bsTAAoODpYGExmcvPv27SsNIjIj7cw5Dj1r05iIaOfOnZSVlSX6nGvXrlFUVBRVrlyZpk2bJsRds2aNEMfYl0xrGdZPY1829bemGe6L3sOHD6lWrVpG89Ja+k6yqXZs8eLFwj4b6yRas8+2tIv79+8nhUJBCoWCzp8/LwozZPilXdrhtJW57f8rr7xCyL38/c6dO9JggeEXiA0bNkiDrSJnOlmbX9aUjdOnT5NGo6F69erlCTOHpefNguokSdIovzi3b98WbhUxdszWpqEtrEl/ucqso/sijk5fudKJLGhPyEn6zZbWMWtZ2xbImTeOLsf6K25MlYUTJ06IrgTS/5BlSI5zO1lQNm0pU44qTwVx+qeAPUlIw7rNJzBt3k5MnrYFn83Ygncmr8XrHwRj3AfBmPD5JnwwdSsmTtmC8ZPWYtwHwXj9w2C8/sEavPfFenw6fQu+nLUNC1ccxpFjV5CWlin9CMYcytSEs+3btxfeX79+XRSWnJyMjz76CADQt29fEBGysrKQmpqKhIQEPHr0SPT4wtOnTxusbX+27p9huowfPx61a9cWhRvj6uoqvDc2mSUAPPfcc6L/85tIrk2bNsJ7adrb4rnnnhMmL/T19RWWJycnG8R6asuWLQCAjz/+WJhgU6vV4t1334VWq8WUKVNE8VNTU/Hpp58CAL766ivUq1dPFP7mm28K+WLuBIAA8O+//wJAvk+wSk1NxejRo0FEGDVqVL6TgVatWhUAkJmZiZiYGABAyZIlMWzYMCB3oj8AqF+/Pj755BNhomJjXnzxRajVahw5cgTIzfvWrVuL4iQnJ+O3337LM0FidnY2hgwZgsuXL2Pv3r35Thg5a9Ys7N27F02bNsWrr74qDQYAHDt2DJCUF0MFpZ05xwEb0xgAevXqBY1Gg9DQUABAxYoV4eXlha5du+Ljjz/Gl19+KcQ9fvw4AKBUqVKoWbOmsNxWhvXTGH2ZXLBgQZ46V65cOURFReXJS1solQV3eQr6PEv32ZZ2kYjw/vvvg4jQpEkTNGzYUAhzNrdv38a6desAAC1btoSfn580imDMmDHC+88++0wUZg0508mW/LK0bADAuHHjkJ2djQkTJuQJM4el582C6qS5/P39hXMPco/56fd129LQFpamv5xl1pF9EUenr5zpZK3C7DdbWsesZU1bIHfeOLIcw6DOmtKiRQsMHTpU+P+ff/4RhUOmc7u5bC1TjipPBSk4xQrRzn3n8cbHa/DjkoP4a+9FXIqKxflLscjM0sHL0xXu7i5wd9P893J3gbu7CzzcXeDp4YKExAxcjIzD8dM3sXxtGKbN24l3P1uPP/86heSUDOnHMVboKleuLLw3bEAAICQkBA8ePAAAvPLKK1AqlXB1dYWXlxe8vb3h4+OD4cOHQ6VSoWLFiujZs6dofXuzdf8MTyIvvPCCKCw/+Z14DJUpU0Z4WoFWq5UGCypWrCi8T0tLE4XJxXDgQToAlJGRgXnz5qFu3bqijvXKlStx/vx5lChRAr169RKWnz9/Hs8//zwuX76MBQsWYOrUqUIYcgeTjh07Bo1Gg0GDBonCTElPT8eFCxeA3A6FMb///jvi4+MBACNGjJAGC/RfCJDPyffEiRNA7lNn+vXrh7Zt20qj5HH48GEgd9+kncL58+fneZqWVqvFK6+8ghMnTuDgwYP5Pl0hNjYWP/zwAwDg66+/Nlq2Ll26hEePHgH5pI05aadn6jggYxrrH0nfqlUrDBgwAIMHD8bEiRNFcfSDRG3btjV63NYqaFudO3cGANy/fx8NGjTAlClTkJqaKo3mVCzdZ1vaxbCwMFy6dAkAjA4SOpOtW7cKZbFatWrSYJFu3boJ76Ojo3Ht2jVRuKXkTCdb8svSsnHq1ClhELxu3brSYLNYet4sqE5a4rXXXhPe379/H1euXAFsTENbWJr+cpZZc9JVrr6Io9NXznSyB3v3my2tY9awti2QO28cWY5h5ucBED0hTN/WFxZby5QjypM5nHYAaM2mMMycH4LYe4nw9HBFCS9XuLqo4eqqhlJpXoFRqZRwdVHDzU2D0qXcodUSrlx/gHm/HsBbn6xFxJVY6SqMFSrDL4I6nU4Upv+SBgA//vgjgoODsXnzZuzbtw8nTpzA1atXER8fj+zsbMTFxeHzzz8XrW9vcu6fuScFcxn7Yixl+IhwezG8ikM6APTDDz/g3r17WLNmjehXmDVr1gC5v3LpdDrs2LED/fr1Q8eOHdGmTRtcvnwZ77zzjsGWnlq0aBEAoGnTpsKjPM1x6tQp5OTkACYGMRYsWADkXn3SqFEjabAgNvZpG6sy8gheIhI6PK6urnkGsIzJyckRrsDp1KmTNDgPnU6HUaNG4e+//8aBAwfyfTwoAHz33XdITU1FiRIl8pyw9TZu3Ajkls+mTZtKg81KO5h5HHKksU6nE+rlwYMH4ePjgzlz5ojiJCcn49y5c4Dkl1RHmDdvntBJTE9Px7Rp01CtWjXMmjUr3w5jYbN0n21pF0NCQoT30rx1NpcvXxbem/oVGrlXQhq28fn9OmwuOdPJlvyytGzs3LlTeG+qbTKX3OfNgvj5+YkedRwXFwfYmIa2sDT9C6PMytEXcXT6FkY6WcKR/WZ71TFr24LCyhs5yrElatWqJbw3NajrCHKWKXuVJ3M45QDQrv3nsXJ9ODQaNdzdNJArfVQqJdxcn14pdP3WI3w7dycmT9uMD6dsxA+/hGDzztPYvPMsDv0TifgnyXj8JBVp6Vm5t+oxVrj0X/QAYNCgQRg+fDj69++Prl27okWLFggMDIS3t3ehNSjOvn/OwPCSWsMBoDt37mD27NmYM2cOmjVrJix/8OCBcAXHhQsX4Ovri/nz56NHjx64e/cu5s+fjypVqgjx9RITE3Ho0CHAws4EDG5hUigUaNGihTQY8fHxwlUupn5xIiLcv38fAFCvXr08HYZr164hISEByL3lLb/LjQ2dPHkSKSkpAICOHTtKg0V0Oh3Gjh2LkJAQ7N+/H3Xq1JFGEeh0OmzatAkA0KVLF+HXLUM3btzA999/DwAICAgwOqhWUNrpFXQccqXx+fPnkZiYCADw8vLCsmXL8tS/8PBw4Ve8du3aicLsrVKlSjhz5ozoCqdHjx7h888/R/PmzQv9lz5jLN1nW9rFW7duCe/1A4vO6t69e8J7fZnLj0ajQfny5YX/09PTReGWkjOdbMkvS8vG7du3hfcZGUXzqnTDKy71g0G2pKEtLE3/wiyztnB0+hbVdEIhpJW1rG0LinLeWMJwvw2nUigMRaVMFcTpBoD2H7mMOQv3IytLC43Gfrvn6eGCmLhEHDl2FcdOXMfW3Rfw05JD+GnJAUybuwvDxq/AkNeX4L3P12Pm/N1Yv+U4jhy7ghu3H/GAECsUhvfKRkZGisKcgbPvnzPw9vYW3usHgPRXqfTo0QPvvvuuQWzgzJkzwi9aw4cPx40bN3DgwAGMHz8enp6eoriGwsPDkZ2dDRQwgGCMfhCjbt26KFmypDQYN27cEN6b+sXpwoULwpexfv36SYOF278ACHMkFUQ/b45Go8l3Dh7kDoyMGzcO27Ztw759+wqcEyQsLEz49TooKEgaDJ1OhzfeeEPoMDVv3lwaBTAj7fQKOg650vjo0aPC+xUrVhidR0j/a5aLi0uee/sdoWLFili9ejVCQ0NFg5+RkZHo3bs3kpKSRPGdgSX7bEu7aDiYYem6jubu7i68l96GYYzhIKvhrQLWkDOdbMkvWFg29G00bPw1vjA9efJEeK+/vdbWNLSFJelfmGXWFo5O36KaTiiEtLKWtW1BUc4bSxgOkDn6hyqpolKmCmK/ERYrHDwahe9+3oscLcHFRQ2DqQ1kRwS4uKjh5en6dD4hNw1UKhVUKhUUCgWys7UACFevP8TO/Zcwb/FBfDp9KyZP24z3v9iAn5YcxOnzt5CaliXdNGN2YXhf8I4dO0RhzsDZ988ZuLi4CAM3+gGgOXPm4M6dO1i+fLkktviE3rhxY9Hl9qYYrmd4f7w59IMY+d3CZNg5MfVLzObNm4HcyflefvllabAw8bCPj4/Rq5iM0c+b89xzz8HDw0MaDOQO/rzxxhvYtGkT9uzZY/RWLSn9rWjIJ70mT54MNzc3obNV0ABQfmmnV9BxyJXG+qvHAgIC8r3XXD8A9Nxzzxmdi8hRgoKCcPLkSSxZskTYj5s3b+L333+XRrWZJb+wmmLOPtvSLlaqVEl4L716wdkYXqJvOICZH/2v1Wq12uZJMOVMJ1vyy5A5ZaN+/frCe1s+q7BotVrhXNOsWTPhV3q50tAW5qR/YZZZWzg6fYtqOqEQ0spa1rYFRTlvLKHvE6lUKvTv318aLJDr3G5KUSlTBXGaAaCr1+9jzsK9yMjMgauLfPcNWkKh0L8UUCoVUCgU0GhUcHfToKSXGzzcXXDvQTL+PX0T67eexGcztmHM+6vwzZy/EHbyOtLS+QljxZ3hhKuG7x3B8ASxcOFCsxp7uZm699YZ9q8o0D/lKjk5GcePH8eMGTOwadMmo1eMPH782Oh7qczMTNEcB4a/ypq6giIzU9xm3bt3T/ilJb+rQQx/qZKub0h/S9XIkSNFZUNPPwdOfp8jlZOTIzz9wdhtU3oTJkzA+vXrsXv37ny3HRsbix9//FH433DATDqHyPLly7Fnzx588cUXJq8AMiftYOZxyJXG+iuA8vucnJwcYdDK0b+qTZs2Lc+8TwqFAq+//row/xFyb2OTi34A7+7duyYnr8yPNftsS7vYoUMH4X1ERAT27NkjCnc0U+2/dJJOU7+MxsXFCQPg7du3N3o7pSXkTCdr88uasmF4ZeJvv/2Gs2fPCv8XBefPnxeuvjJ8wpC1aWgLa9K/MMusLRydvvZKJ1PtiVwcnVbWsrYtsFfeOBv9E3LHjh1r9Kp2W8/tUqbKZlEpUwVxmgGg31aHIj4hDW6uaod/sTaXQgG4aFS5Vwy5ICsrB/ceJmHPocv45NvN+GjKJqzZFI7EpP++iDnnkTBrGTYKltw/azgxnXSSOkOGDZc0Xq9evYSGLyMjA2+88YYwj4jUoUOHEBYWJl1sNf2kxLGxsfnOsWDr/hkeu7kNuKn0MqSPZyqO4ZduU/FspR8Aun79OgYPHoz58+ejcePG0mgAIDpBG048Z+j+/fvo3Lmz8ChQSK5iya8j8ffff6NFixai/Lx48aLwXn/lTEREBJ5//nkhnuHJ19hTJJA7cfWlS5fg4+OD6dOnS4ORlpaGM2fOALmP+DTH6dOnhc5Lhw4dkJWVhW+//VaUb5MmTcLChQvx008/5XsVTnZ2Nl555RXRvuvn0ZFasmQJvvjiC2zbtg0RERHC8saNGyMmJga9evUS0sWctIOZxyFHGkdFRQnHZfgF2dCZM2eENq1t27ZIS0vDjBkzpNGsZqpOazQaLFu2zOgvdoMHDxbey9lJ1c9XkpOTI1wdJWV49ZVhnsDKfbalXezevbtoDq+JEyfmu64hU4OG1jCn/W/RogWGDRsm/L9kyRJRuKGtW7cK7w2feGgtOdPJ2vyypmx07dpVmJssOzsbI0eOFJ78JxUbG4t33nknz7nJVB0zxtL4+qfdGDNv3jwAQJ06dfDGG28Iy61NQ1tYk/5ylllH9kUcnb5yphPMbE/gRP1mS+uMNaxtC+TOG1NpaUiOcmyuS5cuYevWrQgMDMSsWbOkwYAM53Y9c8qmrWXKEeXJHE4xAHTsRDROX7gNd7e8E286K4Xi6aTSGrUKHu4ucNGoce5yDBatOoq3J6/D75v+RWpaJpx7CihmiezsbNGVAtHR0aJwU/ST3cLI058MGcaTXrnh6uqK2bNnC//v378fTZs2xY4dOxAfH4/MzEwcP34c7777Lnr37m3RAFVB9LfoaLVarF27VlielfXfLZC27p+pY8+P4QkyvwnwUlNThcY+vziQXGFjKp6t9ANAK1aswAsvvCB6lK6U4e1LmzdvFq4cQe6XlyVLlqB+/fro0KEDxo4dK4QZXqK6detW0S1ODx8+xEcffYR+/fph0aJFoic1REVFCe8VCgV+++03tGnTBsOHDxfiNW3aFD4+PgCAvXv3IiYmRlgHuen48ccfo0SJEti9e7fRW6qOHz8unFzNHQDSX6mC3AGbdu3aISoqCkrl09PYsmXLMGfOHBARxowZgwoVKmDUqFHYuXOn8EUvPj4eAwcOxLlz5/D1118L2zOcG+f48ePQarX45ptvMGPGDBw5cgTVq1fH6dOnhTh79uxBy5Yt0aVLFyFdzEk7mHEckCmNDef/MTbPECS3vl2/fh3t2rXDpUuXbOqsGTK8Es2wfiN3UseYmBh89tlnouUwWE+hUGDAgAHSYKs1aNBAeD9hwgRRh/D27dt4+eWXRVeG6Sfi1rNmn21pF93c3LBixQphMsnIyEg0b95cuH0SuR3Q5cuXY+HChcKy/AaLrWVO+w8Ac+fOFa5kXLx4sWg/9XQ6HX7++WcAwIgRI9C9e3dpFIvJmU7W5pc1ZUOj0eCnn34S/r9w4QLq1KmD5cuX4/79+9BqtYiIiMBPP/2EJk2awMvLS9ROwIrzpqk6aYzhl0ZDBw8exPr161G6dGls3bpVNLeItWloC2vSHzKWWUf2RQojfeVKJ1jQnjhLv9nU9uViS1sgZ944shwbun//vqg/ohcVFYV+/fqhbt262LVrV74PC7H13K5nTtm0tUw5ojyZheykY7+51HPYz3Ti7E1pkIhWq6NPvvmT2vaaTV0G/s8pXs8PmEft+/xAbV/8Pt9X0IvfU1DvH6h9nznUse9c6tj36d9O/eZS+5d+oFY9vqOxE1fT2Yu3pYdc5F2KjKUW3WbSyHdXSIOKpZSUFDp//jyNHj2aci/qIgAUGBhIW7dupUePHklXEUlPT6cvv/xSWE+j0dChQ4dIq9WK4sXFxVGXLl2EePXr16ebN/PWn0mTJon2Q/9Sq9UEgLy8vGjv3r3S1Wwye/Zs4XNcXFxoxIgRNHjwYKpQoQJduXJFFNea/bt06RLVqFFDiNu1a1eKjo4mnU4niqen1Wrp1KlT5O/vL6zTv39/SkpKEsVLTU2lr776SoijUCjor7/+ypP2ly5dourVqwvxevXqVWC+Wqtbt24EgFq0aEEZGRnS4Dw6d+4s7JeLiwt17NiRevfuTWXLliVPT0/65ZdfpKsQEVFQUJCwnoeHB7344ovUoUMHcnd3p4YNG9LZs2elq9DMmTOFdfTrbdq0SRqNZs2aJcRp3LgxnTlzhjIzM+nff/+lRo0aUcOGDenEiRPS1QTTp08X1o+NjZUGGzVu3DjRvn344YeUk5NDRET37t0jNzc3ql+/PvXp04e8vLxEcTUaDdWuXZs8PT0JAK1cuVK07eXLlwtxXVxcqGLFilSvXj26c+eOEOeFF14Q4qhUKpo3b55oG+amnanjMGRrGo8YMYIAkLe3d771aMKECaJ9ef31143uizUuXrwoqlPdu3enmJgYITwsLEwImzRpEmVlZRERUVpaGg0cOJAA0Jw5cwy2aLvY2FhR2dBoNNSgQQPy9fUlpVJJkydPpoULF4rSpEGDBjR06FAiG/fZmnZR79tvvyWFQiFaz8fHh+rVq0cqlYratWtHw4YNE4VXrFiRevfuLd2UVSxp/8PDw4V8L1OmDB07dkwIS01NpQEDBhAAGjhwIGVmZorWtZWc6WRpftlSNr7//nthu4YvjUZDyD1vTZ48OU89tvS8WVCd1DNsnwHQ+PHjhXg3btygefPmkUajocDAQLpw4YJ0dYGlaWgLW9LfljJbmH0RR6Yv2ZhOhsxpT5yl32xpHbOVtW2BrXlTWOXYz89PiKNWq2nEiBG0ePFiWrlyJb355ptUunRpeuuttygtLU26qoit53Y9c8qmnjVlytHlyZRCHwC6efshdR30dNBFOhDj6FfXQf+jDn3nUNsXv6f+o3+lke+uoFHvrqCReV4raeS7K+jVt5ZSv1ELqefQn6jXsJ+p59CfqEOfH6hFt5nUovtMatDxW+rcfx6t33JcethF2rM0AHTu3Lk8ldvYq2fPntJViYho7dq1pFQq88QHQGXLlhXiTZ48OU+4/mWsc7plyxYqX768KJ5CoaA+ffrQrVu3pNFtlpKSQh07dhR9Xr9+/fLt/Fmyf/Xr189zzPqXq6srPXjwQBQ/MTGRXFxc8sQFQEqlkk6ePElERL/99lueLwP6V6lSpYTtNW7cOE+4/jVt2jSDT5ZH//79ycfHh27fNm9w+MqVK1S3bl3Rfrm5udErr7xichuRkZEUGBgoWs/Pz49mzZpltANAueVVH7dz584UEREhjUJERDqdjqZMmSJKX4VCQaVLl6ZZs2YJne/89OzZk5A7CGauMWPGCMewdetWUdimTZuoQ4cOwoBaSkoK/e9//xN1ZvSvTz75RLQuEVFycjJVqVJFOI53332XUlNTRXH0A3e1a9emw4cPi8LIgrQzdRyGbE3jqlWrkru7O40fP14aJPjwww8JuR3GZcuWSYOtFhAQkCfd9a9BgwYREVFOTg5NnDhRGJTz9PSktm3bko+PDwUGBtLq1aulm5XFX3/9RRUqVBDtU+PGjYU8Xbp0KQGg0qVL04ABA2j27Nl05MgRIhn22ZJ2UerAgQNUrVo10br169endevWERl8aQ8ICKC3336bgoODKTIyUroZq1ja/icmJtKoUaOELy3169enVq1akZubG1WvXl3WsiYlZzpZkl+2lo1//vknT3sNgJo0aUK7d++WRrf4vGlOndS7efMmffHFF6IvcMg9JgBUqVIlmjFjBqWkpIjWM8aSNLSFrelvTZl1hr6Io9JXz5p0kiqoPXGWfrOldUwulrYFetbmTWGWY/0AkIuLi2gfPD09aejQobR//35RfFNsObfrFVQ2pSwpU4VVnvKjIDtNuNOp/zx4uLvg28kvoUXjqtJgwbLfQ7FifRjcXAv39i+djpCRmQ3v0h4Y+GITdOtUD/6+xi8108vOysSduEQ8ik+DSqmETqfFndh4xN1PhkqlxMNHSbh28xFi4p6gY5ua+PT9ntCoVdLNFDmXo+IwasJK1KtdCat+Hi0NZg6i1Wpx7Ngx3LhxAyqVCu3btzf7aUrW0Ol0CA0NxfXr19G6dWvhfuX8OHr/ioq9e/fCx8fHrKdT6WVlZeHgwYO4e/cuKlWqhA4dOpj1RLDU1FQcO3YMsbGxqFWrFlq2bAmVKv82KCcnB3/++Sfq168vuqQ2P48fP8aJEycQFxeH6tWrIygoSHQrQH7+/vtvBAYGmnzCldT169dx4cIFdO/eXfToU+ReHq5UKoUnrOllZ2cjJCQEISEhyMjIQP/+/dG7d29RHL2YmBgcPXoUHTp0MLpfFy5cwO3bt/HCCy+IbunSMzftTB2HMdam8aFDhxAUFCR6ZKnUvXv3cOTIEfTo0UO4NdHRMjIyEBUVhcuXL0OpVKJWrVpo1KiRyXJqq6SkJPz777+4e/cuateujTZt2gi3D0VHR+PevXto3bp1vvtgyz7b0i4SESIjI3Hq1Cn4+/ujQ4cOwn5funQJrq6uwlwIcrO0/Ufupe5hYWGIi4uDi4sL6tWrh6ZNmwr7bC9yppOl+WVL2UDuHGFRUVHIzs5Gw4YNLTpP2ENkZCRu3LiBmJgYlCxZEoGBgRbnoaVpaAtb07+wyqwtHJm+eramkzXtiRwKI62sZW1bYGveOJK/vz/u3r2LOnXqIDQ0FGFhYcjJycELL7xgVv9IytZzO6wom0WpTBkq9AGgD6dsRPipG/Bwz7+Tak8KhQIZGdlwc9OgUd2KeHVQKzRrlHeGcWvFJ6Qi/kkq4hNS0aCOLzzcn04wVZTxABBjjDHGGGOMMWsYDgAZPmiD2V+hTwKdnaODfYagCqbV6pCQmIZSpdzxzmsd8NVHL8k6+AMAZUp7IrB6ebRsWr1YDP4wxhhjjDHGGGOs6CncASDSQpuTUyiXpWVk5qBsGS+8/VpHLJg1FP16NUXpUh7SaIwxxhhjjDHGGGNFXqEOAEVce4D7j1KgUTt2NzIys1GxfAlMm/wSXhvWFtX8/3sEMGOMMcYYY4wxxuxDPwuNVquVBjE7c+zIi4RO91/mO0p2thaVypfCt5P7oG6tStJgxhhjjDHGGGOM2UlycrLoL3OcQh0AysjIQHa2424B02p18PBwwYdvdUU9HvxhjDHGGGOMMcYcJiwsDElJSYDBE0mZ4xTqAND1W4/x+EkaVCrH7EZGZg4a1vVF6+bVpUGMMcYYY4wxxhizg3379qFdu3bo0KGDaHnnzp3RrFkzTJ48WbSc2YdjRl7ykZqejaxsLRx0ARC0Oh3KlPZw2BVHjDHGGGOMMcbYs6527dr47LPPsHXrVvz111/Ca8eOHZg2bRr69OkjXYXZQaEOACkVCocN/gCAh5sLwk7cwJkLt6VBjDHGGGOMMcYYs4MqVargxRdfzPcVFBQkXYXZQaEOADmaRqPEw/gUrFh3DDk5POM4Y4wxxhhjjDHGng2FOgCk1RJI57ingBEB7m4anL5wB2s2/SsNZowxxhhjjDHGGCuWCnUAyL9ySZQu5Q6tAweBFAoFlEolNmw7hYuRMdJgxhhjjDHGGGOMsWKnUAeAypXxhKeHC3QOHAACABeNCilpmfjhl314kpAqDWaMMcYYY4wxxhgrVgp1AEitcoFSqXp6b5aDuWjUuBL9AAtXHAEVwuczxhhjjDHGGGOMOUqhDgCpVAoolQ58DJiEh7sGO/ZewKwfQ5CalikNZowxxhhjjDHGGCsWCnUAKKBaOXiX8kCOVicNcgiFQgFPDxfs2HsBk7/djNUbwvF32FXce5AkjcoYY4wxxhhjjDFWZBXqAJCLiwYB1cpJFzuUfhDo3OUY/LjkIGbM340Pp2zENz/swJZdZxB98yE/Mp4xxoqBuLg4LFu2DNeuXZMGsUKWmZmJAwcOYNWqVdKgIqM4lq+cnBwcOXIEa9eulQYxViTcvXsXK1aswPXr16VBrJi2W4wx0wp1AAgAAquXh1qlLIxpgERcXdTwLuWBrKwc3Il5gr2HIzB/8UG8/kEwPpu+Bb//+S+irt2TrsYYY8yJBQcH49VXX0XdunVRuXJlvP7664iJ4SdAOoMrV67gvffeQ1BQELy9vdG1a1esWbNGGs2pFcfydevWLXz00Ufo0qULypUrh06dOmHdunXSaIw5pYSEBHzxxRd46aWXUKVKFfj7+2PMmDGIi4uTRn1mFcd2izFmvkIfAPIp61mo8wBJqVRKuLqq4e7uArVaBaVSifDTNzF/8UF8/M2f+HTaZuzYex5paVnSVRmzWmYmz0HFmD1oNBpoNBpER0c/ExP+F6W2RKlUonTp0njy5AnS09OlwTZxVDoUx/KlVCrh4eGBO3fuIDExURosq82bN2P27NkmX+Hh4dLVnnmOKt9FERFBrVZDo9EgNjZWGvzMMVZWimO7xWxjrJyw4qvQB4ACq/tApVICcL4GSKF4+nJ1UaNUSXckJWXg7/Br+P7nvRj7wWqs33ocj58kS1djzCJTp06Fh4cHGjdujKwsHlhkTE5Dhw7FypUrMWLECGlQsVPU2pLAwEB8++232LVrlzTIJo5Mh+JYvvz9/TFt2jRs375dGiS75ORkXLhwAfPmzcOnn34qeq1cuRJXrlzhLyYSjizfRZG3tze++eYbbN68GUOHDpUGP1PyKyvFsd1i1suvnLDiq9AHgFxcXIrM6LNGo4KHuwtcXFSIvZeI/y06iA++2oh1W/5Fcsp/v14WkcNhTiAnJwczZsyATqfD+fPnERISIo3CGJOBv7+/dFGxUpTbEj8/P+kiqxVWOhTH8lWjRg3pItmNGjUKa9aswfXr11GhQgVh+QsvvIDLly9j2bJl6Nixo2idZ1lhle+iyhFl2FmZU1aKY7vFLGNOOWHFT6EPAAGAWq10wut/8qdQKKDRqFDCyw3RNx9jwdIjGPfhGvz51ylkZeVA4Tx3tDEnp1ar0bhxYwCASqVC06ZNpVEYK1KuXbuGAQMGSBcXOo1GI13kFORKL2duSwo6RrVaLV1ktcJKB2ctX7ZwcXGRLrIbT09PdO7cWfj/xRdfhII7U3lYUr4LqneWknt7juDq6ipd9Mwwp6wUx3aLiRVUb80pJ6z4KfQBIC9PVwRW90FOTuE8Ct5W7m4auLlpEHc/Cd/9vBcfTt2I85fuCOF8NRAryL59+/Drr7/i2LFj/GsMK9Kio6PRuXNnRERESIOYEXKnlzO2JXIfozmcMR1YwUqWLCm8L1GihCiM/cec8i13vZN7e8wxzCkrrPgyt95yOXn2FPoAkIe7CypX9C7Sj1rXXxFUqoQ7Tp+/g4+/2YzgjWHIztby1UCsQGXKlMH48ePRsmVLaRBjRUr//v1x9+5d6WKWD7nTyxnbErmP0RzOmA6sYIZXHPGVCfkzp3zLXe/k3h5zDHPKCiu+zK23XE6ePYU+AAQALZtWhUJRPK6W8XB3QWZmDn5Z/jc+n7kVMXFPpFEYY6xYevKE2ztLPAvp9SwcI2PORu56J/f2GGP2x/WW5Uf19ddffy1dKIeVf4RBo1Ghc7va8K1YWhoskp2jQ/jJG0hNy8x9IljRplIp4eKixq278fg7/BqqVPaGv28ZabQi6+HjFGzdfRY+5Uqgf68m0uBiQ6vVIiwsDHv37kVISAiio6OhUqlEE1XmJzk5GcePH8eOHTsQFhaGxMREVKlSBSqVShoVAJCWloatW7fCzc0NZcqYLivx8fH4888/sXPnTjx48ADe3t4FXi6flpaGTZs2wd3dXdh+cnIyduzYgR07duDx48coX7483N3dpauaZOlxwsr9t5Q1+5WUlITw8HBs2bIFYWFhePDgAfz8/MyeB8OZ0hgWpvOTJ0+wdu1aLF68GC+99JKw/NSpUwgODsbp06eRk5MDf39/o/NyJCUl4dGjR1i0aBFSUlJQqlQpDBw4EMnJyUhOTkZmZiY8PT2lq9lUxyx19OhRHDx4EAAwevRoVKtWDVlZWdi/fz82bdqEy5cvo2TJkihbtqx01TzS09MRHR2Nc+fO5TvJaHZ2Nu7cuYPz589DpVKJbm+xNr3MYU5bYq+yasjSY/zmm2+A3ElbR44cCQDIyMjAX3/9hW3btuHGjRtwdXVFuXLlhHVMMScd5Cx/cpYvQ7a2S7BxG/p8qVWrFl555RVhuU6nQ2pqKuLj43H//n3cuXMH169fR2RkJNzd3fNta0zZvXs3jh8/DgAYMGAAGjVqJI1iEVvrqSFbyoolbbG58ivflta7gtiyPVvKnTUSExMREhKCkJAQ7Nu3D7du3UJERAROnjwJABgzZgyqVKkiXU3EmryypWxYen5PT0/P03aHh4dj/fr1QD6TOudXVmCndsuaNLSELeXK1r6OMZYerzV5qBcdHY1169bh7Nmz8PDwgI+PjzQKYGW9NVVOjLElH+Tsg9hS/8zhLMcpO7KTjv3mUs9hP9OJszelQXkkJKbR2Imrqe2L31OXgf8rNq/nB/6P2vSaTS8M+ZH+2HpCethF1qXIWGrRbSaNfHeFNKjYOHr0KDVs2JACAwNp3Lhx1LFjRwJAAGjhwoXS6IK7d+/SmDFjyM3NTYivf1WpUoVOnTolxD158iRNnz6devfuTZ6engSADh8+LNqeoZSUFPrggw/I1dWVateuTeXKlSMApNFoaObMmaTVakXxr1y5QvPmzaP+/fuTl5eXsH2dTkcLFy4U1te/fHx8aPfu3aJt5MeS49SzdP+tYc1+PXr0iMaNG0cajYb8/f1pwIAB1Lx5cwJA7u7uNHfuXNLpdNLViJwwjcmCdI6Pj6fJkydTmzZtSKPREACqU6cOERFdu3aN+vTpk+dzW7ZsSTdu3BB93o0bN6hixYp54hq+6tevL1qHbKhj1po+fbqw/bVr19LUqVOpQoUKefZ1yJAhFB8fL12diIhat24tOtZKlSqJwhMTE6lVq1bk6+tLCoVCiLd+/XohjrXpZYo5bYk9y6qUNceoX961a1ciIgoODiYfHx/ROkqlkj7++GPKysoSratnTjroyV3+5Chfhmxpl/Tk2IZ+v3v37i1aPmDAgDzH5uXlRd27d6eTJ0+K4prr3XffFba1Zs0aabDZ5KinhqwtK+a2xeYqqHxbU+9MsXZ7cpQ7S0RERNDgwYNJo9FQQEAA+fv759lPABQaGipdVWBtXllbNiw5v1+8eJHmzp1LgwYNohIlShAM8v29994T1lMoFLR//34iM8qKnpztlrVpaC5ry5VcfR0pS47Xmjw0dOjQIerWrZtoH5VKJY0fPz5PulpSb80tJ4aszQd79EGsrX/mcKbjtAenGAAiIvps+hZq+cKsPIMoxeHVsd9cCnrxe1qy5qhwvEbKTJFR3AeALl++TJ6entSkSRNKS0sTlm/cuJFUKhW9/PLLovh6GzdupJIlS1Lfvn1p48aNdOrUKQoODqYePXoIFf2TTz4R4s+fP59q1Kghagjya3jv379PTZo0oRo1atCZM2eE5cuXLxdOaBMmTBCts2bNGgoMDBRt//fff6du3bpRQEAAjR8/nsaOHUs1a9YUwr28vOjevXui7UhZepxk5f5bypr9On/+PPn5+ZFCoaA5c+aIwnbt2kWurq4EgDp16mQ0XZwpjcnCdH748CG99957FBAQIGyzWrVq9Pnnn5OXlxcFBQXRqFGjqGHDhqIvSd7e3nTixH8D2g8fPqTDhw/T4cOHhS/sVapUEZYdPnyYIiMjhfhkQx2zhWFHt1SpUjRy5EiaMWMGffLJJ/T888+TSqUSwv38/ETpp3f69Gl65513hHg1atQQhet0Ojp//jwtWrRI1Ik2/GJpTXoVxJy2xF5l1RhrjlH/me3bt6e33nqLKlasSEOHDqUpU6bQoEGDRPkzb9480bp65qQD2an8yVG+9Gxtl0imbZCJASAiop9++okAUJkyZei3334TpaU15BoAkqOe6llbVixpi81VUPm2pt6ZYs325Cp35lq4cCG5uLhQ69atRfsSExNDAwcOFKVVfgNA1uaVtWXD0vP70qVLqUmTJnnyfd68eaJlMPjSW1BZ0ZOr3bI2Dc1lS7mSq69jyNLjtSYPiYji4uJowIABpFarafXq1ZSYmEjh4eHUqFEjIf7MmTOF+GRhvTW3nOjZkg9y90GsrX/mcKbjtBenGQD6bfURav/SD/T8gHl5BlCKw6tT7iDQL8sPSQ+9yCnuA0C9evUiADR//nxpEH322WdUs2ZN6WJauXIlqVQqmjp1qjSIiIjWrl1LrVq1oqioKNFyrVZLPXv2LLDh7dy5M6nVaqMnX/2vBwqFIk8HR6vVin41KFGiBC1YsEA0ap2RkUH9+vUT4hgbWNCz9jit3X9zWbNfMTEx5OvrSwBo4sSJovh6f/75p5Auffr0kQYTOVEak5Xp/PjxY1Kr1ULYmDFj6P79+6J19+3bR+XLlxf2v0WLFkZ/+fDz8yMY/LqWH2vqmK0MO7oHDx6UBtM///xDVatWFeI0aNDA6JUmWq1W+FWndu3a0mDBtGnThG0Z+2JJFqSXOcxpS+Quq+Yw9xj1nweARo0alWcw4fDhw8KXkbJly1JqaqooXM+cdLBH+ZOrfMnRLsmxDT19HOkAkE6no+eff56qV69OV69eFYVZS64BIJKxnlpbVqxpi81hTvkmC+qduczZnpzlzhyzZ88m5A4aZ2dnS4NJp9PR8OHDhc/LL62tzStryoYt53fDK1W+++47qlWrFu3Zs4dCQ0OpWbNmFBQUJLpKx5yyIle7ZW0amkOuciVnX8fa47UkD69evUqVKlUiAPTRRx+JthMTEyMMQlSrVk0UZsicemtOOSGZ8kHOPog19c8cznac9uI0E+5U9vWGRqMqFhNBG6NSKaFxUWPt5hP4deURYXlxPd6iLCwsDMi9T1Pqww8/hEKhgFb731Przpw5g3HjxqF27dr46quvRPH1hg0bhvDwcNSqVUu0XKlUolWrVqJlUmvWrMGhQ4cwePBgNGmSd86lAQMGAACICBs2bBCFKZVKtG7dWvh/zZo1eOedd0T3Nru6umL27NnC/2fOnBHeG7L2OG3Zf3NYu1+TJk1CbGwsNBoNPvroI1F8vQEDBqBNmzYAgO3bt2Pjxo3SKE6RxrAhncuUKQNvb28AQO3atbFs2TKUL19eCAeArl27YufOncIxnTx50mhamMvSOiY3pTLvqa9t27Y4evQoPDw8AAAXL14U5ZmeUqkU5gkxNUeANA3tzZy2RM6yai/t2rXDypUr89wT37FjRwwePBgA8Pjx43wfa2tOOti7/NlSvuRol+TYRkFmzZqFyMhIHDhwAIGBgdLgQidXPbWmrFjbFpvDnPJdWBxR7vQOHDiATz/9FAqFAr/88gvUarU0ChQKBerUqSNdLGJLXllaNmw5vwNA06ZNhfffffcdtm/fju7duyMoKAinTp1CaGiocC6HFWXF2nbLljQ0h1zlSq6+ji3Ha0kehoSEIC4uDsidv8qQr68vevToAQC4ffs2MjMzReGWMLecyJEPcvZBLK1/5nK247SXvLW9sFD+J+jiQqVUQKNWYe2fx7F0zVEA4MfEOyH9xF4LFizA9evXRWHlypVDVFSUaIK+cePGITs7GxMmTMh34j5TXF1dpYsEycnJQgPUt29fEBGysrKQmpqKhIQEPHr0SPSIx9OnTxus/ZT+xA0ApUqVEoXp1apVS5ig7Nq1a9JgwMrjlGP/C2LNft2+fRvr1q0DALRs2RJ+fn7SKALDE+9nn30mCtMrzDSGDOlszmR2LVq0wNChQ4X///nnH1G4JSytY47i7++PTz/9VPh/wYIFeHoRhJixjrJUYey/qbZET66yai9ubm7SRYL27dsL76XlxlBB6VBY5a+g8iVHuyTHNgqyY8cOzJ07F3v27EH16tWlwU5DjnpqaVmxtS02R0HluzA4otzpERHef/99EBGaNGmChg0bSqOYxda8srRsWHt+1zNsG8ePH4/atWuLwo2Ro6yYardsTcOCyF2ubO3r2Hq8luTh2LFj8fHHH2Py5MmoV6+eNBgBAQFA7oT8t2/flgZbpKByImc+yNUHsbT+mcMZj9NeCj47OkjeLnbxpFIpoVarsPKPcCxba/0XKGY/nTt3BgDcv38fDRo0wJQpU5CamiqNBuQ+OeDUqVMAgLp160qDzWLq18mQkBA8ePAAAPDKK69AqVTC1dUVXl5e8Pb2ho+PD4YPHw6VSoWKFSuiZ8+e0k2Y3L4h/Yz56enp0iCrj1OO/TfF2v3aunWr0IGpVq2aNFikW7duwvvo6GijjXRhpjFkSGdz99/wqRmXLl0ShVnCkjrmaK+99prw/v79+7hy5Yoo3JmZk4/mxEEBZbWwVK5cWXhv2MmWKugYC7P8mSpfcrRLcmzDlEOHDuGVV17Bhg0b0KBBA2lwsWNpWbG1LTZHQeW7MNi73BkKCwsTzj+Gv7Jbyta8sqRs2HJ+1zPM9xdeeEEUlh+5ykp+7ZataVgQucuVuemRX1/H1uO1JA/d3d3xww8/4LvvvpMGITs7GzExMcL/WVlZonBLFZQucuZDQZ+lV1AfxJL6Zy5nPE57cZoBIJVSAcC8xCrqVColNGoVVv8Rjm0hjr3kixVs3rx5qFixIpBbIadNm4Zq1aph1qxZSEtLE8XduXOn8D6/x8zaIjQ0VHj/448/Ijg4GJs3b8a+fftw4sQJXL16FfHx8cjOzkZcXBw+//xz0fqWMDVSbu1x2nv/rd2vy5cvC+9NjfAj91Jbw4Zc+kuDJeyRxnBAOusZXpZuy4nWkjrmaH5+fqJHuOovwX7WmCqrhcXw11OdTicKs0Rhlj9T5UuOdkmObRhz+/ZtvPbaa3jhhReQkpJiMm5xYmlZcVRb7GzsVe6MCQkJEd7b8qhnW/PKkrJhy/ndGHO/XMolv3bL1jQsiCPLlaH8+jpyHq81efjgwQPMmTMHtWrVwqFDh6TBdlMY+VBQH8SS+mcuZzxOe3GaAaDEpDRodbpn5pYolUoJnY6wJPgfnDp3UxrMClGlSpVw5swZjBgxQlj26NEjfP7552jevLno1wDDyy4zMjKE93KJjY0V3g8aNAjDhw9H//790bVrV7Ro0QKBgYHw9va26kRiCWuP0977b+1+3bt3T3ifmJgoCpPSaDSi+8TtNUpv7bHAAemsZ5gOvr6+ojBLWFLHCoPhnCaGnV5WPBR2+cuvfMnRLsmxDWNSU1Ph5uaGnJwcAMCECRMQHh4ujVbsWFpWHNUWOxt7lTtjbt26JbzXl0dr2JpXlpQNW87vzsJYu2VrGhbEkeXKUH59HXsfrzFZWVlYv349XnzxRVStWhWnT5/Gtm3b8Pbbb0uj2k1h5YMpltQ/cznjcdqL0wwAXb5yDxkZ2bJWGmfn5qZGYnIGvpmzC2cv2nb/JpNXxYoVsXr1aoSGhqJZs2bC8sjISPTu3RtJSUlA7mWYetaO/ppieL9yZGSkKMyRrD1Oe++/tftlOMGsqVtJ9DQajfBe/4uD3Kw9FjggnfUMO7Ht2rUThVnK3DpWGJ48eSK89/f3F4Wx4qEwy19+5UuOdkmObRhTt25d/Prrr5gzZw4AIDMzE/369cOdO3ekUYsdS8qKo9piZ2OvcmeM4aCPLWksR16ZWzZsOb87C2PtlhxpaIojy5Wh/Po69j5eqe3bt6N69eoYNmwYMjIycPHiRaxduxaNGjWSRrWrwsqHgphb/8zlrMdpD04xAJSVlYMHj5KhfIYGf5D7BDA3VzUexadgyuy/eBDICQUFBeHkyZNYsmSJcPvBzZs38fvvvwMA6tevL8TdsWOH8F4uhveK22P75rL2OO29/9bul+HlvTdu3BCFGaP/JUCtVpuctM8W1h4LHJDOevqOq0qlQv/+/aXBVimojjmaVqsVTvzNmjXL85QQQ0X1l1z2H0eXP1PlS452SY5tmPLhhx8Kv7jev38fvXv3NvoUFmciVz01p6w4qi12NvYud4YqVaokvLfmV349OfOqoLJhy/ndGeTXbsmZhsY4slwZyq+vY+/jNXTmzBn0798fsbGxGDp0KPbv3y9M/OxohZUP5iqo/pnL2Y9TTk4xAHQ3LgGP41OhVjvF7jgUEeDp4YInCWmYMvsvnDjLt4MVpmnTpmHq1KmiZQqFAq+//joWLFggLDt//jwAiJ4+8dtvv+Hs2bPC/3Iw7DQsXLjQrAbJHqw9Tnvvv7X7JZ3gz9QvOXFxccIXnPbt26N06dLSKLKw9ljggHTW27JlC5D7dApTE+SZmh/I0jqmd/r0aaxatUp0ia49nD9/XviFWfroVT39r0R379616jGjUqbSq7hwlmO0tvzJxVT5kqNdkmMbBfntt9/w3HPPAbnHM3jwYJtuxdEzfCKa4Xtr2VpPrSkrjmqLzSV3vctve44od3odOnQQ3kdERGDPnj2icHPZkleWlg1bzu/OIL92y5Y0NIcjy5Wh/Po69j5eQ8HBwcJcdwMHDrTpDpn86q25Cisf8mNp/TOXsx2nPTnFiEtmZhaysrOhUFpfuIsyIsDNTYNH8SmYPm8Xzl0q+LIzZh8ajQbLli0z+ovh4MGDhff6it61a1fUqVMHyL3Ed+TIkYiPjxfiGYqNjcU777yTZ/JSw46ptJPaq1cv4eSTkZGBN954AykpKaI4eocOHUJYWJh0sWib0s82pL9E2Vgca49Tjv03xdr9atGiBYYNGyaELVmyRBTX0NatW4X3ho9CNVSYaQyZyklBLl26hK1btyIwMBCzZs2SBgMGjxKNjY3N9wuhpXUMufvcvHlzjB49GnXr1sWBAweEMGvon+JhzLx58wAAderUwRtvvCENBgzmQsjJycHff/8tDQYkl/kbXv5vyJz0soSptkRPjrJqCXOO0fAzTH2euftuKh2sKX+WsrZ8ydEuybENPcM0NkxHNzc3bNmyRbjkfc+ePRg7dqzNgzaGX1LkmE/B1npqTVlxRFtsqnzrmVPvLFHQ9uQsdwXp3r27aCLliRMn5pvGhjIzM0X/25JXlpYNW87veubku5Ql61jTbtmShuZwZLnSM9XXsfV4LckPw4mMC3rMe377UFC91Stov+TMB3PP46b6IJbWP3M523Hak1MMAN2JTcCDRylQF9JM2M6AiODh7oKHj1Pw3U8heBTv3JdUF1fly5dHTEwMPvvsM2mQcP+zQqHAgAEDgNxG6KeffhLiXLhwAXXq1MHy5ctx//59aLVaRERE4KeffkKTJk3g5eUFpVJc7Qzvq05ISBCFubq6Yvbs2cL/+/fvR9OmTbFjxw7Ex8cjMzMTx48fx7vvvovevXsb7TQb3gNr6lJ9/X4Y+6XA2uOUY/9NsXa/AGDu3LkoWbIkAGDx4sU4fvy4sB09nU6Hn3/+GQAwYsQIdO/eXRoFKOQ0hkzlBLm3dOgfVWsoKioK/fr1Q926dbFr1y6UKVNGGgUAUKVKFSD3xLd27VphueEjSi2tY8i9717fkUlISMDw4cPz7fCYw/DEbejgwYNYv349Spcuja1bt4ru7zZk+PjrCRMmiL5E3r59Gy+//DJ+/PFHYdmFCxeE94bMSS9LmGpL9OQoq5Yw5xgN99XUPhnGM3Vvv6l0sKb8WcqW8iVHuyTHNiBJO8M0BYDKlStjy5YtQr1cvXo13n33XZsGgQznE5JjbiFb66k1ZUWuttgUU+Vbz5x6ZwlztidXuSuIm5sbVqxYIVwRERkZiebNm4s+LyMjA8uXL8fChQuFZYZPcIKNeWVp2bDl/K5nbvtnyJyyomdNu2VLGprLHuXK2r6OrcdrSR4azmkzd+5c0SDQoUOHsGrVKuH/Xbt2gYhEj4aHmfUWZpYTufJBjj6IpfXPEs50nHZFdtKx31zqOexnOnH2pjQoj+0h56hFt5nUZeD/+DXwfxT04vf0ybd/UnZ2jjSpnMKlyFhq0W0mjXx3hTSoyAsLCyMABIAmTZpEWVlZRESUlpZGAwcOJAA0Z84c6Wr0/fffk1qtFtbVvzQaDQEghUJBkydPJp1OJ1rv4sWLVL16dSF+9+7dKSYmRhSHiGjSpEl5tg1A+EwvLy/au3evaB2dTkfnzp2jgIAAIX6/fv0oPj5eFC8rK4uWLVsm2u7q1aspJydv+bP2OK3Zf0tYu1/h4eFC+pcpU4aOHTsmhKWmptKAAQMIAA0cOJAyMzNF65KTpTHZkM5+fn6iuCNGjKDFixfTypUr6c0336TSpUvTW2+9RWlpadJVRWbPni1sx8XFhUaMGEGDBw+mChUq0JUrV4hsqGN37tyhIUOGCOvu379fGsWk6dOni9Jk/PjxQl27ceMGzZs3jzQaDQUGBtKFCxekq4vExsaSl5eXsC2NRkMNGjQgX19fUiqVNHnyZFq4cKHo8xo0aEBDhw4Vbcec9DJXQW2JPcqqOQo6xvT0dPryyy9FaXno0CHSarWi7cTFxVGXLl2EePXr16ebN/P2LwpKB2vLX0HkLF+2tkskwzaSkpJE7YlKpaLt27cL6aUXHBwsOu6ePXvS0aNH88TLj1arpbt379Ivv/xCSqVS2E7FihVp+/bt9PjxY+kqZrO1ntpSVqxtiwtSUPnWK6jeWcrc7dla7izx7bffkkKhEKWvj48P1atXj1QqFbVr146GDRsmCq9YsSL17t1btB1r8srasmHt+f3SpUtUo0YNIX7Xrl0pOjo6TzxD5pQVudota9LQEnKVK7n6OtYcr6V5mJaWJjpfe3p6Uo8ePahGjRpUtWpVmjx5suizvb29qWXLlqJtmFNvzSknerbkg5x9EGvrn7mc5TjtyTkGgPbwAJDhq3P/eRTU+3tavPqINKmcQnEeAMrJyaGJEyeSp6cnIbfBbdu2Lfn4+FBgYCCtXr1auorgn3/+ocDAQFFlBkBNmjSh3bt3S6OLGgfpa9CgQdLotGXLFipfvrwonkKhoD59+tCtW7ek0cnV1TXPdvWvWbNmEeV2kI11RpB7sjDW+bb0OPUs3X9LWbtfiYmJNGrUKKEDVr9+fWrVqhW5ublR9erVadmyZdJVBM6WxmRlOus7RS4uLuTi4iKs5+npSUOHDjV7sCUlJYU6duwo+ux+/fqJOo621LHMzEwqVaoUAaDff/9dGmzSzZs36YsvvhB1dPSfD4AqVapEM2bMoJSUFOmqRv31119UoUIF0bYaN25Mhw8fJiKipUuXEgAqXbo0DRgwgGbPnk1HjojbdHPSyxzmtCX2KqsFMXWMa9euFX3pN3yVLVtW2Ia0o2v4MvwyZ0462FL+TJG7fNnSLulZu41p06blST/9S6VS0cmTJ0Xxv/nmmzzxevToIYqTn/79++dZV/qaPXu2dDWz2VJPbS0r1rTFpphTvvVM1TtrWLI9a8udNQ4cOEDVqlUT7Vf9+vVp3bp1RAYDHAEBAfT2229TcHAwRUZGSjdjcV7ZUjYsPb/Xr18/T1z9y9XVlR48eCBdxeyyIme7ZWkaWkqOciVXX4csPF5r8pCIKCIigho1aiTEValU9NZbb1FSUhLl5ORQ586dCbkDiJMmTaLk5GTR+gXVW3PLiSFr80HOPogt9c9cznCc9qQgW67XNaFT/3nwcHfBt5NfQovGVaXBIucv3cbnM7chJTX7mZwI2pjsbC3UaiXmfTsIjes712OIL0fFYdSElahXuxJW/TxaGlwsZGRkICoqCpcvX4ZSqUStWrXQqFEjqMy4TfH06dOIiopCdnY2GjZsiKZNm0qjWE2r1eLYsWO4ceMGVCoV2rdvL1zi6WjWHKcj9t+a/ULuZa9hYWGIi4uDi4sL6tWrh6ZNm9o08Z6trD0WS9PZ398fd+/eRZ06dRAaGoqwsDDk5OTghRdeED0W0xw6nQ6hoaG4fv06WrduLcx7IGVtHdPv67Vr16x+IkZkZCRu3LiBmJgYlCxZEoGBgVbldVJSEv7991/cvXsXtWvXRps2bYRtREdH4969e2jdurXJYzI3vYoyZzxGa8ufOeQqX5CpXZJjGwVJSkqCSqWCWq2GSqWCSqWSdfu2sLWe2lJWLG2L5SR3vbN0e44od8DTKRQiIyNx6tQp+Pv7o0OHDsJnXLp0Ca6ursJ8UKZYk1e2lA1rz+/2Ike7ZU0aWsqWciVnXwcOOt7s7GycPn0aV65cQVBQkGj+K61Wi5CQENSoUUP0hDJDltZbc9mSD3Kxpf6ZyxmO0x6cYgDo1p3HmDxtM2LvJcLFRS0NfmZlZuWgdkB5zPt2MEqWsLxhspdnYQCIsWeJYacoIiJCGuw0tm3bhn79+mHw4MHYsGGDNJgxxhhjzKii0tdhzN6c4nIbHT19MTFXFzUuRd3Dhm0npUGMMfbMSE9Px+zZszFkyBB069YNy5Ytk0ZhjDHGGGOMFcApBoA0GiU0aiV4DCgvFxcVtuw6h7MXbX8iBmOMFUX79u3D+vXrsXjxYuzZswclSpSQRmGMMcYYY4wVwCkGgCpXKIFyZTyQk6OTBj3zNGoVniSmYemaUGRl50iDGWPMZvo7gbVarTTIKfTp0wdnzpzB6NGji/x914wxxhhzPGfv6zDmKE4xAKRQquHu7god3wdmlIe7C85disGOPeelQYwxZrPk5GTRX8YYY4yx4oT7Oow95RQDQABApMh9AhozhoiwZtNxPHiUJA1ijDGrhYWFISnpabty7949HDlyRBqFMcYYY6zI4r4OY/9xmgEgf9/S0GhUsM8zyYo+NzcNHjxKxrLf/5EGMcaYxfbt24d27dqhQ4cOouWdO3dGs2bNMHnyZNFyxhhjjLGihPs6jOXlFI+BB4Cj4VfxzZyd0OkISiXP8WCMTkdQKID50wejYV0/abDD8GPgGSv6bt++jQsXLkgXC0qXLo2goCDpYsYYY4yxIoH7Oozl5TQDQPFPUvHa+6uRmJwOtcppLkxyOukZ2egcFIhpn/YrtMlQeQCIMcYYY4wxxhgrWpxmpKVUSXfUrFEeOTk8M7spri5qHAmLxo4956RBjDHGGGOMMcYYY0Y5zQCQSqVEt451oNXa5YKkYkOpVICIsG7LSTx8xLPYM8YYY4wxxhhjrGBOMwAEAC2bVUetGj7IyMyWBjED7m4a3Lj9GFt2nZEGMcYYY4wxxhhjjOXhVANA3qU80Kp5deh0xE8DM4Ho6SDQ1pBzOHn2pjSYMcYYY4wxxhhjTMSpBoAA4KXujVC+rBe0Wp00iBlQqZR4kpCOxauP8hVTjDHGGGOMMcYYM8npBoD8K5fB8+1rITMrRxrEJDzcNYi4eg8bt52UBjHGGGOMMcYYY4wJnG4ACACeb1cXLhoV3wZWAIVCAY1GjdUb/8WxE9HSYOakMjMzceDAAaxatUoaVCi0Wi3Cw8Px+++/S4MYs0pCQgLWrl2LTz75BOvWrUNmZqY0ik3u3r2LFStW4Pr169IgxpiEs51zCgunAytOilPfLS4uDsuWLcO1a9ekQcxAccpzVriccgCoQd3KCGoZgOTUDGkQk1ApFUhJzcKPSw4iPiFFGsycxJUrV/Dee+8hKCgI3t7e6Nq1K9asWSON5jCXL1/GxIkT0alTJ5QpUwZt2rTBypUrpdEYs9jixYvh5+eHV199FT/88ANeeeUVtGrVCk+ePJFGNVtCQgK++OILvPTSS6hSpQr8/f0xZswYxMXFSaMyxpzwnFNYOB1YcVKc+m7BwcF49dVXUbduXVSuXBmvv/46YmJipNGeecUpz5nzcLoBIP1VP/16NUHpEu7IyeG5gAri6eGC2HuJ+Oq7HTwfkJNSKpUoXbo0njx5gvT0dGmww+l0Omg0Gty9exdJSUnSYMYslpOTg5dffhl//PEH1qxZg6VLl6J79+4AgHPnzuHcuXPSVcxGRFCr1dBoNIiNjZUGM8YknO2cU1g4HZyL3FeDPmuKU99No9FAo9EgOjoaxLd85Ks45bkzedbbIqcbAFIonv5t2bQaenWtx3MBmcnFRY1T525jxbp/pEHMCQQGBuLbb7/Frl27pEGFokGDBvjhhx+wY8cOaRBjVhkzZgzCwsKwc+dO9OvXD2PHjsWePXuwZMkSfPTRR+jUqZN0FbN5e3vjm2++webNmzF06FBpMGNMwtnOOYWF08F5TJ06FR4eHmjcuDGysrKkwcwMxanvNnToUKxcuRIjRoyQBjEDxSnPnQW3RU44AGRoYO/mqFi+BLKytMLAEDNOAcDD3QVrNp3A0jWh0mDmJPz8/KSLClWNGjWkixiz2J9//ong4GAMHDgQ7u7uorDXX38dc+bMES2zBZdZxsznbOecwsLpULhycnIwY8YM6HQ6nD9/HiEhIdIozALF6Tzo7+8vXcSMKE55Xpi4LXrKqQeA/CuXwfiR7QAFIUfLlwcWRKlUQK1WYv3WE/g77Io0mDkBtVotXVSoXF1dpYsYs9jXX38NAGjUqJE0SHaOKLPXrl3DgAEDpIuLlOJwDKxgBeWzs51z7IXTwbmp1Wo0btwYAKBSqdC0aVNpFGYBR5wHHUWj0UgXMSOKU54XJm6LnnLqASAAeOH5hujYpibS0p7te/XMpVGrkJmlxf8WH0T0zQfSYMYYk9Xly5dx8eJFAICvr680uMiJjo5G586dERERIQ0qMorDMbCCcT4/xelQNOzbtw+//vorjh07xld9MMYKDbdFRWAACADeHdsJvhVLIyMzm28FM4Orixr3HiRiwbLD0Ol4Em3GmP38+++/wnsPDw9RWFHUv39/3L17V7q4SCkOx8AKxvn8FKdD0VCmTBmMHz8eLVu2lAYxxpjDcFtURAaAKviUwtSPe6FMaQ9kZPKk0ObwcHfBqXO3sHwtTwrNGLOfe/fuCe+Lw6Xctjyu3lkUh2NgBeN8forTgTHGGDOfguz07L1O/efBw90F305+CS0aV5UGW2Xt5uP4ZdlhuLpqoFTypUAFycnRQaNR4X/TBqFBncog+u8pa7a4HBWHURNWol7tSlj182hpcJH1+PFjZGRkSBcDAEqWLIkSJUpIF+eRnZ2NBw+M33rn6+sLhUIBRW4mdO3aFfv27QMAZGRkICQkBFFRUfD19cVzzz2HOnXqSLZgWlJSEs6cOYPTp0+DiBAQEIAuXbrAy8tLGlXE2P6YEh8fj127duHOnTuoVasW2rZti0qVKkmjWS06OhohISHQaDRo37496tatK42SR3p6OrZu3YrnnnsOgYGBAIDw8HCEhoaibdu2aNu2rXQVq9bRK2gfY2JiRP8b0pcDAHj06JHRR1GWKFECJUuWFP7XarUIDw9HREQEHjx4AF9fXzRv3hwNGzYUrWcta8qOvqx///33+OmnnwAA27dvR7NmzYQ4ZcuWhZubm8FalklMTMShQ4dw8+ZNJCcno2rVqggPD8evv/4KAAgNDUVQUJB0NZGC8kovKSkJycnJaNGiBe7du4eAgAAcOXJECHdxcYGPj49oHT1zP8Na5m7flmMwlzVlRS8tLQ3btm0T1bnk5GTs2bMH0dHRqFOnDtq3b48yZcpIVzUpOTkZZ8+exblz56DValGnTh107twZLi4u0qgi9mrLrG1b7JXPxtp4Oc451qSftWljjLOkg7n5ZshedcGUpKQkhIeH4/LlywCAmjVromvXrnnmFnn8+DHKli0rWqZnS/1H7nHv3LkTzZo1Q0BAgDQYsEPayHHcekSE2NhY6WJB5cqVhffx8fFIT08XhcNEf9LScmSsPEulp6fj1q1biImJQZcuXaTBQO65PCYmBrdv30aNGjUKnDDdmnpvyowZM/Dll18CAA4fPoyOHTsiKysLhw4dwpkzZ1CmTBl07twZNWvWlK4K2KG/JcV5Ln+eQ+b9tKaPXNTbIpuRnXTsN5d6DvuZTpy9KQ2yyS/LDlK73t9T5/7zqMvA//GrgFfrnrNp7MTVlJySLk1Kq12KjKUW3WbSyHdXSIOKtHfffZc0Gg0BEL08PDxo+fLl0ujUpk0bWrZsmWhZREQE+fr65tmGr68vJScnEz0dcCUA1LVrVyIiCg4OJh8fH1F8pVJJH3/8MWVlZYm2b8yjR49o3LhxpNFoyN/fnwYMGEDNmzcnAOTu7k5z584lnU4nXU0g3Z/8pKSk0AcffECurq5Uu3ZtKleuHAEgjUZDM2fOJK1WK13FIocOHaJu3brlSYfx48cb3fbFixdp7ty5NGjQICpRogQBoMOHDxMR0XvvvSdsQ6FQ0P79+61ex5C5+1i7dm1RHP2rUqVKlJaWJsR77bXXSK1Wi+K4u7vTzz//LMQ5evQoNWzYkAIDA2ncuHHUsWNHIe7ChQuFeNawtuzodDrq379/nuOTvkJCQqSrmiUiIoIGDx5MGo2GAgICyN/fP8+2AVBoaKh0VYG5eUVEdOPGDapYsWKe7Ru+6tevL1qHLPwMa1iyfWuPwVzWlpUrV67QvHnzqH///uTl5UXIrXM6nY4WLlwotCP6l4+PD+3evVu6GaPu3r1LY8aMITc3tzzHWqVKFTp16pR0FSI7tWW2tC32zmf9crnOOZamny1pkx9nSAdL8o3sXBdMycjIoO+//57KlClDdevWpbfffls4j5QpU4b69u1LnTt3poYNG1KpUqWoRo0aovMU2VD/iYhOnjxJ06dPp969e5Onp6dw3IbskTZyHLdUcnIyValSRbQv+ldAQADl5OQIcfV1xDCOl5cXLVmyRLRNS8uRnj6usb5b69atRfWjUqVKovDExERq1aoV+fr6kkKhEOKtX79eFM+QpfXeXNOnTxc+f+3atTR16lSqUKGCKD0A0JAhQyg+Pl66uqz9LWM4z+XNc7n305I+cnFqi2xV5AaAiIi+/n47Ne82M89gB7+Mv1r3/I6W/Z7/FyVLFdcBICKi2NhYqlevnlCxBwwYQJmZmdJodO7cOQJAbdq0kQYREdH+/fsJuR3a4OBgUZh+2+3bt6e33nqLKlasSEOHDqUpU6bQoEGDSKVSCXHmzZsnWlfq/Pnz5OfnRwqFgubMmSMK27Vrl3Ai6tSpE927d08Urqf/LGMnFL379+9TkyZNqEaNGnTmzBlh+fLly4VBswkTJojWMVdcXBwNGDCA1Go1rV69mhITEyk8PJwaNWok7NvMmTOlq9HSpUupSZMmQhzkNtLz5s0TLYPBScCadcjKfTx+/Ljoy8WQIUNE4XpxcXFUqVIlAkDjx4+n1NRUIezy5cvk6elJTZo0EZ0MNm7cSCqVil5++WVhmaVsLTtHjhyhw4cP04gRI0RpdvjwYeFlTedg4cKF5OLiQq1bt6bIyEhheUxMDA0cOFCUR8YGgKzJq4cPHwr7rM+zKlWqiI7FcF+s+QxLWLN9S4/BEraUlTVr1lBgYKAo337//Xfq1q0bBQQE0Pjx42ns2LFUs2ZNIdzLyyvPdqQ2btxIJUuWpL59+9LGjRvp1KlTFBwcTD169BC288knn0hXs1tbZk3b4qh81m9LjnOONelnTdoUpDDTwZp8IzvWBVN0Oh0NGTKEAFCPHj0oIyNDCFu6dKnwOSVLlqTatWtT/fr16eLFi6Jt2FL/iYjmz59PNWrUEB33YcmXLrnTRo7jNuXo0aPCl0MANHv2bGkUotyBM/2Pgm+++Salp//3Y6y15UhPH8dY3+306dP0zjvvCHFq1KghCtfpdHT+/HlatGiRaLAlvy/Z1tR7cxkOAJUqVYpGjhxJM2bMoE8++YSef/55Ub308/MTfb6eHP2tgnCeP2Vrnsu5n5b2kYtjW2StIjUApP9xISExjd6ZvJZa9fguz2AHv/K+OvSdQ/1G/kLRN+9Lk9QqxXkAiIhoy5YtQoUcPny4NJiIiD766CMhTkREhDSYYmNjCUCexocMGnAANGrUqDyjvIcPHxZOeGXLls33BBUTEyOcZCZOnCgNJiKiP//8U/isPn36SIOJCjih6HXu3JnUarXRE6/+F1yFQmH0C7kpV69eFU7GH330kSgsJiZG6FhWq1ZNFGaoT58+wjF89913VKtWLdqzZw+FhoZSs2bNKCgoKM+vRpasY8s+Llu2TPicl156SRosqFy5MtWrV0/0SxIRUa9evQgAzZ8/X7SciOizzz6jmjVrShebRa6yQ0T05ZdfCvHCw8OlwRaZPXs2IfcLWnZ2tjSYdDodDR8+XPg8aXmzJa/0/Pz8CADVqVNHGkQk02eYIsf2CzoGS8hRVrRarejXzhIlStCCBQtEVwxkZGRQv379hDjGBm/0Vq5cSSqViqZOnSoNIiKitWvXUqtWrSgqKkoaZLe2TM/ctsWR+azfH9h4ziEb08/ctLGUI9PB1nyTuy4URP/lWqFQGO2rdO3alZD7BSYuLk4aLEv9p9zj7tmzpxBP+qVLH0eutLH1uM0xc+ZMYT8++OADabCgatWqFBAQIDqn2VqOyIy+m1arFQYsateuLQ0WTJs2TdiWsS/ZZGO9L4jhANDBgwelwfTPP/9Q1apVhTgNGjQweoWerf0tc3CeP2Vrnsu1n9b0kYtjW2SNIjEJtJ5+/ppSJd3xzeSX0KyhH9LSs6TRmIRGrcL9Ryn4dcXfyMnhp4IVpHfv3vD29gYAhISEQKvVisK1Wi3Wrl0r/L9y5UpROHLnNACAt956SxokaNeuHVauXAl3d3fR8o4dO2Lw4MFA7n2g+T3adtKkSYiNjYVGo8FHH30kDQYADBgwAG3atAFy52fZuHGjNEqB1qxZg0OHDmHw4MFo0qSJNBgDBgwA8PQ+6Q0bNkiDTQoJCUFcXBwAYMyYMaIwX19f9OjRAwBw+/Zto/duA0DTpk2F99999x22b9+O7t27IygoCKdOnUJoaKiQn9asY8s+vvLKK8J9vHv37kVCQoIoHABOnjyJmJgYfPXVV1CpVKKwsLAwIPeeY6kPP/wQCoUiT/k0h6PKjiUOHDiATz/9FAqFAr/88gvUarU0ChQKhcn5OWzJK3PZ+zPsvX1LyVFWlEolWrduLfy/Zs0avPPOO8J8BgDg6uqK2bNnC/+fOXNGeG/ozJkzGDduHGrXro2vvvpKGgwAGDZsGMLDw1GrVi3Rcnu2ZXrmti2Fkc+2nnNsTT9z08bebEkHW/NNzrpQkOzsbMybNw8A4OfnZ7TtHDlyJAAgJSUFq1atkgbLUv+Re9ytWrWSLhaRK23kOG5zvPnmm8LcHevXrzd6Lo6MjMStW7fw6aefis5ptpYjcyiVSmFuG8M0lCpfvrx0kYit9d4SSmXer6Vt27bF0aNHhaeMXrx4UVQG9Gztb5mD8/wpW/Ncrv20po9cHNsia+StaUVEWW8vTH7vBVSuWJqfDGYGN1cNwk7dwP6/n048xfKnVqvRp08fIHfSuH/+ET9J7cCBA0hMTBROHqtXr87TwOzZswfVqlVDhw4dRMsNmZoct3379sL769evi8KQe4JYt24dAKBly5b5TowGyYnms88+E4UVJDk5Wej09e3bF0SErKwspKamIiEhAY8ePRI9fvf06dMGaxds7Nix+PjjjzF58mTUq1dPGixMzKbT6XD79m1pMCBJx/Hjx6N27dqicGMsWceWfXRzc8Po0U8nSs/MzDTaMV63bh38/f0xaNAgaZAwie2CBQvylINy5cohKirK4k6Mo8qOJYgI77//PogITZo0MTlxnym25JW57P0Z9t6+JeQsK/rOOwCUKlVKFKZXq1YtYTLFa9euSYMBAOPGjUN2djYmTJhgUdm3d1umZ27bUhj5bMs5R470Mzdt7M2WdJAj3+SqCwW5fv064uPjAQD+/v7SYAAQJjZF7hdXQ3LWf+R+YSqIHGlj63Gbq0yZMhg4cCAAIC4uzuikvOvWrUO5cuUwfPhw0XI5ypE5jA2oSJlqR+Wo93Lw9/fHp59+Kvy/YMECPL0g5j+29rfMwXkuX57bup+woY9c3NoiaxSc+k6sql85fPhWF3i6a5CdnXcUlv1HqVRAqVRi9YZwPH6SIg1mEvrRbQDYunWrKGz16tUYNmyYMFofFxeHPXv2iOLs3bsXI0aMMDmybYrhUwUMG1q9rVu3Cie/atWqSYNFunXrJryPjo422kjlJyQkRHiq2SuvvAKlUglXV1d4eXnB29sbPj4+GD58OFQqFSpWrIiePXtKN2GSu7s7fvjhB3z33XfSIGH2f72sLONX+xmm8QsvvCAKy48l69i6j2+88YbwPjg4WBSm0+mwfv16jB8/3ugVL507dwYA3L9/Hw0aNMCUKVOQmpoqjWYRR5UdS4SFheHSpUsAIPrVxVK25pU57P0Z9t6+JeQsK+a2hRUqVABynxAiderUKZw6dQoACnxaipS92zI9c9sWZ8pnmHHOkSP9zE2bwlRQOsiRb3LUBXMYPtXU2NUQkHzJke6XnPUfRrZvjDlxUEDa2Hrclhg3bpzwfsWKFaIwAFi7di3eeOONPIOOcpQjR5Cj3svltddeE97fv38fV65cEYXDxv6WuTjPHZfnBbG2j2xOnTcnDpyoLbJUkR4AAoA2LQIwuG9zAIBOJx4NZmIuGhWibz7Cpu1PO9Asf927dxcea7plyxZheXJyMrZs2YIxY8bkexK4evUqbty4gVdeeUVYZinDE4dOl/e2Pf0jBJF7WaEpho/BRD6/auYnNDRUeP/jjz8iODgYmzdvxr59+3DixAlcvXoV8fHxyM7ORlxcHD7//HPR+tZ48OAB5syZg1q1auHQoUPSYJOsaTytWceSfaxVq5bwq3JoaChu3rwphB08eBAPHz7E2LFjDdb4z7x581CxYkUg9+Qybdo0VKtWDbNmzUJaWpo0ulkcVXYsERISIrzXn0zlYkleWcven2Hv7eenMMqKsV/r9Hbu3Cm8r1GjhiisIIXRllnathRWPsOMc47c6Wdp2jhKQelgjL3yzVRdMEfNmjWFX9lv3Lhh9AvKjRs3hPfSWz0Ko/6by1Ta2HrclujUqZPwePJt27YJv/YDwL///osbN26YnArAkL3KkS3krve28PPzEz1KXX87lSFb+lvm4jx3XJ4XxB59ZEs5S1tkqSI/AAQAr7/aDkEta/B8QGZwddVg+54LuHbj6eguM87NzQ29evUCANy8eRPnzp0DAGzYsAFVqlRB27Zt8eKLL6JSpUpA7n3vjx8/BgDs2rULTZo0MXqvp1zu3bsnvE9MTBSFSWk0GtF9tMYaoPzExsYK7wcNGoThw4ejf//+6Nq1K1q0aIHAwEB4e3vb3JnPysrC+vXr8eKLL6Jq1ao4ffo0tm3bhrffflsatdDYso/6DgcR4ffffxeWr1q1Cv369ct30KNSpUo4c+YMRowYISx79OgRPv/8czRv3ly4asYSjio7lrh165bwPifH9lt6bckrc9n7M+y9fXM4W1kxvCze8Jc1cziqLbOUM+SzOZw1/QpLUcg3Dw8PDBs2DMitj8bml/jzzz+B3HON9EcrZ6v/5rL1uC31+uuvA7m3HRme31esWIG+ffuaHDxz9nLkbPXe8HYZw8EgQ9b2tyzBee64PDfFHn1kOTm6LbJEsRgAAoCJb3ZBzRo+SM/IFiaLZnm5aFSIT0jD6g1PJylm+dPf5wuDq4BWrlwpnFzUarVwv3FWVpYwMfSWLVuECm8vhpNXGrtMXUqj0Qjv9aPl5tDfXws73pu6fft2VK9eHcOGDUNGRgYuXryItWvXolGjRtKohcbWfRw0aBA8PT0Bg8uSk5KSsHnz5gJ/KapYsSJWr16N0NBQNGvWTFgeGRmJ3r17IykpSRS/II4qO5YwHPSxtZzZmlfmsPdn2Hv75nK2spKdnS28t/QKA0e0ZZZylnw2hzOmX2EpSvn2/fffC7dvffrpp6Jf9zds2IB169bBxcUFmzZtQrly5QzWdL76bwlbjttSo0ePFo592bJlAIC0tDSsW7fO5Jf6olCOnK3eP3nyRHif35wqtvS3zMV57jzk7iPLzZFtkSWKzQBQ+XIl8ebI9vDydEEWzwdkkrubBv8cj0bov3nv0Wb/6dWrl3A5+NatW3Ht2jX8+++/opHmsWPHCqPgK1asECaNHjJkiBDHHgyfbmN4+WB+9L/eqdVqiybeNJxnY8eOHaIwOZw5cwb9+/dHbGwshg4div379wsT4TkLOfbR09MT/fv3BwBERUXh5MmT+OOPP+Dn5yfcw1yQoKAgnDx5EkuWLBHK5c2bN0W/PpnDUWXHEvor6QDY9IuNHHlVEHt/hr23bwlnKyv169cX3lvaHtm7LbOUM+WzOZwt/QpLUcs3X19fhIaGonfv3khMTET79u3RsGFDNGzYEC+//DK6d++Of//9F23btpWu6nT13xK2HLelypcvj5deegkAcO7cOZw8eRIbNmxAhQoV8Pzzz0ujA4VQjiy9YlLPmeq9VqsVBiKbNWuW7xOi5OhvFYTzXD7W7qeUXH1kuTmyLbJEsRkAAoB2rWpiUO9myMzM4fmATFAqFcjMzMGKdceQk8ODZfnx8vJC9+7dgdwGfsqUKejVq5fo8tGAgAB06tQJyG3cp02bhubNmxc4YaKt9Cce5H5hNjVKHxcXJzwisX379ihdurQ0Sr4Mv3AtXLjQrE6gJYKDg4V5FgYOHOgUl5RKybWPhgOHwcHBWLJkiclfo6ZNm4apU6eKlikUCrz++utYsGCBsOz8+fOiOAVxVNmxhOHT8iIiIvJMqm4uufIKQL4TCcr5GcbIuf38jsFczlZWDJ8O99tvv+Hs2bOicFPs3ZZZypny2RzOln7GOCId5Mw3R1Gr1bhz5w7Gjx+PHTt24KOPPsLcuXNx+/Zt4ZZ1Y5yt/lvK2uO2huGckEuWLMHSpUvxxhtv5Fs+HFWO9Fdx3b17N8/Tas3hTPX+/PnzwtXC0seoS1na37IG57ltbN1Pe/WR7cGRbZG5itUAEACMG9Ee/Xo0RHZ2Tp5HBLL/uLiocSX6AXbsfTq3DTPO8Glg69atw6hRo0ThkJwEfvrpJ5NX/xhOKmlqgknDxtBYvBYtWohuM1uyZIko3JDhU8wMH6MJybaNNcC9evUSBrMyMjLwxhtvICXF+FPkDh06hLCwMOlikwwnaSvosZf5fa7hfhs7BmMsWUeOfQSALl26CFe6LFu2DBcvXjRanvQ0Gg2WLVtm9NeRwYMHC+8t7WjLVXb0DNPP2vl7unfvLprUd+LEiSbTUi8zM1P0vxx5pX88aGxsrNHjkeMzTJFj+wUdg7nkLCsFtWl6+tu8jMXp2rWrMLdadnY2Ro4cKZqA01BsbCzeeecdYTv2bsv0zG1bHJXPcp1z5Eg/c9PGUo5MBznyraDP0DNVF8yRlZWF+fPno379+rh9+zZ+/vln9O7dG6NHj0b37t3zvYVGT876DzPzX460sfW4rdG9e3dUrVoVyH1S7MmTJ4UpAoyxtRwV1HfT08+Zk5OTg7///lsaDEhupzW8zRYy1XtL6J8+Zcy8efMAAHXq1BE97csYS/tb1uA8ty3Pbd1PW/rIxbktMlexGwACgAmvP49mjaogPUNcWNh/lEoFCIT1W0/hwcPCvT/Smb300kvC4yLLli2LF198URoFAwYMQJkyZYDc0WfDhkfK8DGA+l/LjDGMl9/9q3PnzkXJkiUBAIsXL8bx48elUaDT6fDzzz8Dub+I6K9o0jP88mTsEYWurq6YPXu28P/+/fvRtGlT7NixA/Hx8cjMzMTx48fx7rvvonfv3hZP/Gh4v65+NFzv0KFDognTdu3aBSISPSoTZqaVlCXryLGPyH1SgH6Ct9TUVAwbNgze3t7SaILy5csjJiYGn332mTRIuA9eoVCIBinNJUfZ0TOcHDS/L+MFcXNzw4oVK4RfxCIjI9G8eXPRfmVkZGD58uVYuHChsMzwXmrIlFdVqlQBck/++nm9YPBYVjk+wxQ5tl/QMVhCrrJiWM9MtX36sm3sag6NRoOffvpJ+P/ChQuoU6cOli9fjvv370Or1SIiIgI//fQTmjRpAi8vL+EJHPZuy/TMbVsclc9ynXPkSL+CPsNajkwHOfJNjrpgjujoaHzwwQd4/PgxEhMTsXr1aiQlJYGIkJOTg8zMTKP5ZEiu+g/J/C3G+huQKW3kOG5LKZVK4aqUjIwM9OnTx+R8HraWo4L6bnoNGjQQ3k+YMEH0hfr27dt4+eWX8eOPPwrLLly4ILyHTPXeEoYDiYYOHjyI9evXo3Tp0ti6datoviljLO1vWYPz3LY8t3U/bekjF+e2yGxkJx37zaWew36mE2dvSoMc4k7MY+o/+lfq0GcOdRn4P37l82rV4ztatOpvafKZdCkyllp0m0kj310hDSqWunXrRgBowoQJ0iDB+++/TwAoKChIGiRIT0+nL7/8kgAQANJoNHTo0CHSarWieHFxcdSlSxchXv369enmTeP1KDw8nKpXr04AqEyZMnTs2DEhLDU1lQYMGEAAaODAgZSZmSlaNykpiT7++GPhc5RKJW3ZsoWysrJE8YiIJk2aJMQzfKnVagJAXl5etHfvXulqBUpLS6OAgABhe56entSjRw+qUaMGVa1alSZPniz6PG9vb2rZsqWw/qVLl6hGjRpCeNeuXSk6Opp0Op3ocwxZuo6t+2jo7NmzQryTJ09Kg0XCwsKEuJMmTRLyJS0tjQYOHEgAaM6cOdLVzGZL2SEi0ul0dO7cOfL39xf2s1OnTnTt2jVpVLN9++23pFAoROnp4+ND9erVI5VKRe3ataNhw4aJwitWrEi9e/cmkimvZs+eLYS7uLjQiBEjaPDgwVShQgW6cuWKLJ9hihzbL+gYLGVLWdGXE8Nj6tevH8XHx4viZWVl0bJly0THtnr1asrJyRHFIyL6/vvvhbbH8KXRaAgAKRQKmjx5stE6ba+2jCxsWxyRz/Y451ibfpakjaUcmQ625Js96kJBunbtKtqOsZe7uzs1b96cfvzxR8rOzpZuwqb6r3fx4kVhGwCoe/fuFBMTI4TLnTZyHLel7ty5QyqVigDQrl27pMEitpQjS/pusbGx5OXlJcTVaDTUoEED8vX1JaVSSZMnT6aFCxeKPqtBgwY0dOhQ0XasrffmmD59umib48ePF8rGjRs3aN68eaTRaCgwMJAuXLggXT1flvS3rMV5bl2ekwz7aW0f+Vloi8xRbAeAiIg2/3WKWr4wK8+gB7/+e3XsO5f6jVpIDx4lSZMvX8/aANCvv/5KAOjUqVPSIMGFCxcIAP3444/SICIiWrt2LSmVyjyVHgCVLVtWiCc9ARi+9F9ypRITE2nUqFHCl5/69etTq1atyM3NjapXr07Lli2TrkI//PBDnu3rXyqVyujJcsuWLVS+fHlRXIVCQX369KFbt25Jo5stIiKCGjVqJPr8t956i5KSkignJ4c6d+5MyD05TJo0iZKTk4mIqH79+nn2Xf9ydXWlBw8eSD/KqnXIhn00ply5ctSqVSvp4jxycnJo4sSJ5OnpScjtLLRt25Z8fHwoMDCQVq9eLV3FYtaUHb3SpUvnSUP9y8vLiy5fvixdxSwHDhygatWqibZXv359WrduHZFBZzEgIIDefvttCg4OpsjISGF9W/MqJSWFOnbsKPr8fv36iTqetn5GQWzdvjnHYClry4qrq6toPwxfs2bNIsrtCBob0EHuF/rHjx9LN0v//PMPBQYG5onfpEkT2r17tzS6iD3aMmvaFnvmsz3POZamnzVpYwlHp4O1+WavumBKQkIC9e3bN8+28nsNGTIkzxcYsqH+E5Hoi5T0NWjQICI7pI1cx22pF198kXx9fc3aljXlyJq+219//UUVKlQQxW3cuDEdPnyYiIiWLl1KAKh06dI0YMAAmj17Nh05ckS6GYvrvblu3rxJX3zxhehLOXL7PACoUqVKNGPGDEpJSZGuWiBz+1u24Dy3ni37aU0f+VlqiwqiIDtNlNOp/zx4uLvg28kvoUXjp/dIOlpWVg4+/noTTp+/Azc305cLPquIgPSMLIwZ1gavD28vDTbqclQcRk1YiXq1K2HVz/nf71pcPHnyBLt37xYuJ83Phg0b0KVLF5QtW1Ya5BAJCQkICwtDXFwcXFxcUK9ePTRt2lTWiea0Wi2OHTuGGzduQKVSoX379sLl97bIzs7G6dOnceXKFQQFBYnmg9FqtQgJCUGNGjVETydwNDn2MT09Hd7e3liyZIlokkJTMjIyEBUVhcuXL0OpVKJWrVpo1KgRVCqVNKrVHFF2LEFEiIyMxKlTp+Dv748OHToI+3Lp0iW4uroK948bY2te6XQ6hIaG4vr162jdurUw74whWz+jILZu35xjsIazlZXTp08jKioK2dnZaNiwIZo2bSqNYpS92jJLOWs+F8RZ0k/P0elga745kk6nw+DBgxESEoLRo0ejfv36cHV1RUpKCmJiYrB//36cOXNGiL9//3506dJFtA09Z6v/psh53OaKiIjAw4cPRQ82MMVR5SgpKQn//vsv7t69i9q1a6NNmzZCnkVHR+PevXto3bp1gf0Ke9f7yMhI3LhxAzExMShZsiQCAwOtLl/W9LeswXluG1v30xF9ZFsVRltUkGI9AAQAN249wPtfbsTjJ2lw50Ego7KztShZwhXzvhmMmgH/PeEqP8/aABBjclmxYgUmTZqEu3fvCo+pZIwxxuwhOTkZQ4YMwaVLl3D06FFh0lpDRISvv/4a3377LQDgm2++wZQpU6TRipRn9bjZf7i/xZyBs7ZFxXISaEPVq5bH++Oeh4ebBlp+NLxRLi5qPIpPw49LDiEry/gTNBhjttFqtfjuu+8wevRo7owwxhizK/1VCSEhIdi6davRLx7InSh1ypQpwtNyDCdILYqe1eNm/+H+FnMGztwWFfsBIADo0qEuRgxpibS0LOh4ECgPIoKHuwtOX7iNFev+kQYzxmTw888/48qVKxg3bpw0iDHGGJPV22+/jbNnz6JWrVqiJxAZo1KpEBAQAOQ+/r0oe1aPm/2H+1vMGThzW/RMDAABwKsDW6N/r8ZIz+BBIGMUCsDVRY2Vf/yLbSFnpcGMMRtcv34dX375JTp27IjatWtLgxljjDFZ7du3D8jncfZSGRkZuHjxInx9fTFw4EBpcJHyrB43e4r7W8xZOHNb9MwMAKlUSkx6pzu6dayH9IxsHgQyQq1WQqNWYvnaY7h6/b40mDFmhYsXL6JDhw5ITU3FqFGjpMGMMcaY7OrVqwcAuHfvHhYsWCANFnn//feRk5ODFStWFPlbZp7V42bc32LOxZnbomdmAAi5g0BTP34Ro15uBZ1Oh/SMbGmUZxpR7nxAj1Mw99d9SEhKk0ZhjFng1KlTCAoKQkxMDFxdXR0yqs8YY4x9+umnUCqfdvPfe+89vPHGG7h8+TJ0Oh0AIC0tDf/88w969OiBNWvWYP369ejevbtkK0XPs3rczzrubzFn48xt0TM1AET0dBBo/KiOmDqpNyqWL4nUtCzY5zloRZe7uwvOXozBrB9D+Eopxmzw77//Cpd+durUCSVLlpRGYYwxxmTXp08f/PbbbyhVqhSICEuWLEH9+vXh7u6OChUqwNPTEx06dICvry+uXr2KQYMGSTdRJD2rx/2s4/4WczbO3Bapvv7666+lC+Ww8o8waDQqdG5XG74Vn85qXdgUiv/eV69SDp3a1kJGZjYuRsZCRwS16pkaDzNJo1Hh1p14EBGaNaoiCnv4OAVbd5+FT7kS6N+riSiMMfafxo0bIyEhARkZGZg+fTqqV68ujcIYY4zZRbNmzfDmm2+iVKlS8PHxgYuLC0qVKoXAwEAMHz4cP//8M8aNG4cSJUpIVy3SntXjfpZxf4s5I2dtixRE9rn+pVP/efBwd8G3k19Ci8bGH3vmLHbtv4BVf4Tj5p14lPBylQY/s3K0OigAfPVhTzzfvq6w/HJUHEZNWIl6tSth1c+jReswxhhjjDHGGGPM+fAlLwB6dW2IX2YPQ/dOdaDT6cy6JUyr1YlujyIiZGRmIyMzBxmZOcjMfWVkZiMzM6dI3kqlVimRnaPDz8sO43JUnDSYMcYYY4wxxhhjRQQPAOUqV8YLn7/fE/6+ZZCekSUNFlEoFHB3U4NIh6TkdDxJTENWlhaB1cojsLoPXuxaFy2bVUXXDrUxtG8T1KlZAQoFkJPz9IqaosTdTYN7D5Lx89KDPCk0Y4wxxhhjjDFWRPEtYBL/W7wfm7afhru7izQIAKDTEdzc1Bj3aiuoVGpcv/0EmZk58K1YGiMGt5JGF2zYdhILV/wNhRJQ5c4IXpSkpGbipe4N8cUHvRB59R5GvLOCbwFjjDHGGGOMMcaKiKI3EmFnHdvUhLu7C3T5jIsRnl7J41+5Avr0aIaJb3TB5AkvmBz8AYAhfVtgwIuNkZP99NFvRY27mwb7/45EyMGLcHfTQKksatcyMcYYY4wxxhhjzy4eAJKoU7MSKlUoBZ3W+ACQIne+n5S0TGlQgV7s1jDfgSVnp1YrodUSVm8Ix/EzN6BWq6RRGGOMMcYYY4wx5qR4AEjCw90Fz7erhcysHGkQkPso+awsLe4/TJIGFci7tCeqVymD7BytNMiop5/1dCLprGwtMjKzodUWzhVERICLiwr3HiRj6e/HoFTwFUCMMcYYY4wxxlhRwQNARjSu7wel8umgh5RCoYBWR9iw7RSu33okDTbJu5QHalYvj6ws8waAcrQ6VPb1RrOGfqgTWB7V/MtCpVIiIzNbGtVhlEoFsrO1MJI0jDHGGGOMMcYYc1I8AGTE9VuP4KJR5874I0ZEqOjjhfgnKTgafkUabJJCocBzTasBILMeC5+UnIEXuzbAnG8G4etJL+F/0wZh+md9ULdmRaSmZSGjkB4v/3T+H+KrgBhjjDHGGGOMsSKCB4AkMrNysHP/BWh1BKVSiaxsrWiQJUerg4uLBmsWjkG/nk1F65qjZ5cG6BxUGwmJ6dIgkawsLZo28EPbFtXgotHAt2Jp+JQtidbNa2D+9CH46K0uqFm9HLJztPnermZPKqUSSckZiIlLkAaxYiozMxMHDhzAqlWrpEGsiNNqtQgPD8fvv/8uDWKMMcYYY4wVEzwAJBH/JBX3H6ZArVIiMzMbNWv4wM1VjYzMbGRna5GenoXqVcqhciVvlCrpLl29QAqFApPe7Y4Xu9WDTqczeptZZlYOvEu7463RHVGjWgVpMDw9XDHopeaYP/1lTBjbCdX9yyItPQtZDhwIUqtVuPcwCdtCzkiDWDFy5coVvPfeewgKCoK3tze6du2KNWvWSKOxIujy5cuYOHEiOnXqhDJlyqBNmzZYuXKlNBpjjDHGGGOsmFAQGRuCsF2n/vPg4e6Cbye/hBaNq0qDndaOPefxv8UHoNPpoFQqMfPzvijh5YoZ80OQmZkDhVKBF7s2wGvD2kpXtUh6eiYmfP4HIq7eh7ubBgQgO1uLzMxsuLioMf3TPujYtpZ0NaOeJKThYGgUtuw6g7uxT6BSq+CIm7O0OoJKCcz+qj+aN64mDWYSZ8+exZ49e6SLRTw8PFC5cmX4+voiICAAPj4+0igOde3aNaxevRqbNm1CREQEAKBr167Yt2+fNOoz5fjx49i2bRuuX7+OpKQkVK5cGVWrVkXnzp3RqlUrqFTO/5S8ixcvYtWqVdiyZQuio6MBzlvGGGOMMcaKNR4AkvhwykYcO3EdKqUCLZtVw/+mDQEA3Il5Ai9PV3iX9pCuYjGip0/4+nbuTvy19wJKeLlBqQDKlvFCkwZ+CGoZgPata0pXK9CThGS898VG3LgdDzdXtTRYdgoFkJqWhXq1KuF/0wajhJebNAozcPz4cSxduhSHDh3CtWvXhOUKhQKtW7dG5cqVERMTg8jISDx58gRqtRqDBw/GBx98gOeee060LUe7efMmqlevDjzjgwRpaWkYNWoUNm3aJA0S9OzZE7t27ZIudloRERGoV68e8IznLWOMMcYYY8Ud3wJm4Pqth7gb+wQajQpqtQovdW8ohPlX9pZl8AcGj3d/9DgZavXTW818K5XGjzMG49P3elg1+AMA3qVLYGDvZgCR0VvL5EYEuLu54FJUHFasOyYNZhItW7bEb7/9hoiICFSt+t+g6FdffYVjx45h48aNOHbsGO7fv4///e9/8PT0xLp169CyZUsEBweLtuVofn5+0kXPpE8++UQY/PHw8MBLL72EMWPGoEePHggICAAANGrUSLKWc6tRo4Z0EWOMMcYYY6wY4gEgA/+evoFbd+OhUipRuVJptGpuvy9G9x8l41F8KlQqJYgIAdXKoYJPKWk0i/Xp0Rg9u9RDpoMeFa9QABqNCrv2X8DFyBhpMDNCrVYjKChI+L9u3bqicI1Gg4kTJ2L9+vXCsnHjxiEsLEwUTy7Xrl3DgAEDpItF1Gr7X1Hm7E6cOIGFCxcCAAICAhAVFYXt27dj2bJl2L17N65du4Zz585h9OjR0lWdmqurq3QRY4wxxhhjrBjiAaBcmZnZCA2/BhcXNdIzstC/VxN4etjvi5E2RwutVgfkTqhcr1YlaRSLEQClQoGRL7dBubKeDpsU2lWjQlJKJlZvCJcGsXyUKFFCeK/RaERhej169MCwYcOA3Cdwffrpp9IoNouOjkbnzp2F+X1Y/rZv3w79HbOzZ882elVUo0aNUKdOHelixhhjjDHGGCt0PACUK/rmQ1yMigMRUKWyN9q3DpRGkVX0rUe4HRMPF40KSpUCVf3KSKNYTD/xs79vGfTt0QTZOVpJDPsgAO7uLgg7eQObdz59KpgD7kAr0vIb9JHq3Lmz8D40NBSpqamicFv1798fd+/elS5mRugnSgaAVq1aicIYY4wxxhhjzNnxAFCu/X9HICdHB51Oh0b1/VCxvO23Y5mi0xGyc3QAFFBAgap+ZaVRbDK0X3MEVi/vsKuAFLnHtGHbKdx/mOSQp5A9Cxo0aCC81+l0iI2NFYXb6smTJ9JFLB8JCQkAAKVSicqVK0uDGWOMMcYYY8yp8VPAAFyKvIvPZmxDfEI63N3UmPP1ADSuX0UaTVZ/bD2O/y0+BDdXDfx9S+GX2a+gZAl3aTSbhP57FV//8Be0WoJK5ZixvpTUTAzp2xwfju8qDSqyoqOjERISAo1Gg/bt2+eZs8caEyZMwIIFCwAAmzZtwsCBA6VRAADnzp1DkyZNhP9v3bpl8hHjvr6+UCieDr89evQImZmZ0ijC7WfJyclo0aIF7t27h4CAABw5ckSI4+LikucR9PrtGj4pKiMjAyEhIYiKioKvry+ee+45i26BSkpKwpkzZ3D69Omnc2EFBKBLly7w8vKSRjUqLS0N27Ztw3PPPYfAwKdX7SUnJ2PPnj2Ijo5GnTp10L59e5QpY90VduHh4dBqn15J99FHH+Hff/+FSqUSpZWh5557Di4uLtLFgidPnmDnzp2IiIhAeno6/P390b17d9SvX18aNV+XL19GVFQUHjx4gAcPHiAxMREeHh7w9vZGvXr10Lp1a5QqZdkAtrG8NcXWfNOzdjtPnjzB5s2bcfz4cSxevFhYfurUKezfvx/u7u5o3rw52rZtKxwbY4wxxhhjzzoeAAIw68fd2LLrHFxd1GhUrzJ+njUUSqX9vjTodIRv5+7E/r+fzrvSqW0tfD2pN9Tq/L/YW+vzGVtw+NhVeLjn/6VUTlqtDm6uasz8oj+aNvSXBhcphw8fxsyZM0VfiJVKJd544w388ssvUCqtH1QzdwBo586d6N27NwDA3d0diYmJaNiwIaKioqRRUalSJURHR8Pd/elA4pgxYxAcHIycnP+uAnN3d8f333+PGTNm4N69ewZri9WvXx8XL14ULZMOEqxZswYffvghHj58KMRRKpX48MMPMXPmTJO3uT1+/BifffYZVq5ciYoVK+K5557DrVu3cOrUKbi7u2P69On44IMPjH55v3r1Kv766y8cPXoU+/btQ0pKCg4fPowOHTpg0aJFmDJlCh49eiTE9/HxwerVq9GjRw/Rdszh7e0tXPljjrt37+Z7ddCGDRswbtw4JCUlSYMwYsQILFy4MN+Bj7CwMPz00084ePAgHjx4IA0WOXLkCDp06CBdbJI0b/NjS74ZsmY7T548wezZs/H333/j5MmTyM7ORp06dRAREYHo6Gh8+OGH2L59u+hzWrZsiT/++APVqlUTLWeMMcYYY+xZZP032GLiwaMknDh7C54eLsjRajHopaZ2HfwBAB3pkJ2dDQUU0GkJFXxK2GXwBwAG9m4GN1cNdDq7jPPloVIpkZCUgRXri+5j4e/du4eBAweiW7duGDFiBBITExEeHo5GjRpBp9Nh0aJFmD17tnQ1u9izZ4/wvkePHtBoNIiMjMTx48dFV+gMGTIEsbGxwuAPACxfvhx37txBpUpPJxgfP348Hj16hKFDh2L9+vU4fPiwsI0qVarg8OHDwuvPP/8UtiOVmZmJt99+G5MmTUKXLl0wZcoUDBo0CCqVCjqdDnPmzBEGt4y5cOECmjRpgqVLl2LWrFm4ffs2/vzzT5w8eRK7du2CTqfDRx99hOeffx7379+Xro7jx49j4cKF2LJlC1JSUgAAMTExeOGFFzB37lwMGjQIY8eORc2aNQEADx8+xODBg41uy1E++OADvPzyy8LgT8mSJVGlyn9XGQYHB6N58+a4deuWwVr/OXjwINavXy8a/PH29kbNmjXRuHFjBAQEwM3NDUqlEk2bNhWtKxdb803P2u1otVqkp6fjwYMHyM5++pTDjIwMfPHFF2jSpAkeP36MUaNGoWHDhsLA0fHjx9GsWTOcPHlS2A5jjDHGGGPPqmd+AOjq9Qe4/zAZOVodAquXR/06xn+9l1NaWhauXn8AtVqJrBwtqlUpJ40im+aNq6JzUC2kpWc5bF4eN1c1LkbEYO/hS9Igp3ft2jU0a9YMmzdvxvvvv48RI0agZMmSaNWqFXbv3i08Mvu3336Triq7M2fOYNGiRUDubVs//PCDEPbcc8/hu+++E/5PT08X3huqWLEilEol6tWrhwULFsDDwwPlypVDx44d0bFjR+F4PDw8hGUdO3ZE7dq1pZsSHD16FGlpabh+/TrWrVuHb775Bhs3bsSBAweE29NmzJiBtLQ06aqIjY1Fjx49cPfuXbz//vv46KOPROE9e/bE2rVrgdwrsN544w1ROAC8+uqriIqKQrdu3YRl48ePR9++fXH16lX8+uuvWLp0KS5cuIB+/foBAFJSUjBv3jyDrZjn3r17yMjIQEZGhvB5KpVKWCZ9Gbv658CBA5g/fz4AoHz58jhw4ACePHmCW7duISYmRrjC68qVK/j4448la+f1888/Iy4uDvHx8bhy5QrOnj2La9euITk5GRcvXhQ9YU4ucuQbbNxOuXLl8OOPP+L48eNQq9VA7i2R9+7dQ3R0NEJDQ7Fy5UqcP38ee/fuRfny5YHcK4feeust4QlujDHGGGOMPaue+QGgDdtOA7kT7D7frhbKl5P/y5OUjghPEjNAALw8XFCqhJs0iqyGD/p/e/cdHVW5tg382tPTIIUQAoEAIXSRpoKEEkAREakC4eAnoMeF+gpYADknchRBQeEc/HiP3/HlBRUUsICggIj0IsUgQiIllEAghZaeqXv2/v6YwsxOCCSZhDhev7Wysud5ntlT9sBac+d+7vsBNGoYAqutdrqCqdUq2GwSPv/mCAqLyg9M1FVbt25FTk4O4NxC5alx48bubUSZmZnl1tfxlZSUFIwbN86d6fDRRx8hLi7Oa8348eMREeEoHr5t27ZytyqlpKQgKysLb775ZoW1gyojISEBn376qVe2EQD07dsXTz31FODc4lNea/kZM2YgOzsbWq22zJd/l5EjR6Jnz56As/X6119/rVwClUqFHj16uG9//vnneOmll7y2DOn1eq9MrWPHHB3qKkOv17t/XO+fIAhe454/SpIk4dVXXwWcgaM9e/agf//+7u2DjRs3xsaNGzFgwADAuR1w3759XudQ6tmzJxo1aqQchkaj8Ul9qvL46rr54jzh4eEICwsDALRp0wbLly93B3tcBg4ciM2bN7s/DykpKWXOQ0RERET0Z/OnDgClnrqC9AtXAVlGeGgQEhPuvnhtdVy+chOyLEMUJTSMrIemTapWoPZutYhtiN494mGppY5gAKDXa3Au4zp+2OFdR6aue/bZZ/H6669j1qxZaN++vXLaHYSRJAmZmZnK6SpJTk7Gyy+/jAULFmD27NkYPHgwHnzwQaSnpyMuLg7btm3DhAkTlHeDwWDAxIkTAee2rPK+4K5ZswZNmzbF6NGjlVNVZjDcPmDZu3dv9/GFCxe85jIzM7FmzRrAWZslJibGa96TZ/Bt9uzZXnMugYGB7uPbFT1u3bq1uwD0uXPnlNM1bseOHThx4gQAYOzYseUWyFapVJgzZ4779ocffug1f6/56rr56jxwFim/k+7du2PcuHHu2wcOHPCaJyIiIiL6s/lTB4A2bUtFYZEJgkrAA11i0bypb1ux3875Szchio5sHJUg1HjNITgLTYcE62G3S8qpGqNWq7B5eyryC0qVU3VWQEAAPvjgA6/tVS42mw1ZWVnu21ar1Wu+qgYOHAhJkrBy5Ur85z//wYkTJzB27FisWLECqampXludlDy3yKxatcprTpIkrF27FlOmTHFvmalpnlugrly54jW3YcMG9zacOxXl9XzN58+fLzd4c6dCwy5RUVFABdvkapJnNs+wYcO85jz16dPHHai6UwZQbfPVdfPVeVCJaz906FD38e+///G2pBIRERER+dKfNgB0+lwu9h06B51OA7tdQp8ejoKxtSG/oBSSJEMU7WgSXR+xMTUfeOraqRmaNAqDXaq9AJBWq8bFzJvY8gfLAlK6du0aFi1ahNatW2PXrl3K6Wrr168f/v3vf+PkyZPIz89HVlYW1qxZg0mTJpXZZqXUunVrd9bN/v37cfHiRffczp07cf36dTz77LMe96hZntlBkuKzdvLkSfdxRdkfULSzRznZRJXhq61vVXH58mX3cWxsxd0QW7RoATg/b74KLvqCr66br85TGa1bt3Yfl5b+cQLRREREREQ14Q8RADp74RpSfruEzCs3lVNVtvGH48gvNEEAEBMdhvZtGiuX1JgTp7JhtdkhyzK02trJzBAEAaOHdoHVWjt1gODMbpIh4IcdabiZ7+jW9EdhtVqxdu1aDBkyBLGxsfj111+xceNGvPjii8ql95wrwCPLMr744gv3+GeffYbhw4e7M2DuNc+284WFhV5zSlqt1quuy73I3vEFV5cyAO56TbfToMGtYvCe97vXfHXdfHWeyvA8R+PGtfd/PBERERFRXVSnA0Cnz+XiuVdW4blXVuH1t9Zh6t+/wsy312HL9hO4kp2PqjZ1ST9/FXt+TodBr4HJbEO3+5vWSvFnF9nZkl2rVaNxVD3ldI3pcl9TREWGwObcflYbDHoNLly6ie17Tiun6qzvvvsOLVq0QFJSEsxmM9LS0rB69Wp06tRJubROGD16NIKCggCPbWBFRUVYv349XnjhBcXqe8czm0m5Paw8Wq3WfVxe0eM/gtDQUPdxdna215yS6z0RBOG2NY3uBV9dN1+dpzI863QlJCR4zRERERER/dnU2QDQtRvF+J+VexHVsB7GjeiOnt1bIq/AiP1HzuPdJT9iyszVeHfJFny39ThyrpbtflSRDT8cQ36hESqVAEEA4pp7d5CpSVey83AjrxhqtQo6nQYtYyOVS2pMk+gw9O/dFlarvcrBs6rQqFXYsiMVFqujo1VdduzYMYwYMQLZ2dkYN24ctm/fXqb7Vl0TFBSEESNGAADOnDmDlJQUfPnll4iJiUFiYqJy+T3juR0nIyPDa648riwRjUZTYVv6uiw+/tbW0vPnz3vNeRJF0b19r0WLFvd025qSr66br85TGa6tY2q12v1vhIiIiIjoz6rOBoB+PnIOI4d0xvzZw/DCxL54YVIfNIwIhlajhsGghdFoxaaf0rBg6Y94dc43mJ78FT5euReHj2agoNAI221anv+4Kw1bd56CwaCDTZQQHhqE9m2ilctqTFGxBSaTCJUgQHB2AKpNTw7qhOioerWaBaTWqJCdW4RfT/ima1ZNWrVqlbt2zahRo+662GxluYrhKo+r6umnn3Yfr1q1CsuWLatU9k9t1EdRFuQ9ffr2WWE5OTkoLi4GnJ3FPDNp/kgGDhzoPl6xYoXXnKe1a9e6r4HnfeoCX103X52nMr799lvAuU3yToWniYiIiIj8Xe1GHyqh10Ot8PADt/567miUJaOw2ITiEjNKjRbIsgxBEHDx8k38/MsFfLr2IGa8vQ5/eWE5Zr2zHvOX/IAvvvkZ3//4K9Z+ewhvffA9FizdBkmSoFYJsNsl9HygJTrUYv2fjMvXce1mEdRqAXqdBnHNK64L4mstmjXAI33bwVqLLeEFCJAkGfkFVavjUZuMRqP7+E5t3qtTp8Uz4FLV+iaeBgwYgOhoRyBz+fLlSEtLwzPPPKNcVoZerwec25NE8fafCc+Czsrizp7s9luBReW67t27IykpyX172bJlXvOeNmzY4D5+4403vOZcKnosTzabI/OsojU1pWvXru7Ax/79+/HVV18pl+Dq1auYO3cu4Lwes2bNUi6pUZ7vi+d76uKr6+ar89yt33//HRs2bECrVq3w3nvvKadRUFCABQsWYOnSpTCbzcppIiIiIiK/U2cDQJERIV7t0ZtEh+HNV4dg8Vsj8a93xuDD+WMx57XHMeyxTmjbKgrNm0agZWwkmkSHQqvV4NTZXOzafwZLl+/DvH/9hCX/swfb956GShCg0Ti2V+i0akiSjLMXrt42I8Zul2A0WWEyW5GVcxN7fj6D6zeK3POVzd0oLLLAZBYhCALUajUaNwpTLqlxTw3tijZxDWGpxSCQSiXAoL9V06Ou6tq1q/t48eLFXkGgXbt24bPPPnPf3rJlC2RZ9moNf7cuXbpU7nFVqdVqjB8/HnAGl5KSkhAWdufPVrNmzQDnF//Vq1e7x5VdqAoKbm2zdGVmlMdzXVHRrX8nLosXL0a9eo66Vx9//DGOHDmiXAJJkrB06VLAmdn06KOPKpcAivNX9Jzy8/OBWspyKs+iRYvc9WySkpKQnJyMI0eO4Ny5c1i1ahUeeughnD17FgAwbdo0tGzZUnGGmpWXl+c+9rx+nnx13Xx1HperV6/i6NGjymGcOXMGw4cPR7t27bBlyxaEh4crl2D06NGYPXs2pk6dipdfflk5TURERETkdwTZF/tPytFvxD8RGKDD3FlD0f3+itsfV1dmVh5u3CxGfqEJoiji9NlcFBRZUFBYit/SrkCtvn2cS5YdgaDwsEB07dQUKpXaEdVxZhzlXi3A+Ys3IckyjCYr8vKNCArU4fEBHTB9ygBoNZXp4iXj3SU/YNNPadBpNYgIC8SnSychJNiRhaFkNtuw++cz+P1MDiRJRs/uLZDwkG/a1X+75Rje/++fEBigrbFtTi6iaEd4WDC++GgyAgLqdhDIZDLhvvvuc9drCQoKQu/evZGeng673Y5x48Zh4cKF7vVhYWGIj4/H4cOHPc5SPkmSkJubi/Xr12Pq1KnurV+NGjXC0qVL0bt3b0RGRlZ5W+Dx48fRuXNnAEBKSgq6deumXFLG+++/78440el0GDt2LMxmM/bu3Yt9+/YhPj4eZrMZ8+fPx7x58wBncd5t27ahT58+Xs81NzcXEyZMwI4dOwAAHTp0wObNm8u0Pz98+DCSkpKQkZGB8PBwbNq0CT179gScGVhPP/001q9fj1GjRmH16tXQ6XRe95dlGampqRg5cqT7Og0fPhwrVqzwCnrZbDasWrXK3SUNAFauXInx48dXqcbO4MGDsXXrVmg0GndW0d368ssv8dxzz1WYNTZ27FgsX77cXdDb0/z585GcnAxU4trejeLiYsydOxeLFi0CnFtS161bhyFDhngVYYYPrpuLL87TtGlTdyFpjUaDpKQkJCQkQK/X4+DBg/jyyy+RlJSExYsXexWf9hQcHOwOCnbs2BGpqanKJUREREREfqVOBoAuXr6BvQfP4cbNErSOi0THto3RtEkYcq4W4nJ2IVQqASaTFWczruFmXikuXc7DtRtFyL1eBJWgAgRAsksQVALUahUECFCrhTKBDrtdcv9YRcm5NUwFQXDEgDQqFdQaFVQqAaIo4YHOzfBY/444lnoZuw+cwaDEdnj1hdv/dVrJbLYhecFGHDqaAUEQ0Puhlpg7a5g7I8nFYhWxfc8pbNmRhuO/X4EkyRBFCTJkPJbYHjP/61GEBJf/peZuWawiZs1dh1+OXUJAQNkvWL5kt0sIMGjxwT9GoUPb2ttuV1WnT5/G2LFjceLECcCZXfP8889j4cKFCAwMxCOPPIJdu3ZBq9Vi+vTpmDNnDoKDg5WnKWPy5Mn45JNPlMNeEhMTsXPnTuXwXYuMjERcXBwOHTqknCpXaWkphgwZgj179rjHhg8fjnfeeQcdO3bEmjVrMGHChHK3T0VERODGjRuAc5uOZ2DM0xNPPIHvv//ea6yoqAhTp07F6tWrYbPZ0KFDBwQHB+P48eOIjo5GcnIyJk+e7HUfF4PBAIvFohwGALz33nt44403kJOTg2bNmpW7rU2n0yEnJ6fcrJCKVCcABADp6emYOHEiDh486DUeERGBd999F88//7zXuKeaCAAtWrQIM2bMUA4Dzs/84cOHyzxOda6bp+qexxUAcgWHXBlrQUFBGDp0KJ577jkMGDBAcS9vY8aMwddffw0AmDlz5m0/v0RERERE/qLOBYCWrdqLb7ccx9XrxRDtEiLCAlEvJACBAVqYzTYYzTYIcNTvKSoxQ5Jl6LUaqDUqaNUqWJ3FnxtEBEOWAVmSYLXZUFxqhUatdnf+strs0Os0CA4yQKtRITw0AKJdQn6hCXa7DEEA8guMsIl2GPRaGE1W/J8xPTDlmT4AgKycAvyw4wQGJbZH0yYNFK+ifAVFRrw25yucy7gJ0S5h1BNd8OqUWwVfS0ot2HfoLNZvPob089dgE+1Qq1SIa9EAo57oipISC7bvPYnIiBDMm102cFRZKb9dxBvzNkCSZahqOAuoxGhB4sPxeC95pHKqTrLZbPj111+Rnp6OXr16eW3Lsdvt2Lp1K1q2bIl27dp53e9eMplMCAsLw7Jly7yKQt+JJEnYv38/Lly4gB49eqBt27bKJTWmoKAABw8eRE5ODnQ6Hdq3b48uXbqUCdb6k4yMDJw6dQomkwkxMTHo1q0bNJXKJLz3fHXdqnoeVwCobdu22L9/Pw4ePAhRFDFo0KDbZvwo2Ww2bNiwAQEBARgyZMgdH5OIiIiI6I+uxgNA78x6Et3ud9QZuZOvv/sF7y75EeFhwejcMQbFpWakn78GWZIhSTIEleBVF8jRR0t2j5nMNkRGhGDy+IfRLj4aol2C3S5CtNlwLC0L6zb9BqPJCkmWEVovAC9M7IOWsZHQatWIjakPq9WOzKxCWG0SNGoB5y9ex6af0nDi5BXotGokv/o4BvT2/nJcUGhCaP27+8KRlZOPsc//Lwx6LSwWEX0fjse82cMginb8uPt3bNqWhrTT2ZBlGTqtxp15FBSoxftzRqJD2yawWm34eOU+9Oweh+6d7z6wdjtzFn6H7XtPI7AWsoDUKgHJrz2Ofg9XraUzVeyTTz7BjBkzcOXKFRgMBuU0kd/wDACdOnVKOU1EREREROWouQDQ8H8iKFCHhXNGoGPbJsrpMm7mFWPKjNUYlNgWo57ohrDQYFzOuomX//YVCotNUHvUGpEBqAUBQUE66LRqlBqtsFhFJPaKx5Rn+iA8LMTr3ABwLPUSZs79FqIowWwR8eSgjpg97XHlsjIkyY6cq4XQatVo2KC+cvquXMy8gbTT2Th0NAMHjpyHWq1yBHl0GsTGRMBqtSEj8wZsNgkGg3fdDZsoIbphCBa+OQyxTRveGrdZodVWP2hz5lwOXvvHOpQYrdBUUCupugQBMJlFtIuPwtJ3x5V5nVQ9drsd7du3x9ChQ931XIj8FQNARERERESVV2MBoL7DF0OrUWNA73g0axIG0dVlS3Bk7Xi2z9Jq1Th6/ApyrhVixOD7IDtze3KvFeObzcdvbU9y3VUGtFoVYmNCUT9Ej8ysQgDAsEEdodNpYbbY3AV2Hd22BPz8y0WcOJUDnU4Du11Cr+6x6Ng22r1lTBAEx1NSvB06rQYajSNgY7GKkCRHR6u72S2g0ahw4VIedu4/C7PFBpUgQKe7tdVDkmSYLTZABrQ6NdQqFWTFeyPaJXTu0BgJD7WE2eyoO+Iqam23O+qyCILgfr1eBKHM63G9h3B25hLtEn7YeRq514qh01ZvS9mdyDJgsdow678ewdBBjmLF5BtLlizBK6+8gtOnT6NNG2ZYkX9jAIiIiIiIqPJqLAD06JgPAQAmkw02UaowYCLLgE6nhlajgtHkCHLIMqBWCwgKvH2WiyhKkCQZGo0jIGI0WcvEO+Bxfr1OA1G0Q6VSQbRLsFjECp+XJ1kG9HoNDHoNSkotsNnsd6wZIcsytBo1DAZNuWtlABq1o8i0K5ijJECA1SY6W8crZ6tPEIAAg85RALsGM4BcLFYRMdGh+OfcpxAdVbWMKvJ24cIFdOrUCd27d8fu3buV00R+JyYmBllZWYiPj0d6erpymoiIiIiIylFjAaBtu096pJu4IheuY8/fACBAkiSv+j6uca90mDK3yxvzvq3VqPFzynn8tOc0VIIArVaFMU92Q6sWUbBYbeU8H8/nekuAQYesnHycOpuDtFPZyCswlgmYyPKtpBtXxpAsywgwlN9qXZJkqNUqjBnWDW3iohzZQIr3pexzU/5Gha+/7G3vMUEQoNGosH3PKew6kI6gQF25QTRfKiw24cWJfTEp6WHlFFVSWloaHnvsMWRlZWHFihWYNGmScgmR36lfvz6KiorQqFEj5OTkKKeJiIiIiKgcNRYAqkveXrQJ23afgiAIaN0yEoveHo3w0CDlsgpduHQDC5f+iF+OXUSAQYeAAO8aNlarCAhw1PHRaxBg0GJQYntERoRg7YYUFJeYoVarYLGKsFpFaDRqBBi0KCoxY9pf++Mvox70Ol9tu3j5Bqb9/SvkFxi9tqnVBEmSERKsx8aVLyqnqBKOHj2K/v37o6ioCHq9HteuXUO9evWUy4j8ysGDB/Hww7eCx7t370bfvn291hARERERUVk1v+fnHsu9VoiTZ3KgUgmwiXY0bxpe6eAPAKxYfQB7D57FA12ao018FCRJdmf6FBWbcX+HGLwwsQ8GD+iAv01/DJ//v8mY9vwAlBgtKCm1QBAcHb1iY8LxWP8O6NDGUX8o0KDDxq2/4XJWnvIha1Xzpg3wSL/2sIlSjWcAwdk9jarn8OHDKCoqAgD069ePwR/yaz/99BMSEhLQp08fr/HExER07doVs2bN8honIiIiIiJvfp8B9N2Px7H4o+1Qq1UoKbXgqSe7YsZLjyqXVai4xIw3F2xEXPMGmPJMP2Tl5GPy9FUwmW3Q69R4tF87vDipH0LrB3rdb8v2VMxfshV6nQZWm4gG4cH47/fGIKZxBMxmK95cuAmHUi5AtEvo93ArzP/bcKg8up3VtuzcAkyZsRoFhTWTBWS3S7A4s5/Gj+yOKc/wr/bVYbVa8dprr2Hv3r1YsmQJEhMTlUuI/EZmZiZSU1OVw26hoaHo1auXcpiIiIiIiJz8PgD0wb9/xNoNRxFWPxCFRSYMf7wz/j59sHJZha7fKMb+w+kYMaSru+7O0eMXkXoqB+3io/BQt5buta46QKfP5uL1t75BcanF0d1LljHntSFITGjjXnMu4zqmJ3+F4lIzJElGj27NMe2vAxDTOMy9prb97+f7sXz1zwgM0Pnk8QXBUazbZLYhJEiPLvfFYPST3fBglxbKpURERERERERUQ+5dukktKCwyISMzD+GhgY427CoVYmPClcvuKL+w1NmNzNkqHkC3+5tj4rieXsEfOAMeBYVGLF2+E/kFRqhUAkxmG8YO74bEBEd7bldgpVWLSCQmtIHRaIVWq8a+Q+cxc+56XMy86ZPgS1VMTOqJR/q0gdFogdVmh2iXvH7sdgl2u6z4fevYahNhtthgsYgwW0SUlFoQEmzA0Ec74e2ZT+D9f4xm8IeIiIiIiIiolvl1BlBxiRkz3l6PBzrH4ljqZQQFavD2zGEwGLwLON+J0WhBqcmCyIg711ix2yW89cH32L73DAIDdLDabHh8QAfMnva4cikAoLDYiHn/3IwDhzMQGKiD0WTFfW0b473kEQgPq3ytoupwZR1ZrTYs+mg7Dhw5D0mW3R3MBAB2SYIkOVrWe/UXkwG1WoWAAD06tW+MFs0awGq1o3PHJohpHM6W70RERERERET3kF8HgPIKjHj3X5sx7fkBiGpYD6LNjsBAvXLZXbubbVnfbzuBBf93Kwx6LUxmG3p0a44FySOg090+6FRYZMSsd77FyTM50Ok0KC4xY+pz/fCX0T2US2vVqfRc5BeUQqUWAAgQAFisVtisVkBw3HZ9eGRZhl6vR+u4RoiKvHOgjIiIiIiIiIhqj18HgOx2Cdt2paJLp+Zo1LB2MlBe/ttaHD2eCa1GjYjwIMybPQztW0crl5VxKOUCpr/5NUKC9DBbRbSJi8J/PhgPjUatXEpEREREREREVCl+XQNIrVahWUwkBKF2XuYX647g9zM5MOi1sFhFPNA59q6CPwBwX/smaBffCCVGK9QqFXKvFeFy9r1tDU9ERERERERE/qF2IiP3UKuWDdEgvGZr6RQWmTB7/gZ8/Nle954ovU6Dfr1aK5feVlCgHq+/OBANwoNQYrTAYhVxKv2qchkRERERERERUaX5fQBIr9NAra7Zl7l89QH8sCMNZosIADBbbIhtGo6Hulau21WHtk3wxtRBGPNkF8RE10NxcYlyCRERERERERFRpdVsZORPIK/AiONpV9CwQQgmjuuBgAAtoiKDMXvqIKhUlX97ez3YCjNfegR6vQaSfIeK00REREREREREd6HyEQryJssQ7XYkPNgKL07qh3dmDcWC5BFo17qxcuVdO5txE3kFZjSKClNOERERERERERFVGgNA1WS1WWHQqzBs8P0AgK6dYtGm1d0Vfr4ds8WG1i0j8WCXWOUUEREREREREVGlMQBUTaIooVunZohrHqmcqrIG4cH464QEBAXqlVNERERERERERJXGAFA13cwzomVsJIKDfBesiY6qj9imDZTDRERERERERERVwgBQNRUUmXE9z6QcJiIiIiIiIiKqMxgAqqaQYB3CQwOUw0REREREREREdYYgy7KsHCQiIiIiIiIiIv/BDCAiIiIiIiIiIj/HABARERERERERkZ9jAIiIiIiIiIiIyM8xAERERERERERE5OcYACIiIiIiIiIi8nMMABERERERERER+TkGgIiIiIiIiIiI/BwDQEREREREREREfo4BICIiIiIiIiIiP8cAEBERERERERGRn2MAiIiIiIiIiIjIzzEARERERERERETk5xgAIiIiIiIiIiLycwwAERERERERERH5OQaAiIiIiIiIiIj83P8HlTADX2EMaxEAAAAASUVORK5CYII=)"
      ],
      "metadata": {
        "id": "8x2OlbqWM4M8"
      }
    },
    {
      "cell_type": "markdown",
      "source": [
        "### Teruanry operator and the np.where function:\n",
        "Instead of using a ternary operator and a list comp to populate an array based on another one, which is going to happen in pure python and won't be so efficient with long array, it's way better to use the numpy where function"
      ],
      "metadata": {
        "id": "-qgPjKvZD3Km"
      }
    },
    {
      "cell_type": "code",
      "source": [
        "# ternary operator & listcomp\n",
        "import numpy as np\n",
        "xarr = np.array([1.1, 1.2, 1.3, 1.4, 1.5])\n",
        "yarr = np.array([2.1, 2.2, 2.3, 2.4, 2.5])\n",
        "cond = np.array([True, False, True, True, False])\n",
        "\n",
        "result = np.array([(x if c else y) for x, y, c in zip(xarr, yarr, cond)])\n",
        "result"
      ],
      "metadata": {
        "colab": {
          "base_uri": "https://localhost:8080/"
        },
        "id": "iFsddpSIMjfZ",
        "outputId": "692572c5-11b7-487a-d21a-bfc426bf7240"
      },
      "execution_count": null,
      "outputs": [
        {
          "output_type": "execute_result",
          "data": {
            "text/plain": [
              "array([1.1, 2.2, 1.3, 1.4, 2.5])"
            ]
          },
          "metadata": {},
          "execution_count": 81
        }
      ]
    },
    {
      "cell_type": "code",
      "source": [
        "# np.where version\n",
        "result = np.where(cond, xarr, yarr)\n",
        "# It's really simple; if condition is true, return the value in xarr,\n",
        "# else, return the value in yarr\n",
        "result"
      ],
      "metadata": {
        "colab": {
          "base_uri": "https://localhost:8080/"
        },
        "id": "-7iA50hMFxaD",
        "outputId": "0f9e24c9-dd16-4998-d85d-7a0ba517b514"
      },
      "execution_count": null,
      "outputs": [
        {
          "output_type": "execute_result",
          "data": {
            "text/plain": [
              "array([1.1, 2.2, 1.3, 1.4, 2.5])"
            ]
          },
          "metadata": {},
          "execution_count": 82
        }
      ]
    },
    {
      "cell_type": "markdown",
      "source": [
        "We can  use this function with scalars, 2D arrays, and many other use cases.\n",
        "<br>\n",
        "For example, say we want to set a lower bound for our data to 0. So we set any negative number to 0"
      ],
      "metadata": {
        "id": "mBGpC34bGFUj"
      }
    },
    {
      "cell_type": "code",
      "source": [
        "arr = np.array([-2, -1, 0, 1 , 2])\n",
        "# if arr value < 0, return 0. Else, return arr value.\n",
        "result = np.where(arr < 0, 0, arr)\n",
        "result"
      ],
      "metadata": {
        "colab": {
          "base_uri": "https://localhost:8080/"
        },
        "id": "S0c6qs2tGDDt",
        "outputId": "eb76474d-ae45-4b43-af1e-32310876f639"
      },
      "execution_count": null,
      "outputs": [
        {
          "output_type": "execute_result",
          "data": {
            "text/plain": [
              "array([0, 0, 0, 1, 2])"
            ]
          },
          "metadata": {},
          "execution_count": 95
        }
      ]
    },
    {
      "cell_type": "markdown",
      "source": [
        "Say it's a fuzzy-like logic; we want to return 0 for any negative number and 1 for any positive number"
      ],
      "metadata": {
        "id": "ke1epjb-Lfdo"
      }
    },
    {
      "cell_type": "code",
      "source": [
        "result = np.where(arr < 0, 0, 1)\n",
        "result"
      ],
      "metadata": {
        "colab": {
          "base_uri": "https://localhost:8080/"
        },
        "id": "EUBmY7AKLe5Y",
        "outputId": "70b662e7-996d-499a-c4c8-ef1bb03832a0"
      },
      "execution_count": null,
      "outputs": [
        {
          "output_type": "execute_result",
          "data": {
            "text/plain": [
              "array([0, 0, 1, 1, 1])"
            ]
          },
          "metadata": {},
          "execution_count": 96
        }
      ]
    },
    {
      "cell_type": "markdown",
      "source": [
        "Note that when we only pass a condition, the function returns an array with indices of the items where this condition was met."
      ],
      "metadata": {
        "id": "UBGlSi6WbwP9"
      }
    },
    {
      "cell_type": "code",
      "source": [
        "np.where(arr < 0)"
      ],
      "metadata": {
        "colab": {
          "base_uri": "https://localhost:8080/"
        },
        "id": "jiSOlQYTb9eA",
        "outputId": "d04ec284-d392-466c-e243-ad9bdf669ffb"
      },
      "execution_count": null,
      "outputs": [
        {
          "output_type": "execute_result",
          "data": {
            "text/plain": [
              "(array([0, 1]),)"
            ]
          },
          "metadata": {},
          "execution_count": 98
        }
      ]
    },
    {
      "cell_type": "markdown",
      "source": [
        "As you can see, we got 0 & 1 because only arr[0] & arr[1] are negative values.\n",
        "<br>\n",
        "<br>\n",
        "If the array is 2D, we got 2 arrays, first one represent the x-coordinate index and 2nd one represent the y-coordinate index"
      ],
      "metadata": {
        "id": "Vr2xJuFXcWEq"
      }
    },
    {
      "cell_type": "code",
      "source": [
        "arr = np.array([[1,2,-1], [-2,2,5]])\n",
        "np.where(arr < 0)"
      ],
      "metadata": {
        "colab": {
          "base_uri": "https://localhost:8080/"
        },
        "id": "W2h9GuPHcn7I",
        "outputId": "398fb26e-e0cc-4052-f0b5-4ea367e90a60"
      },
      "execution_count": null,
      "outputs": [
        {
          "output_type": "execute_result",
          "data": {
            "text/plain": [
              "(array([0, 1]), array([2, 0]))"
            ]
          },
          "metadata": {},
          "execution_count": 99
        }
      ]
    },
    {
      "cell_type": "markdown",
      "source": [
        "The condition is met in locations => (0, 2), (1, 0)"
      ],
      "metadata": {
        "id": "zvHQ-Rb6c-fR"
      }
    },
    {
      "cell_type": "markdown",
      "source": [
        "# Mathematical & Statistical Methods\n",
        "These functions are used to find some statistical information about the array's data.\n",
        "<br>\n",
        "For example, aggregation functions like sum, mean, etc.\n",
        "<br>\n",
        "Most of these function exist as both a numpy method an array class method. Ex:"
      ],
      "metadata": {
        "id": "ZKeGD8dIoNRb"
      }
    },
    {
      "cell_type": "code",
      "source": [
        "arr = np.array([1,2,3,4,5,6,7,8,9,10])\n",
        "\n",
        "print(arr.mean()) # array_obj.method_name()\n",
        "print()\n",
        "print(np.mean(arr)) # np.method_name(arr) => the array obj must be passed as the first argument\n"
      ],
      "metadata": {
        "colab": {
          "base_uri": "https://localhost:8080/"
        },
        "id": "N7pKCCdhozgq",
        "outputId": "1074f78d-c235-429e-fcc4-d8385b70aee2"
      },
      "execution_count": null,
      "outputs": [
        {
          "output_type": "stream",
          "name": "stdout",
          "text": [
            "5.5\n",
            "\n",
            "5.5\n"
          ]
        }
      ]
    },
    {
      "cell_type": "markdown",
      "source": [
        "Some of these functions takes an optional argument to do calculations across a single axis.\n",
        "<br>\n",
        "For example, find the mean across rows or columns only."
      ],
      "metadata": {
        "id": "sFRRZY1-sipC"
      }
    },
    {
      "cell_type": "code",
      "source": [
        "# Create a matrix starting from 1 to 10 - 1\n",
        "arr = np.reshape(np.arange(1, 10), (3,3))\n",
        "arr"
      ],
      "metadata": {
        "colab": {
          "base_uri": "https://localhost:8080/"
        },
        "id": "2oa1lY44rd5q",
        "outputId": "e65bd950-317b-4405-dc78-4100395f0b96"
      },
      "execution_count": null,
      "outputs": [
        {
          "output_type": "execute_result",
          "data": {
            "text/plain": [
              "array([[1, 2, 3],\n",
              "       [4, 5, 6],\n",
              "       [7, 8, 9]])"
            ]
          },
          "metadata": {},
          "execution_count": 86
        }
      ]
    },
    {
      "cell_type": "code",
      "source": [
        "print(arr.mean(axis=0)) # Get mean across columns\n",
        "\n",
        "print(arr.mean(axis=1)) # Get mean across rows"
      ],
      "metadata": {
        "colab": {
          "base_uri": "https://localhost:8080/"
        },
        "id": "URVjbf8isfsD",
        "outputId": "c47d3cb3-9b34-4fe0-a70b-1160addae932"
      },
      "execution_count": null,
      "outputs": [
        {
          "output_type": "stream",
          "name": "stdout",
          "text": [
            "[4. 5. 6.]\n",
            "[2. 5. 8.]\n"
          ]
        }
      ]
    },
    {
      "cell_type": "markdown",
      "source": [
        "Other functions like cumsum() do not aggregate, instead producing an array\n",
        " of the **intermediate cumulative** results"
      ],
      "metadata": {
        "id": "nQSXW8kGt2_2"
      }
    },
    {
      "cell_type": "code",
      "source": [
        "arr.cumsum() # => cumulative sum"
      ],
      "metadata": {
        "colab": {
          "base_uri": "https://localhost:8080/"
        },
        "id": "IyCiGBshtidy",
        "outputId": "04962c0b-ed44-43cd-f85e-fa0d04405ed5"
      },
      "execution_count": null,
      "outputs": [
        {
          "output_type": "execute_result",
          "data": {
            "text/plain": [
              "array([ 1,  3,  6, 10, 15, 21, 28, 36, 45])"
            ]
          },
          "metadata": {},
          "execution_count": 88
        }
      ]
    },
    {
      "cell_type": "code",
      "source": [
        " arr.cumsum(axis=0) # => cumulative sum across columns"
      ],
      "metadata": {
        "colab": {
          "base_uri": "https://localhost:8080/"
        },
        "id": "E8rk9FDjuUo0",
        "outputId": "e29bb6b5-9171-4b61-8b6a-885c82f1f329"
      },
      "execution_count": null,
      "outputs": [
        {
          "output_type": "execute_result",
          "data": {
            "text/plain": [
              "array([[ 1,  2,  3],\n",
              "       [ 5,  7,  9],\n",
              "       [12, 15, 18]])"
            ]
          },
          "metadata": {},
          "execution_count": 89
        }
      ]
    },
    {
      "cell_type": "code",
      "source": [
        "arr.cumsum(axis=1) # => cumulative sum across rows"
      ],
      "metadata": {
        "colab": {
          "base_uri": "https://localhost:8080/"
        },
        "id": "y3h20-e5ujQ8",
        "outputId": "f2e22ee3-7f4d-4540-8d4f-63addd8948ef"
      },
      "execution_count": null,
      "outputs": [
        {
          "output_type": "execute_result",
          "data": {
            "text/plain": [
              "array([[ 1,  3,  6],\n",
              "       [ 4,  9, 15],\n",
              "       [ 7, 15, 24]])"
            ]
          },
          "metadata": {},
          "execution_count": 90
        }
      ]
    },
    {
      "cell_type": "markdown",
      "source": [
        "#Methods for Boolean Arrays\n",
        "Some methods are used to get information about the sum, percent, or any statistical analysis about true & false values."
      ],
      "metadata": {
        "id": "C3B8dIafvNDN"
      }
    },
    {
      "cell_type": "code",
      "source": [
        "arr = np.reshape(np.arange(-5, 4), (3,3))\n",
        "arr"
      ],
      "metadata": {
        "colab": {
          "base_uri": "https://localhost:8080/"
        },
        "id": "Jz7gmIt5vf78",
        "outputId": "a8ab0c0d-2e4c-42d5-b2b4-78e139327274"
      },
      "execution_count": null,
      "outputs": [
        {
          "output_type": "execute_result",
          "data": {
            "text/plain": [
              "array([[-5, -4, -3],\n",
              "       [-2, -1,  0],\n",
              "       [ 1,  2,  3]])"
            ]
          },
          "metadata": {},
          "execution_count": 91
        }
      ]
    },
    {
      "cell_type": "code",
      "source": [
        "arr > 0"
      ],
      "metadata": {
        "colab": {
          "base_uri": "https://localhost:8080/"
        },
        "id": "mvQHdAKdv5Rj",
        "outputId": "adfef4cd-22ee-42a7-e6d6-a84fd329075f"
      },
      "execution_count": null,
      "outputs": [
        {
          "output_type": "execute_result",
          "data": {
            "text/plain": [
              "array([[False, False, False],\n",
              "       [False, False, False],\n",
              "       [ True,  True,  True]])"
            ]
          },
          "metadata": {},
          "execution_count": 92
        }
      ]
    },
    {
      "cell_type": "code",
      "source": [
        "(arr > 0).sum() # => We got 3 true values"
      ],
      "metadata": {
        "colab": {
          "base_uri": "https://localhost:8080/"
        },
        "id": "HaCcdMSfvzdk",
        "outputId": "4b7d54dc-5e20-4d8c-8546-3227385e195d"
      },
      "execution_count": null,
      "outputs": [
        {
          "output_type": "execute_result",
          "data": {
            "text/plain": [
              "np.int64(3)"
            ]
          },
          "metadata": {},
          "execution_count": 95
        }
      ]
    },
    {
      "cell_type": "code",
      "source": [
        "arr.size - (arr > 0).sum() # => We got 9 - 3 = 6 false values"
      ],
      "metadata": {
        "colab": {
          "base_uri": "https://localhost:8080/"
        },
        "id": "PQnvXZfJv-iy",
        "outputId": "e08fad48-6cd7-4b37-a99d-683e235e8c20"
      },
      "execution_count": null,
      "outputs": [
        {
          "output_type": "execute_result",
          "data": {
            "text/plain": [
              "np.int64(6)"
            ]
          },
          "metadata": {},
          "execution_count": 96
        }
      ]
    },
    {
      "cell_type": "markdown",
      "source": [
        "Other frequently used functions are **any** & **all**:\n",
        "<br>\n",
        "\n",
        "1.   **any** checks if the boolean array has any true value. It returns **True** if it has at least 1 true value.\n",
        "2.   **all** checks if all values of it are true and only then returns **True**."
      ],
      "metadata": {
        "id": "NXa3a7eewV0z"
      }
    },
    {
      "cell_type": "code",
      "source": [
        "boolean_arr = (arr > 0)\n",
        "print(boolean_arr.any())\n",
        "print(boolean_arr.all())"
      ],
      "metadata": {
        "colab": {
          "base_uri": "https://localhost:8080/"
        },
        "id": "AOUp-_sMwOdT",
        "outputId": "7e7a8bec-7ae8-420c-a24b-e9c4bea41dde"
      },
      "execution_count": null,
      "outputs": [
        {
          "output_type": "stream",
          "name": "stdout",
          "text": [
            "True\n",
            "False\n"
          ]
        }
      ]
    },
    {
      "cell_type": "markdown",
      "source": [
        "#Sorting"
      ],
      "metadata": {
        "id": "xtR1y1nT29-U"
      }
    },
    {
      "cell_type": "code",
      "source": [
        "# sort() method:\n",
        "arr = np.arange(9, 0, -1)\n",
        "print(arr)\n",
        "\n",
        "sorted_arr = arr.sort()\n",
        "print(sorted_arr)"
      ],
      "metadata": {
        "colab": {
          "base_uri": "https://localhost:8080/"
        },
        "id": "t3o5m-7I3CHU",
        "outputId": "e3b71ae3-a3e1-4f51-fd9f-e98da4bbb31c"
      },
      "execution_count": null,
      "outputs": [
        {
          "output_type": "stream",
          "name": "stdout",
          "text": [
            "[9 8 7 6 5 4 3 2 1]\n",
            "None\n"
          ]
        }
      ]
    },
    {
      "cell_type": "markdown",
      "source": [
        "Notice that the variable sorted_arr has a None value.\n",
        "<br>\n",
        "This is because sorting is happening on the original array, in place. No copy is created.\n",
        "<br>\n",
        "So if we want to keep the original copy, we need to copy the array first."
      ],
      "metadata": {
        "id": "eX9_wA713mWc"
      }
    },
    {
      "cell_type": "code",
      "source": [
        "arr # The original array got sorted"
      ],
      "metadata": {
        "colab": {
          "base_uri": "https://localhost:8080/"
        },
        "id": "N4r37PaZ36bD",
        "outputId": "7faecd1a-ef9e-4bd6-85d8-d138bf81e51d"
      },
      "execution_count": null,
      "outputs": [
        {
          "output_type": "execute_result",
          "data": {
            "text/plain": [
              "array([1, 2, 3, 4, 5, 6, 7, 8, 9])"
            ]
          },
          "metadata": {},
          "execution_count": 99
        }
      ]
    },
    {
      "cell_type": "code",
      "source": [
        "arr = np.arange(9, 0, -1)\n",
        "print(arr)\n",
        "\n",
        "sorted_arr = arr.copy()\n",
        "sorted_arr.sort()\n",
        "print(sorted_arr)"
      ],
      "metadata": {
        "colab": {
          "base_uri": "https://localhost:8080/"
        },
        "id": "FVy3rXrJ4B_L",
        "outputId": "93274787-aab8-4a29-fd4e-5adfea2d1f06"
      },
      "execution_count": null,
      "outputs": [
        {
          "output_type": "stream",
          "name": "stdout",
          "text": [
            "[9 8 7 6 5 4 3 2 1]\n",
            "[1 2 3 4 5 6 7 8 9]\n"
          ]
        }
      ]
    },
    {
      "cell_type": "markdown",
      "source": [
        " The top-level method numpy.sort returns a sorted copy of an array (like the Python\n",
        " built-in function sorted) instead of modifying the array in place."
      ],
      "metadata": {
        "id": "wUyOjtDP4xMd"
      }
    },
    {
      "cell_type": "code",
      "source": [
        "sorted_arr_2 = np.sort(arr)\n",
        "sorted_arr_2"
      ],
      "metadata": {
        "colab": {
          "base_uri": "https://localhost:8080/"
        },
        "id": "ZFjv35f640sT",
        "outputId": "1275b230-5b53-4a26-fd66-7568759a36f5"
      },
      "execution_count": null,
      "outputs": [
        {
          "output_type": "execute_result",
          "data": {
            "text/plain": [
              "array([1, 2, 3, 4, 5, 6, 7, 8, 9])"
            ]
          },
          "metadata": {},
          "execution_count": 101
        }
      ]
    },
    {
      "cell_type": "markdown",
      "source": [
        "Note that if we're sorting a 2D array, we may be interested in changing the the axis that we're sorting across.\n",
        "<br>\n",
        "<br>\n",
        "By default, the value of the **axis** parameter is 0, sorting across cols. However, we can change this to 1 if we want to sort across rows."
      ],
      "metadata": {
        "id": "MEASyx2fca09"
      }
    },
    {
      "cell_type": "code",
      "source": [
        "b = np.array([[9, 2, 7],\n",
        "              [4, 5, 1]])\n",
        "\n",
        "c = np.sort(b, axis=0)\n",
        "# Sorts each column:\n",
        "# array([[4, 2, 1],\n",
        "#        [9, 5, 7]])\n",
        "print(c)\n",
        "print()\n",
        "\n",
        "d = np.sort(b, axis=1)\n",
        "# Sorts each row:\n",
        "# array([[2, 7, 9],\n",
        "#        [1, 4, 5]])\n",
        "print(d)"
      ],
      "metadata": {
        "colab": {
          "base_uri": "https://localhost:8080/"
        },
        "id": "ReF5WeD1cvZN",
        "outputId": "07ef1384-c786-462f-cc6e-7cc3630b413f"
      },
      "execution_count": null,
      "outputs": [
        {
          "output_type": "stream",
          "name": "stdout",
          "text": [
            "[[4 2 1]\n",
            " [9 5 7]]\n",
            "\n",
            "[[2 7 9]\n",
            " [1 4 5]]\n"
          ]
        }
      ]
    },
    {
      "cell_type": "markdown",
      "source": [
        "#Other Basic Operations:"
      ],
      "metadata": {
        "id": "FRRdHuF82Opc"
      }
    },
    {
      "cell_type": "code",
      "source": [
        "import numpy as np\n",
        "\n",
        "names = np.array([\"Bob\", \"Will\", \"Joe\", \"Bob\", \"Will\", \"Joe\", \"Joe\", \"Kevin\"])\n",
        "\n",
        "np.unique(names)"
      ],
      "metadata": {
        "colab": {
          "base_uri": "https://localhost:8080/"
        },
        "id": "nMF-9rRy09GG",
        "outputId": "54ccdbdf-45d4-47a1-986b-b841e5c6c902"
      },
      "execution_count": null,
      "outputs": [
        {
          "output_type": "execute_result",
          "data": {
            "text/plain": [
              "array(['Bob', 'Joe', 'Kevin', 'Will'], dtype='<U5')"
            ]
          },
          "metadata": {},
          "execution_count": 104
        }
      ]
    },
    {
      "cell_type": "markdown",
      "source": [
        "We can use the **set( )** function, python pure alternative, but it would be slower."
      ],
      "metadata": {
        "id": "8054t6bN2zn1"
      }
    },
    {
      "cell_type": "code",
      "source": [
        "print(set(names))\n",
        "\n",
        "print()\n",
        "\n",
        "# For a user-friendly output\n",
        "pythonic_set = {str(name) for name in set(names)}\n",
        "pythonic_set"
      ],
      "metadata": {
        "colab": {
          "base_uri": "https://localhost:8080/"
        },
        "id": "NCUDzMf35LzU",
        "outputId": "c282f560-d3eb-4e3c-c24d-2eec6110b5b3"
      },
      "execution_count": null,
      "outputs": [
        {
          "output_type": "stream",
          "name": "stdout",
          "text": [
            "{np.str_('Bob'), np.str_('Joe'), np.str_('Kevin'), np.str_('Will')}\n",
            "\n"
          ]
        },
        {
          "output_type": "execute_result",
          "data": {
            "text/plain": [
              "{'Bob', 'Joe', 'Kevin', 'Will'}"
            ]
          },
          "metadata": {},
          "execution_count": 108
        }
      ]
    },
    {
      "cell_type": "markdown",
      "source": [
        "**in1d(x,y)** function checks whether elements in array x exists in array with element y"
      ],
      "metadata": {
        "id": "lP3xLMDY6nh-"
      }
    },
    {
      "cell_type": "code",
      "source": [
        "matrix = np.array([[1,2], [3,4], [5,6]])\n",
        "\n",
        "values = np.array([1,3,6,7,8,0])\n",
        "\n",
        "np.in1d(values, matrix)"
      ],
      "metadata": {
        "colab": {
          "base_uri": "https://localhost:8080/"
        },
        "id": "f3BUwNjT6SEV",
        "outputId": "a5d262da-5b8f-46d7-9b6c-a40ff4ae0bb6"
      },
      "execution_count": null,
      "outputs": [
        {
          "output_type": "stream",
          "name": "stderr",
          "text": [
            "<ipython-input-110-5ce06a27661d>:5: DeprecationWarning: `in1d` is deprecated. Use `np.isin` instead.\n",
            "  np.in1d(values, matrix)\n"
          ]
        },
        {
          "output_type": "execute_result",
          "data": {
            "text/plain": [
              "array([ True,  True,  True, False, False, False])"
            ]
          },
          "metadata": {},
          "execution_count": 110
        }
      ]
    },
    {
      "cell_type": "markdown",
      "source": [
        "As we can see from the output, this function is *deprecated* and we should be using **isin(x,y)** instead.\n",
        "<br>\n",
        "<br>\n",
        "This name actually makes more sense because **in1d( )** gives an indication that we're working with 1D arrays only; his is why I tried it with a 2D array in the example above and it still worked, surprisingly to me."
      ],
      "metadata": {
        "id": "JmSAe9Wg7UFN"
      }
    },
    {
      "cell_type": "code",
      "source": [
        "np.isin(values, matrix)"
      ],
      "metadata": {
        "colab": {
          "base_uri": "https://localhost:8080/"
        },
        "id": "yy8F_xHq7yP2",
        "outputId": "29d94363-e857-41ce-e4f1-7863f36ade3e"
      },
      "execution_count": null,
      "outputs": [
        {
          "output_type": "execute_result",
          "data": {
            "text/plain": [
              "array([ True,  True,  True, False, False, False])"
            ]
          },
          "metadata": {},
          "execution_count": 111
        }
      ]
    },
    {
      "cell_type": "markdown",
      "source": [
        "You can save and load numpy arrays to and from your hard disk using\n",
        "\n",
        "\n",
        "*   np.save('file_path',arr_variable)\n",
        "*   np.load('file_path')\n",
        "\n"
      ],
      "metadata": {
        "id": "fVZVH8zM9X2g"
      }
    },
    {
      "cell_type": "markdown",
      "source": [
        "#Linear Algebra"
      ],
      "metadata": {
        "id": "JfbOc2Uz9781"
      }
    },
    {
      "cell_type": "code",
      "source": [
        "# Dot Product\n",
        "\n",
        "x = np.array([[1, 2, 3], [4, 5, 6]])\n",
        "\n",
        "y = np.array([[6, 23], [-1, 7], [8, 9]])\n",
        "\n",
        "print(x.dot(y))\n",
        "\n",
        "print()\n",
        "\n",
        "print(np.dot(x,y))\n",
        "\n",
        "print()\n",
        "\n",
        "print(x @ y)"
      ],
      "metadata": {
        "colab": {
          "base_uri": "https://localhost:8080/"
        },
        "id": "D60RDmmF-P2m",
        "outputId": "0a6635ad-b96d-49d1-b1f6-978873a590f2"
      },
      "execution_count": null,
      "outputs": [
        {
          "output_type": "stream",
          "name": "stdout",
          "text": [
            "[[ 28  64]\n",
            " [ 67 181]]\n",
            "\n",
            "[[ 28  64]\n",
            " [ 67 181]]\n",
            "\n",
            "[[ 28  64]\n",
            " [ 67 181]]\n"
          ]
        }
      ]
    },
    {
      "cell_type": "code",
      "source": [
        "# Dot product of X Transpose and X\n",
        "\n",
        "x.T @ x"
      ],
      "metadata": {
        "colab": {
          "base_uri": "https://localhost:8080/"
        },
        "id": "gz1AfdCk_FVm",
        "outputId": "623e613d-2325-4943-d94c-3563001f6add"
      },
      "execution_count": null,
      "outputs": [
        {
          "output_type": "execute_result",
          "data": {
            "text/plain": [
              "array([[17, 22, 27],\n",
              "       [22, 29, 36],\n",
              "       [27, 36, 45]])"
            ]
          },
          "metadata": {},
          "execution_count": 113
        }
      ]
    },
    {
      "cell_type": "markdown",
      "source": [
        "## Broadcasting:\n",
        "Evaluating operations between differently sized arrays.\n",
        "<br>\n",
        "Previously, we did vectorized operations between:\n",
        "1. A scalar & an array\n",
        "2. 2 arrays of the same size\n",
        "\n",
        "Broadcasting involve doing similar operations across differently sized arrays.\n",
        "<br>\n",
        "Actually, when we used scalar vectorized operations, we were using broadcasting.\n",
        "<br>\n",
        "For example, line 1 here is working as if it got turned into line 2 underneath the hood.\n",
        "<br>\n",
        "<br>\n",
        "Note that **numpy doesn't actually create this stretched up array**.\n",
        "```python\n",
        "np.arr([1,2,3,4]) * 2\n",
        "# np.arr([1,2,3,4]) * np.arr([2,2,2,2])\n",
        "```\n",
        "<br>\n",
        "For broadcasting to work, corresponding dimensions must be compatible.\n",
        "<br>\n",
        "Two corresponding dimensions are compatible if:\n",
        "\n",
        "1.   One of them has length of 1\n",
        "2.   They are of equal lengths\n",
        "\n",
        "All corresponding dimensions must be compatible.\n",
        "<br>\n",
        "![image.png](data:image/png;base64,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)"
      ],
      "metadata": {
        "id": "XYx7vbif8kNP"
      }
    },
    {
      "cell_type": "markdown",
      "source": [
        "Ex:\n",
        "Broadcastable Shapes:\n",
        "\n",
        "1. (10, 5) & (10, 1)\n",
        "2. (10, 5) & (5, ) => Because rightmost dimension length is the same.\n",
        "\n",
        "Not Broadcastable Shapes:\n",
        "\n",
        "1. (10, 5) & (5, 10)\n",
        "2. (10, 5) & (10, )"
      ],
      "metadata": {
        "id": "GPbsJtF1a2z7"
      }
    },
    {
      "cell_type": "code",
      "source": [
        "# Ex:\n",
        "array_1 = np.array([[0, 1, 2, 3, 4], [5, 6, 7, 8, 9]])\n",
        "array_2 = np.array([0, 1, 2, 3, 4])\n",
        "\n",
        "# shapes: (2, 5) & (1, 5) => Compatible\n",
        "\n",
        "array_1 + array_2"
      ],
      "metadata": {
        "colab": {
          "base_uri": "https://localhost:8080/"
        },
        "id": "ol86JwW3bsNC",
        "outputId": "46930ea0-1f4a-40a4-ff93-ace33dbe7f31"
      },
      "execution_count": null,
      "outputs": [
        {
          "output_type": "execute_result",
          "data": {
            "text/plain": [
              "array([[ 0,  2,  4,  6,  8],\n",
              "       [ 5,  7,  9, 11, 13]])"
            ]
          },
          "metadata": {},
          "execution_count": 5
        }
      ]
    },
    {
      "cell_type": "markdown",
      "source": [
        "![image.png](data:image/png;base64,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)"
      ],
      "metadata": {
        "id": "W4MkTKnFcIZd"
      }
    },
    {
      "cell_type": "code",
      "source": [
        "# Ex:\n",
        "array_1 = np.array([[0, 1, 2, 3, 4], [5, 6, 7, 8, 9]])\n",
        "array_2 = np.array([0, 1])\n",
        "\n",
        "# shapes: (2, 5) & (1, ) => Incompatible, let's make them compatible\n",
        "array_2 = array_2.reshape((2, 1))\n",
        "\n",
        "# shapes: (2, 5) & (2, 1) => Compatible\n",
        "\n",
        "array_1 + array_2"
      ],
      "metadata": {
        "colab": {
          "base_uri": "https://localhost:8080/"
        },
        "id": "maABX9_WcI_Z",
        "outputId": "fa315ea0-c0ae-4506-95ac-948e385cc419"
      },
      "execution_count": null,
      "outputs": [
        {
          "output_type": "execute_result",
          "data": {
            "text/plain": [
              "array([[ 0,  1,  2,  3,  4],\n",
              "       [ 6,  7,  8,  9, 10]])"
            ]
          },
          "metadata": {},
          "execution_count": 6
        }
      ]
    },
    {
      "cell_type": "markdown",
      "source": [
        "![image.png](data:image/png;base64,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)"
      ],
      "metadata": {
        "id": "W1O0FAuCdtns"
      }
    },
    {
      "cell_type": "markdown",
      "source": [
        "#Stacking & Splitting"
      ],
      "metadata": {
        "id": "2o-cCdqtrTtV"
      }
    },
    {
      "cell_type": "markdown",
      "source": [
        "```\n",
        "np.split(array, indices_or_sections, axis=0)\n",
        "\n",
        "```\n",
        "Splits one array into multiple sub-arrays along a specified axis.\n",
        "<br>\n",
        "If you give an integer, the array must be evenly divisible.\n"
      ],
      "metadata": {
        "id": "1yealR2DtQe9"
      }
    },
    {
      "cell_type": "code",
      "source": [
        "# Ex:\n",
        "a = np.array([[1, 2, 3, 4],\n",
        "              [5, 6, 7, 8]])\n",
        "\n",
        "# Split into 2 equal parts along axis 1 (columns)\n",
        "np.split(a, 2, axis=1)\n",
        "# → [array([[1, 2],\n",
        "#           [5, 6]]),\n",
        "#    array([[3, 4],\n",
        "#           [7, 8]])]\n",
        "\n",
        "# 2 Columns for every array"
      ],
      "metadata": {
        "colab": {
          "base_uri": "https://localhost:8080/"
        },
        "id": "9lUTBnjEtYpW",
        "outputId": "cad2d6ca-c403-47d3-bef1-99c50e75ec5f"
      },
      "execution_count": null,
      "outputs": [
        {
          "output_type": "execute_result",
          "data": {
            "text/plain": [
              "[array([[1, 2],\n",
              "        [5, 6]]),\n",
              " array([[3, 4],\n",
              "        [7, 8]])]"
            ]
          },
          "metadata": {},
          "execution_count": 7
        }
      ]
    },
    {
      "cell_type": "markdown",
      "source": [
        "```\n",
        "np.stack(arrays, axis=0)\n",
        "```\n",
        "Stacks multiple arrays along a new axis. This function requires the 2 arrays to have the same shape and dimensions."
      ],
      "metadata": {
        "id": "RnJd3H8ouX2M"
      }
    },
    {
      "cell_type": "code",
      "source": [
        "# Ex:\n",
        "a = np.array([1, 2, 3])\n",
        "b = np.array([4, 5, 6])\n",
        "\n",
        "print(np.stack((a, b), axis=0))\n",
        "# → array([[1, 2, 3],\n",
        "#          [4, 5, 6]])   ← stacked along rows (new axis 0)\n",
        "print()\n",
        "\n",
        "print(np.stack((a, b), axis=1))\n",
        "# → array([[1, 4],\n",
        "#          [2, 5],\n",
        "#          [3, 6]])   ← stacked along columns (new axis 1)"
      ],
      "metadata": {
        "colab": {
          "base_uri": "https://localhost:8080/"
        },
        "id": "RD3u9T9nuE9W",
        "outputId": "88774219-b659-4867-9a8c-31a9cdc744eb"
      },
      "execution_count": null,
      "outputs": [
        {
          "output_type": "stream",
          "name": "stdout",
          "text": [
            "[[1 2 3]\n",
            " [4 5 6]]\n",
            "\n",
            "[[1 4]\n",
            " [2 5]\n",
            " [3 6]]\n"
          ]
        }
      ]
    },
    {
      "cell_type": "code",
      "source": [],
      "metadata": {
        "id": "0sTSfwZRvHNQ"
      },
      "execution_count": null,
      "outputs": []
    }
  ]
}